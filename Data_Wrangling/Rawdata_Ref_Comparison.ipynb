{
 "cells": [
  {
   "cell_type": "markdown",
   "metadata": {},
   "source": [
    "### Preliminary Data Wrangling. The objectives of this file are to connect REF files with Raw Data Downloads"
   ]
  },
  {
   "cell_type": "markdown",
   "metadata": {},
   "source": [
    "Importing necessary packages "
   ]
  },
  {
   "cell_type": "code",
   "execution_count": 5,
   "metadata": {},
   "outputs": [
    {
     "ename": "ModuleNotFoundError",
     "evalue": "No module named 'ace_tools'",
     "output_type": "error",
     "traceback": [
      "\u001b[1;31m---------------------------------------------------------------------------\u001b[0m",
      "\u001b[1;31mModuleNotFoundError\u001b[0m                       Traceback (most recent call last)",
      "Cell \u001b[1;32mIn[5], line 6\u001b[0m\n\u001b[0;32m      4\u001b[0m \u001b[38;5;28;01mimport\u001b[39;00m\u001b[38;5;250m \u001b[39m\u001b[38;5;21;01mnumpy\u001b[39;00m\u001b[38;5;250m \u001b[39m\u001b[38;5;28;01mas\u001b[39;00m\u001b[38;5;250m \u001b[39m\u001b[38;5;21;01mnp\u001b[39;00m\n\u001b[0;32m      5\u001b[0m \u001b[38;5;28;01mimport\u001b[39;00m\u001b[38;5;250m \u001b[39m\u001b[38;5;21;01mwarnings\u001b[39;00m\n\u001b[1;32m----> 6\u001b[0m \u001b[38;5;28;01mimport\u001b[39;00m\u001b[38;5;250m \u001b[39m\u001b[38;5;21;01mace_tools\u001b[39;00m\u001b[38;5;250m \u001b[39m\u001b[38;5;28;01mas\u001b[39;00m\u001b[38;5;250m \u001b[39m\u001b[38;5;21;01mtools\u001b[39;00m\n\u001b[0;32m      7\u001b[0m warnings\u001b[38;5;241m.\u001b[39msimplefilter(\u001b[38;5;124m\"\u001b[39m\u001b[38;5;124mignore\u001b[39m\u001b[38;5;124m\"\u001b[39m)\n\u001b[0;32m      9\u001b[0m \u001b[38;5;66;03m# Setting working directory and reading in files: \u001b[39;00m\n",
      "\u001b[1;31mModuleNotFoundError\u001b[0m: No module named 'ace_tools'"
     ]
    }
   ],
   "source": [
    "#Importing necessary packages\n",
    "import pandas as pd\n",
    "import os \n",
    "import numpy as np\n",
    "import warnings\n",
    "import ace_tools as tools\n",
    "warnings.simplefilter(\"ignore\")\n",
    "\n",
    "# Setting working directory and reading in files: \n",
    "os.chdir(r\"C:\\Users\\mmath\\OneDrive\\Desktop\\Capstone\\raw_data\\raw_data2023\")\n"
   ]
  },
  {
   "cell_type": "markdown",
   "metadata": {},
   "source": [
    "Loading in all raw data & REF files and the REF files by storing them into dictionaries  "
   ]
  },
  {
   "cell_type": "code",
   "execution_count": 54,
   "metadata": {},
   "outputs": [
    {
     "name": "stdout",
     "output_type": "stream",
     "text": [
      "Updated sheet names: dict_keys(['dref_ref2023', 'diststaar1_ref2023', 'diststaar2_ref2023', 'diststaar3_ref2023', 'diststaar4_ref2023', 'diststaar5_ref2023', 'diststaar6_ref2023', 'diststaarv_ref2023', 'distpart1_ref2023', 'distpart1a_ref2023', 'distpart2_ref2023', 'diststaar_add1_ref2023', 'distgrad_ref2023', 'distcomp_ref2023', 'distperf1_ref2023', 'distperf2_ref2023', 'distperf3_ref2023', 'distprof_ref2023'])\n"
     ]
    }
   ],
   "source": [
    "### Storing all raw data files in a dictionary ### \n",
    "# Get a list of all CSV files in the directory (These are the raw data files )\n",
    "csv_files = [f for f in os.listdir() if f.endswith('.csv')]\n",
    "\n",
    "# Read each CSV file and store it in a dictionary with lowercase keys\n",
    "RAWDATA_23 = {file.split('.')[0].lower(): pd.read_csv(file) for file in csv_files}\n",
    "\n",
    "\n",
    "### Storing all ref files in a dictionary ### \n",
    "# Define file path for the Excel file\n",
    "file_path = r\"TAPR_district_adv_2023.xlsx\"\n",
    "\n",
    "# Get all sheet names\n",
    "sheetname_ref = pd.ExcelFile(file_path).sheet_names\n",
    "\n",
    "# Read all sheets into a dictionary with modified keys\n",
    "REF_23 = {sheet + \"_ref2023\": pd.read_excel(file_path, sheet_name=sheet) for sheet in sheetname_ref}\n",
    "\n",
    "# Display the updated dictionary keys\n",
    "print(\"Updated sheet names:\", REF_23.keys())"
   ]
  },
  {
   "cell_type": "markdown",
   "metadata": {},
   "source": [
    "Comparing the shapes between the REF and raw_data files to see if the ref has all column names "
   ]
  },
  {
   "cell_type": "code",
   "execution_count": 56,
   "metadata": {},
   "outputs": [
    {
     "ename": "ModuleNotFoundError",
     "evalue": "No module named 'ace_tools'",
     "output_type": "error",
     "traceback": [
      "\u001b[1;31m---------------------------------------------------------------------------\u001b[0m",
      "\u001b[1;31mModuleNotFoundError\u001b[0m                       Traceback (most recent call last)",
      "Cell \u001b[1;32mIn[56], line 33\u001b[0m\n\u001b[0;32m     30\u001b[0m comparison_df \u001b[38;5;241m=\u001b[39m pd\u001b[38;5;241m.\u001b[39mDataFrame\u001b[38;5;241m.\u001b[39mfrom_dict(shape_comparison, orient\u001b[38;5;241m=\u001b[39m\u001b[38;5;124m'\u001b[39m\u001b[38;5;124mindex\u001b[39m\u001b[38;5;124m'\u001b[39m)\n\u001b[0;32m     32\u001b[0m \u001b[38;5;66;03m# Display the comparison results\u001b[39;00m\n\u001b[1;32m---> 33\u001b[0m \u001b[38;5;28;01mimport\u001b[39;00m\u001b[38;5;250m \u001b[39m\u001b[38;5;21;01mace_tools\u001b[39;00m\u001b[38;5;250m \u001b[39m\u001b[38;5;28;01mas\u001b[39;00m\u001b[38;5;250m \u001b[39m\u001b[38;5;21;01mtools\u001b[39;00m\n\u001b[0;32m     34\u001b[0m tools\u001b[38;5;241m.\u001b[39mdisplay_dataframe_to_user(name\u001b[38;5;241m=\u001b[39m\u001b[38;5;124m\"\u001b[39m\u001b[38;5;124mShape Comparison Results\u001b[39m\u001b[38;5;124m\"\u001b[39m, dataframe\u001b[38;5;241m=\u001b[39mcomparison_df)\n",
      "\u001b[1;31mModuleNotFoundError\u001b[0m: No module named 'ace_tools'"
     ]
    }
   ],
   "source": [
    "# Create a dictionary to store comparison results\n",
    "shape_comparison = {}\n",
    "\n",
    "# Iterate through each file in RAWDATA_23\n",
    "for raw_key, raw_df in RAWDATA_23.items():\n",
    "    # Extract the base name before the first underscore (_)\n",
    "    base_name = raw_key.split(\"_\")[0]\n",
    "    \n",
    "    # Find the matching key in REF_23 (case-insensitive match)\n",
    "    matching_key = next((key for key in REF_23 if key.lower().startswith(base_name.lower())), None)\n",
    "    \n",
    "    if matching_key:\n",
    "        # Get the corresponding DataFrame from REF_23\n",
    "        ref_df = REF_23[matching_key]\n",
    "        \n",
    "        # Compare shapes\n",
    "        shape_comparison[raw_key] = {\n",
    "            \"RAWDATA_23_shape\": raw_df.shape,\n",
    "            \"REF_23_shape\": ref_df.shape,\n",
    "            \"Match\": raw_df.shape == ref_df.shape\n",
    "        }\n",
    "    else:\n",
    "        shape_comparison[raw_key] = {\n",
    "            \"RAWDATA_23_shape\": raw_df.shape,\n",
    "            \"REF_23_shape\": None,\n",
    "            \"Match\": False\n",
    "        }\n",
    "\n",
    "# Convert results into a DataFrame for easy viewing\n",
    "comparison_df = pd.DataFrame.from_dict(shape_comparison, orient='index')\n",
    "\n",
    "# Display the comparison results\n",
    "tools.display_dataframe_to_user(name=\"Shape Comparison Results\", dataframe=comparison_df)\n"
   ]
  }
 ],
 "metadata": {
  "kernelspec": {
   "display_name": "Python 3",
   "language": "python",
   "name": "python3"
  },
  "language_info": {
   "codemirror_mode": {
    "name": "ipython",
    "version": 3
   },
   "file_extension": ".py",
   "mimetype": "text/x-python",
   "name": "python",
   "nbconvert_exporter": "python",
   "pygments_lexer": "ipython3",
   "version": "3.12.4"
  }
 },
 "nbformat": 4,
 "nbformat_minor": 2
}
