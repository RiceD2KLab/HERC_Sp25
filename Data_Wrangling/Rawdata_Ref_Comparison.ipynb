{
 "cells": [
  {
   "cell_type": "markdown",
   "metadata": {},
   "source": [
    "### Preliminary Data Wrangling. The objectives of this file are to connect REF files with Raw Data Downloads\n",
    "* Note: This should work for 2020 - 2023 data"
   ]
  },
  {
   "cell_type": "markdown",
   "metadata": {},
   "source": [
    "Importing necessary packages "
   ]
  },
  {
   "cell_type": "code",
   "execution_count": null,
   "metadata": {},
   "outputs": [],
   "source": [
    "#Importing necessary packages\n",
    "import pandas as pd\n",
    "import os \n",
    "import numpy as np\n",
    "import warnings\n",
    "warnings.simplefilter(\"ignore\")"
   ]
  },
  {
   "cell_type": "markdown",
   "metadata": {},
   "source": [
    "Loading in all raw data & REF files and the REF files by storing them into dictionaries (HELPER FUNCTION)"
   ]
  },
  {
   "cell_type": "code",
   "execution_count": 27,
   "metadata": {},
   "outputs": [],
   "source": [
    "def load_data(directory, year):\n",
    "    \"\"\"\n",
    "    Reads all CSV files in the specified directory into a dictionary (RAWDATA) \n",
    "    and loads all sheets from an Excel file into another dictionary (REF).\n",
    "    \n",
    "    Args:\n",
    "        directory (str): The path to the directory containing the raw data files.\n",
    "        year (int or str): The year to append to dictionary keys.\n",
    "    \n",
    "    Returns:\n",
    "        tuple: (RAWDATA, REF)\n",
    "    \"\"\"\n",
    "    \n",
    "    # Change to the specified directory\n",
    "    os.chdir(directory)\n",
    "\n",
    "    # Store all raw CSV data in a dictionary with dynamic year\n",
    "    csv_files = [f for f in os.listdir() if f.endswith('.csv')]\n",
    "    RAWDATA = {file.split('.')[0].lower(): pd.read_csv(file) for file in csv_files}\n",
    "\n",
    "    # Look for an Excel file (assuming there's only one Excel file in the directory)\n",
    "    excel_files = [f for f in os.listdir() if f.endswith('.xlsx') or f.endswith('.xls')]\n",
    "    \n",
    "    REF = {}\n",
    "    if excel_files:\n",
    "        file_path = excel_files[0]  # Taking the first Excel file found\n",
    "        sheetname_ref = pd.ExcelFile(file_path).sheet_names\n",
    "        REF = {f\"{sheet}_ref{year}\": pd.read_excel(file_path, sheet_name=sheet) for sheet in sheetname_ref}\n",
    "\n",
    "    # Return both dictionaries\n",
    "    return RAWDATA, REF\n",
    "\n",
    "rawdata_23, ref_23 = load_data(r\"C:\\Users\\mmath\\OneDrive\\Desktop\\Capstone\\HERC_Sp25\\Data_Scraping\\Raw Data\\raw_data2023\", 2023)"
   ]
  },
  {
   "cell_type": "markdown",
   "metadata": {},
   "source": [
    "Mapping the column ID names in the raw data with the actual column names in the REF file "
   ]
  },
  {
   "cell_type": "code",
   "execution_count": 29,
   "metadata": {},
   "outputs": [
    {
     "name": "stdout",
     "output_type": "stream",
     "text": [
      "Renamed and stored 5 DataFrames.\n"
     ]
    }
   ],
   "source": [
    "def rename_columns_using_ref(rawdata, ref):\n",
    "    \"\"\"\n",
    "    Renames columns in each DataFrame in rawdata using the corresponding mapping found in ref.\n",
    "\n",
    "    Args:\n",
    "        rawdata (dict): Dictionary containing raw DataFrames with keys as filenames.\n",
    "        ref (dict): Dictionary containing reference DataFrames with keys as filenames.\n",
    "\n",
    "    Returns:\n",
    "        dict: Dictionary containing renamed DataFrames.\n",
    "    \"\"\"\n",
    "    \n",
    "    updated_data = {}  # Dictionary to store updated DataFrames\n",
    "\n",
    "    for raw_key, raw_df in rawdata.items():\n",
    "        # Extract base name before the first underscore (_)\n",
    "        base_name = raw_key.split(\"_\")[0]\n",
    "        \n",
    "        # Find the matching key in REF (case-insensitive)\n",
    "        matching_key = next((key for key in ref if key.lower().startswith(base_name.lower())), None)\n",
    "        \n",
    "        if matching_key:\n",
    "            # Extract mapping from REF (second column = column ID, third column = actual column name)\n",
    "            ref_df = ref[matching_key]\n",
    "            column_mapping = dict(zip(ref_df.iloc[:, 1], ref_df.iloc[:, 2]))  # Map column ID → Actual name\n",
    "            \n",
    "            # Rename columns in RAWDATA DataFrame\n",
    "            renamed_df = raw_df.rename(columns=column_mapping)\n",
    "            \n",
    "            # Store in updated_data with the original key\n",
    "            updated_data[raw_key] = renamed_df\n",
    "\n",
    "    # Print confirmation\n",
    "    print(f\"Renamed and stored {len(updated_data)} DataFrames.\")\n",
    "\n",
    "    return updated_data\n",
    "\n",
    "# Example Usage:\n",
    "data_23 = rename_columns_using_ref(rawdata_23, ref_23)\n"
   ]
  },
  {
   "cell_type": "markdown",
   "metadata": {},
   "source": [
    "Old Code without making it into a function. "
   ]
  },
  {
   "cell_type": "code",
   "execution_count": null,
   "metadata": {},
   "outputs": [],
   "source": [
    "os.chdir(r\"C:\\Users\\mmath\\OneDrive\\Desktop\\Capstone\\HERC_Sp25\\Data_Scraping\\Raw Data\\raw_data2023\")\n",
    "\n",
    "### Storing all raw data files in a dictionary ### \n",
    "# Get a list of all CSV files in the directory (These are the raw data files )\n",
    "csv_files = [f for f in os.listdir() if f.endswith('.csv')]\n",
    "\n",
    "# Read each CSV file and store it in a dictionary with lowercase keys\n",
    "RAWDATA_23 = {file.split('.')[0].lower(): pd.read_csv(file) for file in csv_files}\n",
    "\n",
    "\n",
    "### Storing all ref files in a dictionary ### \n",
    "# Define file path for the Excel file\n",
    "file_path = r\"TAPR_district_adv_2023.xlsx\"\n",
    "\n",
    "# Get all sheet names\n",
    "sheetname_ref = pd.ExcelFile(file_path).sheet_names\n",
    "\n",
    "# Read all sheets into a dictionary with modified keys\n",
    "REF_23 = {sheet + \"_ref2023\": pd.read_excel(file_path, sheet_name=sheet) for sheet in sheetname_ref}\n",
    "\n",
    "# Display the updated dictionary keys\n",
    "print(\"Updated sheet names:\", REF_23.keys())\n",
    "\n",
    "\n",
    "# Create a dictionary to store comparison results\n",
    "shape_comparison = {}\n",
    "\n",
    "# Iterate through each file in RAWDATA_23\n",
    "for raw_key, raw_df in RAWDATA_23.items():\n",
    "    # Extract the base name before the first underscore (_)\n",
    "    base_name = raw_key.split(\"_\")[0]\n",
    "    \n",
    "    # Find the matching key in REF_23 (case-insensitive match)\n",
    "    matching_key = next((key for key in REF_23 if key.lower().startswith(base_name.lower())), None)\n",
    "    \n",
    "    if matching_key:\n",
    "        # Get the corresponding DataFrame from REF_23\n",
    "        ref_df = REF_23[matching_key]\n",
    "        \n",
    "        # Compare shapes\n",
    "        shape_comparison[raw_key] = {\n",
    "            \"RAWDATA_23_shape\": raw_df.shape,\n",
    "            \"REF_23_shape\": ref_df.shape,\n",
    "        }\n",
    "    else:\n",
    "        shape_comparison[raw_key] = {\n",
    "            \"RAWDATA_23_shape\": raw_df.shape,\n",
    "            \"REF_23_shape\": None,\n",
    "        }\n",
    "\n",
    "# Convert results into a DataFrame for easy viewing\n",
    "comparison_df = pd.DataFrame.from_dict(shape_comparison, orient='index')\n",
    "print(comparison_df)\n",
    "\n",
    "DATA23 = {}  # Dictionary to store updated DataFrames\n",
    "\n",
    "for raw_key, raw_df in RAWDATA_23.items():\n",
    "    # Extract base name before the first underscore (_)\n",
    "    base_name = raw_key.split(\"_\")[0]\n",
    "    \n",
    "    # Find the matching key in REF_23 (case-insensitive)\n",
    "    matching_key = next((key for key in REF_23 if key.lower().startswith(base_name.lower())), None)\n",
    "    \n",
    "    if matching_key:\n",
    "        # Extract mapping from REF_23 (second column = column ID, third column = actual column name)\n",
    "        ref_df = REF_23[matching_key]\n",
    "        column_mapping = dict(zip(ref_df.iloc[:, 1], ref_df.iloc[:, 2]))  # Map column ID → Actual name\n",
    "        \n",
    "        # Rename columns in RAWDATA DataFrame\n",
    "        renamed_df = raw_df.rename(columns=column_mapping)\n",
    "        \n",
    "        # Store in DATA23 with the original key\n",
    "        DATA23[raw_key] = renamed_df\n",
    "\n",
    "# Print confirmation\n",
    "print(f\"Renamed and stored {len(DATA23)} DataFrames in DATA23.\")\n",
    "\n",
    "\n"
   ]
  }
 ],
 "metadata": {
  "kernelspec": {
   "display_name": "Python 3",
   "language": "python",
   "name": "python3"
  },
  "language_info": {
   "codemirror_mode": {
    "name": "ipython",
    "version": 3
   },
   "file_extension": ".py",
   "mimetype": "text/x-python",
   "name": "python",
   "nbconvert_exporter": "python",
   "pygments_lexer": "ipython3",
   "version": "3.12.4"
  }
 },
 "nbformat": 4,
 "nbformat_minor": 2
}
