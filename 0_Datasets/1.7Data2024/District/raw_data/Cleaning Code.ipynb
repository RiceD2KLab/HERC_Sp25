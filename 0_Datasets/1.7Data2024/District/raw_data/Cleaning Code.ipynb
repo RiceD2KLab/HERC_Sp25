{
 "cells": [
  {
   "cell_type": "code",
   "execution_count": 2,
   "id": "2d2a39f1",
   "metadata": {},
   "outputs": [],
   "source": [
    "import os"
   ]
  },
  {
   "cell_type": "code",
   "execution_count": null,
   "id": "dc7ff93a",
   "metadata": {},
   "outputs": [],
   "source": [
    "os.chdir(r\"C:\\Users\\mmath\\OneDrive\\Desktop\\Capstone\\HERC_Sp25\\0_Datasets\\1.7Data2024\\District\\raw_data\")\n",
    "from wrangling import process_and_save_all_data\n"
   ]
  },
  {
   "cell_type": "code",
   "execution_count": 81,
   "id": "1416c8b8",
   "metadata": {},
   "outputs": [
    {
     "name": "stdout",
     "output_type": "stream",
     "text": [
      "Processed 7 DataFrames (Renamed: 5, Unchanged: 2).\n",
      "Joining on: ref[DISTRICT] with main[DISTRICT_id]\n",
      "\n",
      "Merging distperf1_2024:\n",
      "  - Shape of merge_df before merge: (1207, 950)\n",
      "  - Shape of df_to_be_merged: (1207, 2036)\n",
      "  - Merged with LEFT join on 'DISTRICT_id'. New shape: (1207, 2985)\n",
      "\n",
      "Merging distperf2_2024:\n",
      "  - Shape of merge_df before merge: (1207, 2985)\n",
      "  - Shape of df_to_be_merged: (1207, 1289)\n",
      "  - Merged with LEFT join on 'DISTRICT_id'. New shape: (1207, 4273)\n",
      "\n",
      "Merging distprof_2024:\n",
      "  - Shape of merge_df before merge: (1207, 4273)\n",
      "  - Shape of df_to_be_merged: (1207, 421)\n",
      "  - Merged with LEFT join on 'DISTRICT_id'. New shape: (1207, 4693)\n",
      "\n",
      "Merging diststaar1_2024:\n",
      "  - Shape of merge_df before merge: (1207, 4693)\n",
      "  - Shape of df_to_be_merged: (1207, 1891)\n",
      "  - Merged with LEFT join on 'DISTRICT_id'. New shape: (1207, 6583)\n",
      "\n",
      "Merging district_type2024 (merged last):\n",
      "  - Shape of merge_df before merge: (1207, 6583)\n",
      "  - Shape of df_to_be_merged: (1217, 7)\n",
      "  - Merged with LEFT join on 'DISTRICT_id' and 'District Number'. New shape: (1207, 6590)\n"
     ]
    }
   ],
   "source": [
    "from importlib import reload\n",
    "import wrangling\n",
    "reload(wrangling)\n",
    "from wrangling import load_data, primary_data_cleaning, rename_columns_using_ref, join_with_reference, merge_data_frames\n",
    "\n",
    "rawdata, rawref = load_data(r\"C:\\Users\\mmath\\OneDrive\\Desktop\\Capstone\\HERC_Sp25\\0_Datasets\\1.7Data2024\\District\\raw_data\", 2024)\n",
    "data_1 = primary_data_cleaning(rawdata, \"D\")\n",
    "data_2 = rename_columns_using_ref(data_1, rawref)\n",
    "data_3 = join_with_reference(data_2, 'D')\n",
    "data_4 = merge_data_frames(data_3, \"D\")"
   ]
  },
  {
   "cell_type": "code",
   "execution_count": 94,
   "id": "40f03f91",
   "metadata": {},
   "outputs": [
    {
     "name": "stdout",
     "output_type": "stream",
     "text": [
      "Processed 7 DataFrames (Renamed: 5, Unchanged: 2).\n",
      "Joining on: ref[DISTRICT] with main[DISTRICT_id]\n",
      "\n",
      "Merging distperf1_2024:\n",
      "  - Shape of merge_df before merge: (1207, 950)\n",
      "  - Shape of df_to_be_merged: (1207, 2036)\n",
      "  - Merged with LEFT join on 'DISTRICT_id'. New shape: (1207, 2985)\n",
      "\n",
      "Merging distperf2_2024:\n",
      "  - Shape of merge_df before merge: (1207, 2985)\n",
      "  - Shape of df_to_be_merged: (1207, 1289)\n",
      "  - Merged with LEFT join on 'DISTRICT_id'. New shape: (1207, 4273)\n",
      "\n",
      "Merging distprof_2024:\n",
      "  - Shape of merge_df before merge: (1207, 4273)\n",
      "  - Shape of df_to_be_merged: (1207, 421)\n",
      "  - Merged with LEFT join on 'DISTRICT_id'. New shape: (1207, 4693)\n",
      "\n",
      "Merging diststaar1_2024:\n",
      "  - Shape of merge_df before merge: (1207, 4693)\n",
      "  - Shape of df_to_be_merged: (1207, 1891)\n",
      "  - Merged with LEFT join on 'DISTRICT_id'. New shape: (1207, 6583)\n",
      "\n",
      "Merging district_type2024 (merged last):\n",
      "  - Shape of merge_df before merge: (1207, 6583)\n",
      "  - Shape of df_to_be_merged: (1217, 7)\n",
      "  - Merged with LEFT join on 'DISTRICT_id' and 'District Number'. New shape: (1207, 6590)\n"
     ]
    }
   ],
   "source": [
    "os.chdir(r\"C:\\Users\\mmath\\OneDrive\\Desktop\\Capstone\\HERC_Sp25\\0_Datasets\\1.7Data2024\\District\\raw_data\")\n",
    "reload(wrangling)\n",
    "from wrangling import processing\n",
    "data = processing(r\"C:\\Users\\mmath\\OneDrive\\Desktop\\Capstone\\HERC_Sp25\\0_Datasets\\1.7Data2024\\District\\raw_data\", 2024, 'D')\n"
   ]
  },
  {
   "cell_type": "code",
   "execution_count": 98,
   "id": "cc6a953b",
   "metadata": {},
   "outputs": [],
   "source": [
    "data['merged'].to_csv(\"merged_2024.csv\", index = False)"
   ]
  },
  {
   "cell_type": "code",
   "execution_count": null,
   "id": "50cead19",
   "metadata": {},
   "outputs": [],
   "source": []
  }
 ],
 "metadata": {
  "kernelspec": {
   "display_name": "Python 3",
   "language": "python",
   "name": "python3"
  },
  "language_info": {
   "codemirror_mode": {
    "name": "ipython",
    "version": 3
   },
   "file_extension": ".py",
   "mimetype": "text/x-python",
   "name": "python",
   "nbconvert_exporter": "python",
   "pygments_lexer": "ipython3",
   "version": "3.12.4"
  }
 },
 "nbformat": 4,
 "nbformat_minor": 5
}
