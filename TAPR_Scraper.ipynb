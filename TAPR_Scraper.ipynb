{
 "cells": [
  {
   "cell_type": "markdown",
   "metadata": {},
   "source": [
    "## Import Necessary Libraries and Functions\n",
    "We are using Selenium - in particular webdriver, By, and NoSuchElementException, time, and os. "
   ]
  },
  {
   "cell_type": "code",
   "execution_count": 1,
   "metadata": {},
   "outputs": [],
   "source": [
    "import time\n",
    "from selenium import webdriver\n",
    "from selenium.webdriver.common.by import By\n",
    "from selenium.common.exceptions import NoSuchElementException\n",
    "import os"
   ]
  },
  {
   "cell_type": "markdown",
   "metadata": {},
   "source": [
    "## Function for TAPR Scraping\n",
    "This function takes two list inputs and a string:\n",
    "* years is a list of YYYY integers (ex. 2018)\n",
    "* variables is a list of strings where each string is a dataset available on TAPR (ex. PROF)\n",
    "* directory_path_name is a string that is a path name of a directory where you would like to save the data\n",
    "The function saves all .csv or .dat files to your local directory in separate directories for each year. "
   ]
  },
  {
   "cell_type": "code",
   "execution_count": null,
   "metadata": {},
   "outputs": [],
   "source": [
    "def tapr_scraper(years, variables, directory_path_name):\n",
    "    for year in years:\n",
    "    # access TAPR for each year\n",
    "        dir_name = f\"raw_data{year}\" # name a directory to store the raw data for that particular year\n",
    "        os.makedirs(dir_name, exist_ok=True) # create the directory unless it already exists\n",
    "        chromeOptions = webdriver.ChromeOptions() #creating chrome options object\n",
    "        prefs = {\"download.default_directory\" : f\"{directory_path_name}/{dir_name}\"}\n",
    "        chromeOptions.add_experimental_option(\"prefs\",prefs) # adding the directory - this directory will created wherever you are running the script\n",
    "        driver = webdriver.Chrome(options=chromeOptions) # all files that are downloaded in the driver will now download to your directory (instead of \"Downloads\" folder)\n",
    "        driver.get(f\"https://rptsvr1.tea.texas.gov/perfreport/tapr/{year}/download/DownloadData.html\") # open the TAPR url, depending on the year\n",
    "        # select district\n",
    "        district_select = driver.find_element(By.XPATH, \"//input[@type='radio' and @name='sumlev' and @value='D']\") # select district level data\n",
    "        district_select.click() # click the button\n",
    "        already_saved_or_not_available = 0\n",
    "        print(f\"Downloading Data for {year}\")\n",
    "        for var in variables: # for each data set\n",
    "            print(f\"Checking for DIST{var} data...\")\n",
    "            file_patterns = [f\"DIST{var}.csv\", f\"DIST{var}.dat\", f\"D{var}.dat\", f\"D{var}.csv\"]\n",
    "            if any(os.path.isfile(f\"{directory_path_name}/{dir_name}/{file}\") for file in file_patterns):\n",
    "                print(f\"{var} already exists\")\n",
    "                already_saved_or_not_available += 1\n",
    "                continue\n",
    "            try:\n",
    "                select_data = driver.find_element(By.XPATH, f\"//input[@type='radio' and @name='setpick' and @value='{var}']\")\n",
    "                select_data.click() # click the data button\n",
    "                download = driver.find_element(By.XPATH, \"//input[@type='submit' and @value='Continue']\")\n",
    "                download.click() # download the data\n",
    "                print(f\"Downloaded {var} for {year}\")\n",
    "            except NoSuchElementException:\n",
    "                print(f\"{var} not found for {year}\") # in case it doesn't exist, such as PERF1 not existing in earlier data\n",
    "                already_saved_or_not_available += 1\n",
    "                continue\n",
    "        if already_saved_or_not_available != len(variables):\n",
    "            time.sleep(60) # wait for all files to download before quitting the driver\n",
    "        driver.quit() # quit driver for that year\n"
   ]
  },
  {
   "cell_type": "code",
   "execution_count": null,
   "metadata": {},
   "outputs": [],
   "source": [
    "# Run the function with all currently available years and all the TAPR datasets\n",
    "tapr_2018_2023 = list(range(2018, 2024)) # all years with data that is currently available\n",
    "\n",
    "data_acronyms = ['PROF', 'PERF1', 'GRAD', 'STAAR1', 'REF', 'PERF'] # all the measures located on the TAPR website\n",
    "\n",
    "tapr_scraper(years = tapr_2018_2023, variables = data_acronyms, directory_path_name = \"/Users/biancaschutz/HERC\")"
   ]
  }
 ],
 "metadata": {
  "kernelspec": {
   "display_name": "Python 3",
   "language": "python",
   "name": "python3"
  },
  "language_info": {
   "codemirror_mode": {
    "name": "ipython",
    "version": 3
   },
   "file_extension": ".py",
   "mimetype": "text/x-python",
   "name": "python",
   "nbconvert_exporter": "python",
   "pygments_lexer": "ipython3",
   "version": "3.9.7"
  }
 },
 "nbformat": 4,
 "nbformat_minor": 2
}
