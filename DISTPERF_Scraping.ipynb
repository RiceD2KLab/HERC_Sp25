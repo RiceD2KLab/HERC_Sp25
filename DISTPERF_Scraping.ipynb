{
 "cells": [
  {
   "cell_type": "markdown",
   "metadata": {},
   "source": [
    "Create a scraper that opens the TEA TAPR Advanced Download Menu; \n",
    "\n",
    "Automatically Selects: \n",
    "- \"District\" Radio Button\n",
    "- \"College, Career, and Military Readiness (CCMR), TSIA, College Prep\" Radio Button\n",
    "- \"Continue\" Radio Button \n",
    "\n"
   ]
  },
  {
   "cell_type": "code",
   "execution_count": null,
   "metadata": {},
   "outputs": [],
   "source": [
    "#Importing necessary packages \n",
    "from selenium import webdriver\n",
    "from selenium.webdriver.chrome.service import Service\n",
    "from selenium.webdriver.common.by import By\n",
    "from selenium.webdriver.support.ui import WebDriverWait\n",
    "from selenium.webdriver.support import expected_conditions as EC\n",
    "from webdriver_manager.chrome import ChromeDriverManager\n",
    "import time"
   ]
  },
  {
   "cell_type": "code",
   "execution_count": null,
   "metadata": {},
   "outputs": [
    {
     "name": "stdout",
     "output_type": "stream",
     "text": [
      "Selecting 'District' radio button...\n",
      "✅ Selected 'District'\n",
      "Selecting 'College, Career, and Military Readiness (CCMR), TSIA, College Prep' radio button...\n",
      "✅ Selected 'College, Career, and Military Readiness (CCMR), TSIA, College Prep'\n",
      "✅ Download completed!\n"
     ]
    }
   ],
   "source": [
    "# Setup WebDriver\n",
    "options = webdriver.ChromeOptions()\n",
    "options.add_experimental_option(\"prefs\", {\n",
    "    \"download.default_directory\": r\"C:\\Users\\YourUsername\\Downloads\",  # Change this path\n",
    "    \"download.prompt_for_download\": False,\n",
    "    \"download.directory_upgrade\": True,\n",
    "    \"safebrowsing.enabled\": True\n",
    "})\n",
    "\n",
    "# Initialize Chrome WebDriver\n",
    "service = Service(ChromeDriverManager().install())\n",
    "driver = webdriver.Chrome(service=service, options=options)\n",
    "\n",
    "# Open the webpage\n",
    "url = \"https://rptsvr1.tea.texas.gov/perfreport/tapr/2023/download/DownloadData.html\"\n",
    "driver.get(url)\n",
    "\n",
    "# Wait for the page to load\n",
    "wait = WebDriverWait(driver, 10)\n",
    "\n",
    "# List of radio button labels to select\n",
    "radio_labels = [\n",
    "    \"District\",\n",
    "    \"College, Career, and Military Readiness (CCMR), TSIA, College Prep\"\n",
    "]\n",
    "\n",
    "try:\n",
    "    # Find all labels on the page\n",
    "    labels = driver.find_elements(By.TAG_NAME, \"label\")\n",
    "\n",
    "    for label_text in radio_labels:\n",
    "        print(f\"Selecting '{label_text}' radio button...\")\n",
    "\n",
    "        # Find the label that matches the desired text\n",
    "        for label in labels:\n",
    "            if label_text in label.text:\n",
    "                # Find the associated radio button inside the label\n",
    "                radio_button = label.find_element(By.TAG_NAME, \"input\")\n",
    "\n",
    "                # Scroll into view\n",
    "                driver.execute_script(\"arguments[0].scrollIntoView();\", radio_button)\n",
    "\n",
    "                # Click the radio button\n",
    "                driver.execute_script(\"arguments[0].click();\", radio_button)\n",
    "                print(f\"✅ Selected '{label.text}'\")\n",
    "\n",
    "                # Break after selecting the correct one\n",
    "                break\n",
    "\n",
    "    # Wait briefly before clicking Continue\n",
    "    time.sleep(2)\n",
    "\n",
    "    # Click the \"Continue\" button ONCE after selecting all radio buttons\n",
    "    continue_button = wait.until(EC.element_to_be_clickable((By.XPATH, \"//input[@type='submit' and @value='Continue']\")))\n",
    "    driver.execute_script(\"arguments[0].click();\", continue_button)\n",
    "\n",
    "    # Wait for the download to complete\n",
    "    time.sleep(5)\n",
    "\n",
    "except Exception as e:\n",
    "    print(f\"❌ Error: {e}\")\n",
    "\n",
    "# Close the browser\n",
    "driver.quit()\n",
    "\n",
    "print(\"✅ Download completed!\")"
   ]
  }
 ],
 "metadata": {
  "kernelspec": {
   "display_name": "Python 3",
   "language": "python",
   "name": "python3"
  },
  "language_info": {
   "codemirror_mode": {
    "name": "ipython",
    "version": 3
   },
   "file_extension": ".py",
   "mimetype": "text/x-python",
   "name": "python",
   "nbconvert_exporter": "python",
   "pygments_lexer": "ipython3",
   "version": "3.12.4"
  }
 },
 "nbformat": 4,
 "nbformat_minor": 2
}
