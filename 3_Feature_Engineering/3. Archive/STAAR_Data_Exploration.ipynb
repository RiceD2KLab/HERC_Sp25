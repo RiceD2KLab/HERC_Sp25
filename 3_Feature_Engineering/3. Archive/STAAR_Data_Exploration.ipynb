{
 "cells": [
  {
   "cell_type": "code",
   "execution_count": 1,
   "id": "9c2be3c5",
   "metadata": {},
   "outputs": [],
   "source": [
    "import os\n",
    "import pandas as pd"
   ]
  },
  {
   "cell_type": "code",
   "execution_count": 2,
   "id": "2231ef8f",
   "metadata": {},
   "outputs": [],
   "source": [
    "os.chdir(r\"C:\\Users\\mmath\\OneDrive\\Desktop\\Capstone\\HERC_Sp25\\5_Dashboard_Development\")"
   ]
  },
  {
   "cell_type": "code",
   "execution_count": 14,
   "id": "d9c05e80",
   "metadata": {},
   "outputs": [],
   "source": [
    "from utils.KNN_Outcome_Plots import plot_staar\n",
    "from utils.getData import load_data_from_github, get_subject_level_averages"
   ]
  },
  {
   "cell_type": "code",
   "execution_count": null,
   "id": "e3a63fbb",
   "metadata": {},
   "outputs": [],
   "source": [
    "data = load_data_from_github(2024)\n",
    "df = data[0]\n"
   ]
  },
  {
   "cell_type": "code",
   "execution_count": 15,
   "id": "23a8fe37",
   "metadata": {},
   "outputs": [
    {
     "data": {
      "text/html": [
       "<div>\n",
       "<style scoped>\n",
       "    .dataframe tbody tr th:only-of-type {\n",
       "        vertical-align: middle;\n",
       "    }\n",
       "\n",
       "    .dataframe tbody tr th {\n",
       "        vertical-align: top;\n",
       "    }\n",
       "\n",
       "    .dataframe thead th {\n",
       "        text-align: right;\n",
       "    }\n",
       "</style>\n",
       "<table border=\"1\" class=\"dataframe\">\n",
       "  <thead>\n",
       "    <tr style=\"text-align: right;\">\n",
       "      <th></th>\n",
       "      <th>DISTNAME</th>\n",
       "      <th>DISTRICT_id</th>\n",
       "      <th>Mathematics (Approaches Grade Level)</th>\n",
       "      <th>Reading/ELA (Approaches Grade Level)</th>\n",
       "      <th>Writing (Approaches Grade Level)</th>\n",
       "      <th>Science (Approaches Grade Level)</th>\n",
       "      <th>Social Studies (Approaches Grade Level)</th>\n",
       "      <th>Mathematics (Meets Grade Level)</th>\n",
       "      <th>Reading/ELA (Meets Grade Level)</th>\n",
       "      <th>Writing (Meets Grade Level)</th>\n",
       "      <th>Science (Meets Grade Level)</th>\n",
       "      <th>Social Studies (Meets Grade Level)</th>\n",
       "      <th>Mathematics (Masters Grade Level)</th>\n",
       "      <th>Reading/ELA (Masters Grade Level)</th>\n",
       "      <th>Writing (Masters Grade Level)</th>\n",
       "      <th>Science (Masters Grade Level)</th>\n",
       "      <th>Social Studies (Masters Grade Level)</th>\n",
       "    </tr>\n",
       "  </thead>\n",
       "  <tbody>\n",
       "    <tr>\n",
       "      <th>0</th>\n",
       "      <td>CAYUGA ISD</td>\n",
       "      <td>1902</td>\n",
       "      <td>41.127273</td>\n",
       "      <td>49.245455</td>\n",
       "      <td>NaN</td>\n",
       "      <td>34.756098</td>\n",
       "      <td>35.523810</td>\n",
       "      <td>25.090909</td>\n",
       "      <td>34.518182</td>\n",
       "      <td>NaN</td>\n",
       "      <td>23.097561</td>\n",
       "      <td>22.523810</td>\n",
       "      <td>7.418182</td>\n",
       "      <td>16.772727</td>\n",
       "      <td>NaN</td>\n",
       "      <td>6.634146</td>\n",
       "      <td>8.000000</td>\n",
       "    </tr>\n",
       "    <tr>\n",
       "      <th>1</th>\n",
       "      <td>ELKHART ISD</td>\n",
       "      <td>1903</td>\n",
       "      <td>46.154412</td>\n",
       "      <td>56.335821</td>\n",
       "      <td>NaN</td>\n",
       "      <td>47.543478</td>\n",
       "      <td>27.900000</td>\n",
       "      <td>25.536765</td>\n",
       "      <td>33.328358</td>\n",
       "      <td>NaN</td>\n",
       "      <td>20.717391</td>\n",
       "      <td>9.500000</td>\n",
       "      <td>7.389706</td>\n",
       "      <td>14.156716</td>\n",
       "      <td>NaN</td>\n",
       "      <td>6.369565</td>\n",
       "      <td>4.100000</td>\n",
       "    </tr>\n",
       "    <tr>\n",
       "      <th>2</th>\n",
       "      <td>FRANKSTON ISD</td>\n",
       "      <td>1904</td>\n",
       "      <td>48.846774</td>\n",
       "      <td>52.098361</td>\n",
       "      <td>NaN</td>\n",
       "      <td>41.738095</td>\n",
       "      <td>38.045455</td>\n",
       "      <td>30.637097</td>\n",
       "      <td>34.598361</td>\n",
       "      <td>NaN</td>\n",
       "      <td>20.595238</td>\n",
       "      <td>20.727273</td>\n",
       "      <td>11.112903</td>\n",
       "      <td>13.106557</td>\n",
       "      <td>NaN</td>\n",
       "      <td>4.047619</td>\n",
       "      <td>6.818182</td>\n",
       "    </tr>\n",
       "    <tr>\n",
       "      <th>3</th>\n",
       "      <td>NECHES ISD</td>\n",
       "      <td>1906</td>\n",
       "      <td>44.364583</td>\n",
       "      <td>51.020833</td>\n",
       "      <td>NaN</td>\n",
       "      <td>37.375000</td>\n",
       "      <td>42.937500</td>\n",
       "      <td>29.656250</td>\n",
       "      <td>31.791667</td>\n",
       "      <td>NaN</td>\n",
       "      <td>23.000000</td>\n",
       "      <td>15.500000</td>\n",
       "      <td>10.489583</td>\n",
       "      <td>12.395833</td>\n",
       "      <td>NaN</td>\n",
       "      <td>1.875000</td>\n",
       "      <td>1.875000</td>\n",
       "    </tr>\n",
       "    <tr>\n",
       "      <th>4</th>\n",
       "      <td>PALESTINE ISD</td>\n",
       "      <td>1907</td>\n",
       "      <td>65.880000</td>\n",
       "      <td>65.975460</td>\n",
       "      <td>NaN</td>\n",
       "      <td>56.649123</td>\n",
       "      <td>48.222222</td>\n",
       "      <td>38.702857</td>\n",
       "      <td>36.668712</td>\n",
       "      <td>NaN</td>\n",
       "      <td>27.087719</td>\n",
       "      <td>20.925926</td>\n",
       "      <td>11.594286</td>\n",
       "      <td>11.822086</td>\n",
       "      <td>NaN</td>\n",
       "      <td>6.596491</td>\n",
       "      <td>8.740741</td>\n",
       "    </tr>\n",
       "    <tr>\n",
       "      <th>...</th>\n",
       "      <td>...</td>\n",
       "      <td>...</td>\n",
       "      <td>...</td>\n",
       "      <td>...</td>\n",
       "      <td>...</td>\n",
       "      <td>...</td>\n",
       "      <td>...</td>\n",
       "      <td>...</td>\n",
       "      <td>...</td>\n",
       "      <td>...</td>\n",
       "      <td>...</td>\n",
       "      <td>...</td>\n",
       "      <td>...</td>\n",
       "      <td>...</td>\n",
       "      <td>...</td>\n",
       "      <td>...</td>\n",
       "      <td>...</td>\n",
       "    </tr>\n",
       "    <tr>\n",
       "      <th>1202</th>\n",
       "      <td>NEWCASTLE ISD</td>\n",
       "      <td>252902</td>\n",
       "      <td>45.307692</td>\n",
       "      <td>47.054945</td>\n",
       "      <td>NaN</td>\n",
       "      <td>30.676471</td>\n",
       "      <td>15.941176</td>\n",
       "      <td>25.538462</td>\n",
       "      <td>28.747253</td>\n",
       "      <td>NaN</td>\n",
       "      <td>16.941176</td>\n",
       "      <td>8.411765</td>\n",
       "      <td>6.934066</td>\n",
       "      <td>11.021978</td>\n",
       "      <td>NaN</td>\n",
       "      <td>7.441176</td>\n",
       "      <td>4.352941</td>\n",
       "    </tr>\n",
       "    <tr>\n",
       "      <th>1203</th>\n",
       "      <td>OLNEY ISD</td>\n",
       "      <td>252903</td>\n",
       "      <td>41.920290</td>\n",
       "      <td>46.843750</td>\n",
       "      <td>NaN</td>\n",
       "      <td>43.304348</td>\n",
       "      <td>41.583333</td>\n",
       "      <td>30.217391</td>\n",
       "      <td>31.015625</td>\n",
       "      <td>NaN</td>\n",
       "      <td>27.543478</td>\n",
       "      <td>26.583333</td>\n",
       "      <td>11.217391</td>\n",
       "      <td>14.203125</td>\n",
       "      <td>NaN</td>\n",
       "      <td>9.978261</td>\n",
       "      <td>13.416667</td>\n",
       "    </tr>\n",
       "    <tr>\n",
       "      <th>1204</th>\n",
       "      <td>ZAPATA COUNTY ISD</td>\n",
       "      <td>253901</td>\n",
       "      <td>71.116279</td>\n",
       "      <td>75.555556</td>\n",
       "      <td>NaN</td>\n",
       "      <td>50.162791</td>\n",
       "      <td>25.619048</td>\n",
       "      <td>39.813953</td>\n",
       "      <td>44.393162</td>\n",
       "      <td>NaN</td>\n",
       "      <td>21.209302</td>\n",
       "      <td>7.000000</td>\n",
       "      <td>14.441860</td>\n",
       "      <td>16.461538</td>\n",
       "      <td>NaN</td>\n",
       "      <td>6.581395</td>\n",
       "      <td>1.714286</td>\n",
       "    </tr>\n",
       "    <tr>\n",
       "      <th>1205</th>\n",
       "      <td>CRYSTAL CITY ISD</td>\n",
       "      <td>254901</td>\n",
       "      <td>48.000000</td>\n",
       "      <td>49.675926</td>\n",
       "      <td>NaN</td>\n",
       "      <td>44.555556</td>\n",
       "      <td>41.444444</td>\n",
       "      <td>23.379630</td>\n",
       "      <td>27.731481</td>\n",
       "      <td>NaN</td>\n",
       "      <td>16.111111</td>\n",
       "      <td>19.777778</td>\n",
       "      <td>6.231481</td>\n",
       "      <td>7.481481</td>\n",
       "      <td>NaN</td>\n",
       "      <td>4.750000</td>\n",
       "      <td>9.055556</td>\n",
       "    </tr>\n",
       "    <tr>\n",
       "      <th>1206</th>\n",
       "      <td>LA PRYOR ISD</td>\n",
       "      <td>254902</td>\n",
       "      <td>42.881720</td>\n",
       "      <td>44.031579</td>\n",
       "      <td>NaN</td>\n",
       "      <td>11.885714</td>\n",
       "      <td>16.117647</td>\n",
       "      <td>18.924731</td>\n",
       "      <td>23.221053</td>\n",
       "      <td>NaN</td>\n",
       "      <td>2.971429</td>\n",
       "      <td>2.941176</td>\n",
       "      <td>2.397849</td>\n",
       "      <td>7.884211</td>\n",
       "      <td>NaN</td>\n",
       "      <td>1.685714</td>\n",
       "      <td>0.000000</td>\n",
       "    </tr>\n",
       "  </tbody>\n",
       "</table>\n",
       "<p>1021 rows × 17 columns</p>\n",
       "</div>"
      ],
      "text/plain": [
       "               DISTNAME  DISTRICT_id  Mathematics (Approaches Grade Level)  \\\n",
       "0            CAYUGA ISD         1902                             41.127273   \n",
       "1           ELKHART ISD         1903                             46.154412   \n",
       "2         FRANKSTON ISD         1904                             48.846774   \n",
       "3            NECHES ISD         1906                             44.364583   \n",
       "4         PALESTINE ISD         1907                             65.880000   \n",
       "...                 ...          ...                                   ...   \n",
       "1202      NEWCASTLE ISD       252902                             45.307692   \n",
       "1203          OLNEY ISD       252903                             41.920290   \n",
       "1204  ZAPATA COUNTY ISD       253901                             71.116279   \n",
       "1205   CRYSTAL CITY ISD       254901                             48.000000   \n",
       "1206       LA PRYOR ISD       254902                             42.881720   \n",
       "\n",
       "      Reading/ELA (Approaches Grade Level)  Writing (Approaches Grade Level)  \\\n",
       "0                                49.245455                               NaN   \n",
       "1                                56.335821                               NaN   \n",
       "2                                52.098361                               NaN   \n",
       "3                                51.020833                               NaN   \n",
       "4                                65.975460                               NaN   \n",
       "...                                    ...                               ...   \n",
       "1202                             47.054945                               NaN   \n",
       "1203                             46.843750                               NaN   \n",
       "1204                             75.555556                               NaN   \n",
       "1205                             49.675926                               NaN   \n",
       "1206                             44.031579                               NaN   \n",
       "\n",
       "      Science (Approaches Grade Level)  \\\n",
       "0                            34.756098   \n",
       "1                            47.543478   \n",
       "2                            41.738095   \n",
       "3                            37.375000   \n",
       "4                            56.649123   \n",
       "...                                ...   \n",
       "1202                         30.676471   \n",
       "1203                         43.304348   \n",
       "1204                         50.162791   \n",
       "1205                         44.555556   \n",
       "1206                         11.885714   \n",
       "\n",
       "      Social Studies (Approaches Grade Level)  \\\n",
       "0                                   35.523810   \n",
       "1                                   27.900000   \n",
       "2                                   38.045455   \n",
       "3                                   42.937500   \n",
       "4                                   48.222222   \n",
       "...                                       ...   \n",
       "1202                                15.941176   \n",
       "1203                                41.583333   \n",
       "1204                                25.619048   \n",
       "1205                                41.444444   \n",
       "1206                                16.117647   \n",
       "\n",
       "      Mathematics (Meets Grade Level)  Reading/ELA (Meets Grade Level)  \\\n",
       "0                           25.090909                        34.518182   \n",
       "1                           25.536765                        33.328358   \n",
       "2                           30.637097                        34.598361   \n",
       "3                           29.656250                        31.791667   \n",
       "4                           38.702857                        36.668712   \n",
       "...                               ...                              ...   \n",
       "1202                        25.538462                        28.747253   \n",
       "1203                        30.217391                        31.015625   \n",
       "1204                        39.813953                        44.393162   \n",
       "1205                        23.379630                        27.731481   \n",
       "1206                        18.924731                        23.221053   \n",
       "\n",
       "      Writing (Meets Grade Level)  Science (Meets Grade Level)  \\\n",
       "0                             NaN                    23.097561   \n",
       "1                             NaN                    20.717391   \n",
       "2                             NaN                    20.595238   \n",
       "3                             NaN                    23.000000   \n",
       "4                             NaN                    27.087719   \n",
       "...                           ...                          ...   \n",
       "1202                          NaN                    16.941176   \n",
       "1203                          NaN                    27.543478   \n",
       "1204                          NaN                    21.209302   \n",
       "1205                          NaN                    16.111111   \n",
       "1206                          NaN                     2.971429   \n",
       "\n",
       "      Social Studies (Meets Grade Level)  Mathematics (Masters Grade Level)  \\\n",
       "0                              22.523810                           7.418182   \n",
       "1                               9.500000                           7.389706   \n",
       "2                              20.727273                          11.112903   \n",
       "3                              15.500000                          10.489583   \n",
       "4                              20.925926                          11.594286   \n",
       "...                                  ...                                ...   \n",
       "1202                            8.411765                           6.934066   \n",
       "1203                           26.583333                          11.217391   \n",
       "1204                            7.000000                          14.441860   \n",
       "1205                           19.777778                           6.231481   \n",
       "1206                            2.941176                           2.397849   \n",
       "\n",
       "      Reading/ELA (Masters Grade Level)  Writing (Masters Grade Level)  \\\n",
       "0                             16.772727                            NaN   \n",
       "1                             14.156716                            NaN   \n",
       "2                             13.106557                            NaN   \n",
       "3                             12.395833                            NaN   \n",
       "4                             11.822086                            NaN   \n",
       "...                                 ...                            ...   \n",
       "1202                          11.021978                            NaN   \n",
       "1203                          14.203125                            NaN   \n",
       "1204                          16.461538                            NaN   \n",
       "1205                           7.481481                            NaN   \n",
       "1206                           7.884211                            NaN   \n",
       "\n",
       "      Science (Masters Grade Level)  Social Studies (Masters Grade Level)  \n",
       "0                          6.634146                              8.000000  \n",
       "1                          6.369565                              4.100000  \n",
       "2                          4.047619                              6.818182  \n",
       "3                          1.875000                              1.875000  \n",
       "4                          6.596491                              8.740741  \n",
       "...                             ...                                   ...  \n",
       "1202                       7.441176                              4.352941  \n",
       "1203                       9.978261                             13.416667  \n",
       "1204                       6.581395                              1.714286  \n",
       "1205                       4.750000                              9.055556  \n",
       "1206                       1.685714                              0.000000  \n",
       "\n",
       "[1021 rows x 17 columns]"
      ]
     },
     "execution_count": 15,
     "metadata": {},
     "output_type": "execute_result"
    }
   ],
   "source": [
    "get_subject_level_averages(df)"
   ]
  },
  {
   "cell_type": "code",
   "execution_count": 25,
   "id": "5ee4c5bd",
   "metadata": {},
   "outputs": [
    {
     "data": {
      "text/html": [
       "<div>\n",
       "<style scoped>\n",
       "    .dataframe tbody tr th:only-of-type {\n",
       "        vertical-align: middle;\n",
       "    }\n",
       "\n",
       "    .dataframe tbody tr th {\n",
       "        vertical-align: top;\n",
       "    }\n",
       "\n",
       "    .dataframe thead th {\n",
       "        text-align: right;\n",
       "    }\n",
       "</style>\n",
       "<table border=\"1\" class=\"dataframe\">\n",
       "  <thead>\n",
       "    <tr style=\"text-align: right;\">\n",
       "      <th></th>\n",
       "      <th>DISTRICT_id</th>\n",
       "      <th>District 2024 Domain 1A: Approaches Grade Level STD, Grade 3, All Students, STAAR Mathematics Rate</th>\n",
       "      <th>District 2024 Domain 1A: Approaches Grade Level STD, Grade 4, All Students, STAAR Mathematics Rate</th>\n",
       "      <th>District 2024 Domain 1A: Approaches Grade Level STD, Grade 5, All Students, STAAR Mathematics Rate</th>\n",
       "      <th>District 2024 Domain 1A: Approaches Grade Level STD, Grade 6, All Students, STAAR Mathematics Rate</th>\n",
       "      <th>District 2024 Domain 1A: Approaches Grade Level STD, Grade 7, All Students, STAAR Mathematics Rate</th>\n",
       "      <th>District 2024 Domain 1A: Approaches Grade Level STD, Grade 8, All Students, STAAR Mathematics Rate</th>\n",
       "    </tr>\n",
       "  </thead>\n",
       "  <tbody>\n",
       "    <tr>\n",
       "      <th>0</th>\n",
       "      <td>1902</td>\n",
       "      <td>74.0</td>\n",
       "      <td>43.0</td>\n",
       "      <td>76.0</td>\n",
       "      <td>78.0</td>\n",
       "      <td>89.0</td>\n",
       "      <td>75.0</td>\n",
       "    </tr>\n",
       "    <tr>\n",
       "      <th>1</th>\n",
       "      <td>1903</td>\n",
       "      <td>72.0</td>\n",
       "      <td>77.0</td>\n",
       "      <td>89.0</td>\n",
       "      <td>66.0</td>\n",
       "      <td>69.0</td>\n",
       "      <td>52.0</td>\n",
       "    </tr>\n",
       "    <tr>\n",
       "      <th>2</th>\n",
       "      <td>1904</td>\n",
       "      <td>83.0</td>\n",
       "      <td>63.0</td>\n",
       "      <td>91.0</td>\n",
       "      <td>98.0</td>\n",
       "      <td>80.0</td>\n",
       "      <td>80.0</td>\n",
       "    </tr>\n",
       "    <tr>\n",
       "      <th>3</th>\n",
       "      <td>1906</td>\n",
       "      <td>72.0</td>\n",
       "      <td>61.0</td>\n",
       "      <td>77.0</td>\n",
       "      <td>80.0</td>\n",
       "      <td>88.0</td>\n",
       "      <td>96.0</td>\n",
       "    </tr>\n",
       "    <tr>\n",
       "      <th>4</th>\n",
       "      <td>1907</td>\n",
       "      <td>71.0</td>\n",
       "      <td>52.0</td>\n",
       "      <td>82.0</td>\n",
       "      <td>76.0</td>\n",
       "      <td>68.0</td>\n",
       "      <td>82.0</td>\n",
       "    </tr>\n",
       "    <tr>\n",
       "      <th>...</th>\n",
       "      <td>...</td>\n",
       "      <td>...</td>\n",
       "      <td>...</td>\n",
       "      <td>...</td>\n",
       "      <td>...</td>\n",
       "      <td>...</td>\n",
       "      <td>...</td>\n",
       "    </tr>\n",
       "    <tr>\n",
       "      <th>1202</th>\n",
       "      <td>252902</td>\n",
       "      <td>79.0</td>\n",
       "      <td>82.0</td>\n",
       "      <td>71.0</td>\n",
       "      <td>87.0</td>\n",
       "      <td>93.0</td>\n",
       "      <td>87.0</td>\n",
       "    </tr>\n",
       "    <tr>\n",
       "      <th>1203</th>\n",
       "      <td>252903</td>\n",
       "      <td>73.0</td>\n",
       "      <td>53.0</td>\n",
       "      <td>76.0</td>\n",
       "      <td>83.0</td>\n",
       "      <td>76.0</td>\n",
       "      <td>90.0</td>\n",
       "    </tr>\n",
       "    <tr>\n",
       "      <th>1204</th>\n",
       "      <td>253901</td>\n",
       "      <td>74.0</td>\n",
       "      <td>77.0</td>\n",
       "      <td>86.0</td>\n",
       "      <td>48.0</td>\n",
       "      <td>42.0</td>\n",
       "      <td>68.0</td>\n",
       "    </tr>\n",
       "    <tr>\n",
       "      <th>1205</th>\n",
       "      <td>254901</td>\n",
       "      <td>75.0</td>\n",
       "      <td>50.0</td>\n",
       "      <td>46.0</td>\n",
       "      <td>64.0</td>\n",
       "      <td>46.0</td>\n",
       "      <td>80.0</td>\n",
       "    </tr>\n",
       "    <tr>\n",
       "      <th>1206</th>\n",
       "      <td>254902</td>\n",
       "      <td>71.0</td>\n",
       "      <td>88.0</td>\n",
       "      <td>73.0</td>\n",
       "      <td>61.0</td>\n",
       "      <td>45.0</td>\n",
       "      <td>82.0</td>\n",
       "    </tr>\n",
       "  </tbody>\n",
       "</table>\n",
       "<p>1021 rows × 7 columns</p>\n",
       "</div>"
      ],
      "text/plain": [
       "      DISTRICT_id  \\\n",
       "0            1902   \n",
       "1            1903   \n",
       "2            1904   \n",
       "3            1906   \n",
       "4            1907   \n",
       "...           ...   \n",
       "1202       252902   \n",
       "1203       252903   \n",
       "1204       253901   \n",
       "1205       254901   \n",
       "1206       254902   \n",
       "\n",
       "      District 2024 Domain 1A: Approaches Grade Level STD, Grade 3, All Students, STAAR Mathematics Rate  \\\n",
       "0                                                  74.0                                                    \n",
       "1                                                  72.0                                                    \n",
       "2                                                  83.0                                                    \n",
       "3                                                  72.0                                                    \n",
       "4                                                  71.0                                                    \n",
       "...                                                 ...                                                    \n",
       "1202                                               79.0                                                    \n",
       "1203                                               73.0                                                    \n",
       "1204                                               74.0                                                    \n",
       "1205                                               75.0                                                    \n",
       "1206                                               71.0                                                    \n",
       "\n",
       "      District 2024 Domain 1A: Approaches Grade Level STD, Grade 4, All Students, STAAR Mathematics Rate  \\\n",
       "0                                                  43.0                                                    \n",
       "1                                                  77.0                                                    \n",
       "2                                                  63.0                                                    \n",
       "3                                                  61.0                                                    \n",
       "4                                                  52.0                                                    \n",
       "...                                                 ...                                                    \n",
       "1202                                               82.0                                                    \n",
       "1203                                               53.0                                                    \n",
       "1204                                               77.0                                                    \n",
       "1205                                               50.0                                                    \n",
       "1206                                               88.0                                                    \n",
       "\n",
       "      District 2024 Domain 1A: Approaches Grade Level STD, Grade 5, All Students, STAAR Mathematics Rate  \\\n",
       "0                                                  76.0                                                    \n",
       "1                                                  89.0                                                    \n",
       "2                                                  91.0                                                    \n",
       "3                                                  77.0                                                    \n",
       "4                                                  82.0                                                    \n",
       "...                                                 ...                                                    \n",
       "1202                                               71.0                                                    \n",
       "1203                                               76.0                                                    \n",
       "1204                                               86.0                                                    \n",
       "1205                                               46.0                                                    \n",
       "1206                                               73.0                                                    \n",
       "\n",
       "      District 2024 Domain 1A: Approaches Grade Level STD, Grade 6, All Students, STAAR Mathematics Rate  \\\n",
       "0                                                  78.0                                                    \n",
       "1                                                  66.0                                                    \n",
       "2                                                  98.0                                                    \n",
       "3                                                  80.0                                                    \n",
       "4                                                  76.0                                                    \n",
       "...                                                 ...                                                    \n",
       "1202                                               87.0                                                    \n",
       "1203                                               83.0                                                    \n",
       "1204                                               48.0                                                    \n",
       "1205                                               64.0                                                    \n",
       "1206                                               61.0                                                    \n",
       "\n",
       "      District 2024 Domain 1A: Approaches Grade Level STD, Grade 7, All Students, STAAR Mathematics Rate  \\\n",
       "0                                                  89.0                                                    \n",
       "1                                                  69.0                                                    \n",
       "2                                                  80.0                                                    \n",
       "3                                                  88.0                                                    \n",
       "4                                                  68.0                                                    \n",
       "...                                                 ...                                                    \n",
       "1202                                               93.0                                                    \n",
       "1203                                               76.0                                                    \n",
       "1204                                               42.0                                                    \n",
       "1205                                               46.0                                                    \n",
       "1206                                               45.0                                                    \n",
       "\n",
       "      District 2024 Domain 1A: Approaches Grade Level STD, Grade 8, All Students, STAAR Mathematics Rate  \n",
       "0                                                  75.0                                                   \n",
       "1                                                  52.0                                                   \n",
       "2                                                  80.0                                                   \n",
       "3                                                  96.0                                                   \n",
       "4                                                  82.0                                                   \n",
       "...                                                 ...                                                   \n",
       "1202                                               87.0                                                   \n",
       "1203                                               90.0                                                   \n",
       "1204                                               68.0                                                   \n",
       "1205                                               80.0                                                   \n",
       "1206                                               82.0                                                   \n",
       "\n",
       "[1021 rows x 7 columns]"
      ]
     },
     "execution_count": 25,
     "metadata": {},
     "output_type": "execute_result"
    }
   ],
   "source": [
    "\n",
    "df[[\"DISTRICT_id\"] + [col for col in df.columns if 'Mathematics' in col and 'Approaches Grade Level' in col and 'Rate' in col and \"All Students\" in col]]"
   ]
  },
  {
   "cell_type": "code",
   "execution_count": 52,
   "id": "f0373d94",
   "metadata": {},
   "outputs": [],
   "source": [
    "def get_subject_level_averages(df):\n",
    "    \"\"\"\n",
    "    Calculate average performance level scores by subject for each district.\n",
    "\n",
    "    Args:\n",
    "        df (pd.DataFrame): Raw district-level dataframe with subject-level performance columns.\n",
    "\n",
    "    Returns:\n",
    "        pd.DataFrame: DataFrame containing DISTNAME, DISTRICT_id, and mean performance scores for each subject-level combination.\n",
    "    \"\"\"\n",
    "    level_mapping = {\n",
    "        'Approaches Grade Level': {\n",
    "            'Mathematics': [col for col in df.columns if 'Mathematics' in col and 'Approaches Grade Level' in col],\n",
    "            'Reading/ELA': [col for col in df.columns if 'Reading/ELA' in col and 'Approaches Grade Level' in col],\n",
    "            'Writing': [col for col in df.columns if 'Writing' in col and 'Approaches Grade Level' in col],\n",
    "            'Science': [col for col in df.columns if 'Science' in col and 'Approaches Grade Level' in col],\n",
    "            'Social Studies': [col for col in df.columns if 'Social Studies' in col and 'Approaches Grade Level' in col],\n",
    "        },\n",
    "        'Meets Grade Level': {\n",
    "            'Mathematics': [col for col in df.columns if 'Mathematics' in col and 'Meets Grade Level' in col],\n",
    "            'Reading/ELA': [col for col in df.columns if 'Reading/ELA' in col and 'Meets Grade Level' in col],\n",
    "            'Writing': [col for col in df.columns if 'Writing' in col and 'Meets Grade Level' in col],\n",
    "            'Science': [col for col in df.columns if 'Science' in col and 'Meets Grade Level' in col],\n",
    "            'Social Studies': [col for col in df.columns if 'Social Studies' in col and 'Meets Grade Level' in col],\n",
    "        },\n",
    "        'Masters Grade Level': {\n",
    "            'Mathematics': [col for col in df.columns if 'Mathematics' in col and 'Masters Grade Level' in col],\n",
    "            'Reading/ELA': [col for col in df.columns if 'Reading/ELA' in col and 'Masters Grade Level' in col],\n",
    "            'Writing': [col for col in df.columns if 'Writing' in col and 'Masters Grade Level' in col],\n",
    "            'Science': [col for col in df.columns if 'Science' in col and 'Masters Grade Level' in col],\n",
    "            'Social Studies': [col for col in df.columns if 'Social Studies' in col and 'Masters Grade Level' in col],\n",
    "        }\n",
    "    }\n",
    "\n",
    "    df_result = df[['DISTNAME', 'DISTRICT_id']].copy()\n",
    "\n",
    "    for level, subjects in level_mapping.items():\n",
    "        for subject, columns in subjects.items():\n",
    "            df_result[f'{subject} ({level})'] = df[columns].mean(axis=1)\n",
    "\n",
    "    return df_result\n",
    "\n"
   ]
  },
  {
   "cell_type": "code",
   "execution_count": 53,
   "id": "09eb5812",
   "metadata": {},
   "outputs": [],
   "source": [
    "def get_subject_level_averages(df):\n",
    "    \"\"\"\n",
    "    Calculate average performance level scores by subject for each district.\n",
    "\n",
    "    Args:\n",
    "        df (pd.DataFrame): Raw district-level dataframe with subject-level performance columns.\n",
    "\n",
    "    Returns:\n",
    "        pd.DataFrame: DataFrame containing DISTNAME, DISTRICT_id, and mean performance scores for each subject-level combination.\n",
    "    \"\"\"\n",
    "    level_mapping = {\n",
    "        'Approaches Grade Level': {\n",
    "            'Mathematics': [col for col in df.columns if 'Mathematics' in col and 'Approaches Grade Level' in col and \"Rate\" in col and \"All Students\" in col],\n",
    "            'Reading/ELA': [col for col in df.columns if 'Reading/ELA' in col and 'Approaches Grade Level' in col and \"Rate\" in col and \"All Students\" in col],\n",
    "            'Writing': [col for col in df.columns if 'Writing' in col and 'Approaches Grade Level' in col and \"Rate\" in col and \"All Students\" in col],\n",
    "            'Science': [col for col in df.columns if 'Science' in col and 'Approaches Grade Level' in col and \"Rate\" in col and \"All Students\" in col],\n",
    "            'Social Studies': [col for col in df.columns if 'Social Studies' in col and 'Approaches Grade Level' in col and \"Rate\" in col and \"All Students\" in col] ,\n",
    "        },\n",
    "        'Meets Grade Level': {\n",
    "            'Mathematics': [col for col in df.columns if 'Mathematics' in col and 'Meets Grade Level' in col and \"Rate\" in col and \"All Students\" in col],\n",
    "            'Reading/ELA': [col for col in df.columns if 'Reading/ELA' in col and 'Meets Grade Level' in col and \"Rate\" in col and \"All Students\" in col],\n",
    "            'Writing': [col for col in df.columns if 'Writing' in col and 'Meets Grade Level' in col and \"Rate\" in col and \"All Students\" in col],\n",
    "            'Science': [col for col in df.columns if 'Science' in col and 'Meets Grade Level' in col and \"Rate\" in col and \"All Students\" in col],\n",
    "            'Social Studies': [col for col in df.columns if 'Social Studies' in col and 'Meets Grade Level' in col and \"Rate\" in col and \"All Students\" in col],\n",
    "        },\n",
    "        'Masters Grade Level': {\n",
    "            'Mathematics': [col for col in df.columns if 'Mathematics' in col and 'Masters Grade Level' in col and \"Rate\" in col and \"All Students\" in col],\n",
    "            'Reading/ELA': [col for col in df.columns if 'Reading/ELA' in col and 'Masters Grade Level' in col and \"Rate\" in col and \"All Students\" in col],\n",
    "            'Writing': [col for col in df.columns if 'Writing' in col and 'Masters Grade Level' in col and \"Rate\" in col and \"All Students\" in col],\n",
    "            'Science': [col for col in df.columns if 'Science' in col and 'Masters Grade Level' in col and \"Rate\" in col and \"All Students\" in col],\n",
    "            'Social Studies': [col for col in df.columns if 'Social Studies' in col and 'Masters Grade Level' in col and \"Rate\" in col and \"All Students\" in col],\n",
    "        }\n",
    "    }\n",
    "\n",
    "    df_result = df[['DISTNAME', 'DISTRICT_id']].copy()\n",
    "\n",
    "    for level, subjects in level_mapping.items():\n",
    "        for subject, columns in subjects.items():\n",
    "            df_result[f'{subject} ({level})'] = df[columns].mean(axis=1)\n",
    "\n",
    "    return df_result\n",
    "\n",
    "\n",
    "\n"
   ]
  },
  {
   "cell_type": "code",
   "execution_count": null,
   "id": "20a41fa3",
   "metadata": {},
   "outputs": [],
   "source": [
    "def plot_staar(df, neighbors):\n",
    "    staar_df = get_subject_level_averages(df)\n",
    "    neighbors = list(neighbors['DISTRICT_id'])\n",
    "    #subset staar_df to only contain rows where DISTRICT_id is in neighbors\n",
    "    \n",
    "\n"
   ]
  },
  {
   "cell_type": "code",
   "execution_count": 59,
   "id": "a90b244e",
   "metadata": {},
   "outputs": [
    {
     "data": {
      "text/html": [
       "<div>\n",
       "<style scoped>\n",
       "    .dataframe tbody tr th:only-of-type {\n",
       "        vertical-align: middle;\n",
       "    }\n",
       "\n",
       "    .dataframe tbody tr th {\n",
       "        vertical-align: top;\n",
       "    }\n",
       "\n",
       "    .dataframe thead th {\n",
       "        text-align: right;\n",
       "    }\n",
       "</style>\n",
       "<table border=\"1\" class=\"dataframe\">\n",
       "  <thead>\n",
       "    <tr style=\"text-align: right;\">\n",
       "      <th></th>\n",
       "      <th>DISTNAME</th>\n",
       "      <th>DISTRICT_id</th>\n",
       "      <th>Mathematics (Approaches Grade Level)</th>\n",
       "      <th>Reading/ELA (Approaches Grade Level)</th>\n",
       "      <th>Writing (Approaches Grade Level)</th>\n",
       "      <th>Science (Approaches Grade Level)</th>\n",
       "      <th>Social Studies (Approaches Grade Level)</th>\n",
       "      <th>Mathematics (Meets Grade Level)</th>\n",
       "      <th>Reading/ELA (Meets Grade Level)</th>\n",
       "      <th>Writing (Meets Grade Level)</th>\n",
       "      <th>Science (Meets Grade Level)</th>\n",
       "      <th>Social Studies (Meets Grade Level)</th>\n",
       "      <th>Mathematics (Masters Grade Level)</th>\n",
       "      <th>Reading/ELA (Masters Grade Level)</th>\n",
       "      <th>Writing (Masters Grade Level)</th>\n",
       "      <th>Science (Masters Grade Level)</th>\n",
       "      <th>Social Studies (Masters Grade Level)</th>\n",
       "    </tr>\n",
       "  </thead>\n",
       "  <tbody>\n",
       "    <tr>\n",
       "      <th>0</th>\n",
       "      <td>CAYUGA ISD</td>\n",
       "      <td>1902</td>\n",
       "      <td>72.500000</td>\n",
       "      <td>85.333333</td>\n",
       "      <td>NaN</td>\n",
       "      <td>66.5</td>\n",
       "      <td>65.0</td>\n",
       "      <td>44.666667</td>\n",
       "      <td>63.333333</td>\n",
       "      <td>NaN</td>\n",
       "      <td>44.0</td>\n",
       "      <td>41.0</td>\n",
       "      <td>13.333333</td>\n",
       "      <td>30.166667</td>\n",
       "      <td>NaN</td>\n",
       "      <td>14.0</td>\n",
       "      <td>18.0</td>\n",
       "    </tr>\n",
       "    <tr>\n",
       "      <th>1</th>\n",
       "      <td>ELKHART ISD</td>\n",
       "      <td>1903</td>\n",
       "      <td>70.833333</td>\n",
       "      <td>85.166667</td>\n",
       "      <td>NaN</td>\n",
       "      <td>76.0</td>\n",
       "      <td>45.0</td>\n",
       "      <td>40.833333</td>\n",
       "      <td>54.166667</td>\n",
       "      <td>NaN</td>\n",
       "      <td>37.0</td>\n",
       "      <td>14.0</td>\n",
       "      <td>12.833333</td>\n",
       "      <td>23.333333</td>\n",
       "      <td>NaN</td>\n",
       "      <td>10.0</td>\n",
       "      <td>5.0</td>\n",
       "    </tr>\n",
       "    <tr>\n",
       "      <th>2</th>\n",
       "      <td>FRANKSTON ISD</td>\n",
       "      <td>1904</td>\n",
       "      <td>82.500000</td>\n",
       "      <td>86.833333</td>\n",
       "      <td>NaN</td>\n",
       "      <td>71.0</td>\n",
       "      <td>68.0</td>\n",
       "      <td>57.000000</td>\n",
       "      <td>62.666667</td>\n",
       "      <td>NaN</td>\n",
       "      <td>39.0</td>\n",
       "      <td>38.0</td>\n",
       "      <td>21.500000</td>\n",
       "      <td>25.333333</td>\n",
       "      <td>NaN</td>\n",
       "      <td>8.5</td>\n",
       "      <td>14.0</td>\n",
       "    </tr>\n",
       "    <tr>\n",
       "      <th>3</th>\n",
       "      <td>NECHES ISD</td>\n",
       "      <td>1906</td>\n",
       "      <td>79.000000</td>\n",
       "      <td>90.333333</td>\n",
       "      <td>NaN</td>\n",
       "      <td>66.0</td>\n",
       "      <td>78.0</td>\n",
       "      <td>53.500000</td>\n",
       "      <td>59.000000</td>\n",
       "      <td>NaN</td>\n",
       "      <td>41.5</td>\n",
       "      <td>30.0</td>\n",
       "      <td>19.500000</td>\n",
       "      <td>23.666667</td>\n",
       "      <td>NaN</td>\n",
       "      <td>4.5</td>\n",
       "      <td>4.0</td>\n",
       "    </tr>\n",
       "    <tr>\n",
       "      <th>4</th>\n",
       "      <td>PALESTINE ISD</td>\n",
       "      <td>1907</td>\n",
       "      <td>71.833333</td>\n",
       "      <td>71.666667</td>\n",
       "      <td>NaN</td>\n",
       "      <td>61.5</td>\n",
       "      <td>53.0</td>\n",
       "      <td>43.333333</td>\n",
       "      <td>41.833333</td>\n",
       "      <td>NaN</td>\n",
       "      <td>29.5</td>\n",
       "      <td>22.0</td>\n",
       "      <td>13.500000</td>\n",
       "      <td>13.833333</td>\n",
       "      <td>NaN</td>\n",
       "      <td>7.5</td>\n",
       "      <td>10.0</td>\n",
       "    </tr>\n",
       "    <tr>\n",
       "      <th>...</th>\n",
       "      <td>...</td>\n",
       "      <td>...</td>\n",
       "      <td>...</td>\n",
       "      <td>...</td>\n",
       "      <td>...</td>\n",
       "      <td>...</td>\n",
       "      <td>...</td>\n",
       "      <td>...</td>\n",
       "      <td>...</td>\n",
       "      <td>...</td>\n",
       "      <td>...</td>\n",
       "      <td>...</td>\n",
       "      <td>...</td>\n",
       "      <td>...</td>\n",
       "      <td>...</td>\n",
       "      <td>...</td>\n",
       "      <td>...</td>\n",
       "    </tr>\n",
       "    <tr>\n",
       "      <th>1202</th>\n",
       "      <td>NEWCASTLE ISD</td>\n",
       "      <td>252902</td>\n",
       "      <td>83.166667</td>\n",
       "      <td>85.833333</td>\n",
       "      <td>NaN</td>\n",
       "      <td>61.5</td>\n",
       "      <td>35.0</td>\n",
       "      <td>47.166667</td>\n",
       "      <td>53.000000</td>\n",
       "      <td>NaN</td>\n",
       "      <td>33.5</td>\n",
       "      <td>18.0</td>\n",
       "      <td>12.000000</td>\n",
       "      <td>20.000000</td>\n",
       "      <td>NaN</td>\n",
       "      <td>13.5</td>\n",
       "      <td>12.0</td>\n",
       "    </tr>\n",
       "    <tr>\n",
       "      <th>1203</th>\n",
       "      <td>OLNEY ISD</td>\n",
       "      <td>252903</td>\n",
       "      <td>75.166667</td>\n",
       "      <td>82.166667</td>\n",
       "      <td>NaN</td>\n",
       "      <td>80.5</td>\n",
       "      <td>77.0</td>\n",
       "      <td>57.500000</td>\n",
       "      <td>59.000000</td>\n",
       "      <td>NaN</td>\n",
       "      <td>57.0</td>\n",
       "      <td>50.0</td>\n",
       "      <td>24.166667</td>\n",
       "      <td>29.166667</td>\n",
       "      <td>NaN</td>\n",
       "      <td>22.5</td>\n",
       "      <td>27.0</td>\n",
       "    </tr>\n",
       "    <tr>\n",
       "      <th>1204</th>\n",
       "      <td>ZAPATA COUNTY ISD</td>\n",
       "      <td>253901</td>\n",
       "      <td>65.833333</td>\n",
       "      <td>69.166667</td>\n",
       "      <td>NaN</td>\n",
       "      <td>50.0</td>\n",
       "      <td>28.0</td>\n",
       "      <td>38.166667</td>\n",
       "      <td>42.166667</td>\n",
       "      <td>NaN</td>\n",
       "      <td>21.5</td>\n",
       "      <td>8.0</td>\n",
       "      <td>14.333333</td>\n",
       "      <td>15.500000</td>\n",
       "      <td>NaN</td>\n",
       "      <td>6.5</td>\n",
       "      <td>2.0</td>\n",
       "    </tr>\n",
       "    <tr>\n",
       "      <th>1205</th>\n",
       "      <td>CRYSTAL CITY ISD</td>\n",
       "      <td>254901</td>\n",
       "      <td>60.166667</td>\n",
       "      <td>61.833333</td>\n",
       "      <td>NaN</td>\n",
       "      <td>54.5</td>\n",
       "      <td>54.0</td>\n",
       "      <td>29.666667</td>\n",
       "      <td>35.833333</td>\n",
       "      <td>NaN</td>\n",
       "      <td>19.0</td>\n",
       "      <td>26.0</td>\n",
       "      <td>7.166667</td>\n",
       "      <td>9.833333</td>\n",
       "      <td>NaN</td>\n",
       "      <td>4.5</td>\n",
       "      <td>12.0</td>\n",
       "    </tr>\n",
       "    <tr>\n",
       "      <th>1206</th>\n",
       "      <td>LA PRYOR ISD</td>\n",
       "      <td>254902</td>\n",
       "      <td>70.000000</td>\n",
       "      <td>76.000000</td>\n",
       "      <td>NaN</td>\n",
       "      <td>19.0</td>\n",
       "      <td>27.0</td>\n",
       "      <td>32.166667</td>\n",
       "      <td>40.333333</td>\n",
       "      <td>NaN</td>\n",
       "      <td>4.5</td>\n",
       "      <td>5.0</td>\n",
       "      <td>4.666667</td>\n",
       "      <td>14.166667</td>\n",
       "      <td>NaN</td>\n",
       "      <td>2.0</td>\n",
       "      <td>0.0</td>\n",
       "    </tr>\n",
       "  </tbody>\n",
       "</table>\n",
       "<p>1021 rows × 17 columns</p>\n",
       "</div>"
      ],
      "text/plain": [
       "               DISTNAME  DISTRICT_id  Mathematics (Approaches Grade Level)  \\\n",
       "0            CAYUGA ISD         1902                             72.500000   \n",
       "1           ELKHART ISD         1903                             70.833333   \n",
       "2         FRANKSTON ISD         1904                             82.500000   \n",
       "3            NECHES ISD         1906                             79.000000   \n",
       "4         PALESTINE ISD         1907                             71.833333   \n",
       "...                 ...          ...                                   ...   \n",
       "1202      NEWCASTLE ISD       252902                             83.166667   \n",
       "1203          OLNEY ISD       252903                             75.166667   \n",
       "1204  ZAPATA COUNTY ISD       253901                             65.833333   \n",
       "1205   CRYSTAL CITY ISD       254901                             60.166667   \n",
       "1206       LA PRYOR ISD       254902                             70.000000   \n",
       "\n",
       "      Reading/ELA (Approaches Grade Level)  Writing (Approaches Grade Level)  \\\n",
       "0                                85.333333                               NaN   \n",
       "1                                85.166667                               NaN   \n",
       "2                                86.833333                               NaN   \n",
       "3                                90.333333                               NaN   \n",
       "4                                71.666667                               NaN   \n",
       "...                                    ...                               ...   \n",
       "1202                             85.833333                               NaN   \n",
       "1203                             82.166667                               NaN   \n",
       "1204                             69.166667                               NaN   \n",
       "1205                             61.833333                               NaN   \n",
       "1206                             76.000000                               NaN   \n",
       "\n",
       "      Science (Approaches Grade Level)  \\\n",
       "0                                 66.5   \n",
       "1                                 76.0   \n",
       "2                                 71.0   \n",
       "3                                 66.0   \n",
       "4                                 61.5   \n",
       "...                                ...   \n",
       "1202                              61.5   \n",
       "1203                              80.5   \n",
       "1204                              50.0   \n",
       "1205                              54.5   \n",
       "1206                              19.0   \n",
       "\n",
       "      Social Studies (Approaches Grade Level)  \\\n",
       "0                                        65.0   \n",
       "1                                        45.0   \n",
       "2                                        68.0   \n",
       "3                                        78.0   \n",
       "4                                        53.0   \n",
       "...                                       ...   \n",
       "1202                                     35.0   \n",
       "1203                                     77.0   \n",
       "1204                                     28.0   \n",
       "1205                                     54.0   \n",
       "1206                                     27.0   \n",
       "\n",
       "      Mathematics (Meets Grade Level)  Reading/ELA (Meets Grade Level)  \\\n",
       "0                           44.666667                        63.333333   \n",
       "1                           40.833333                        54.166667   \n",
       "2                           57.000000                        62.666667   \n",
       "3                           53.500000                        59.000000   \n",
       "4                           43.333333                        41.833333   \n",
       "...                               ...                              ...   \n",
       "1202                        47.166667                        53.000000   \n",
       "1203                        57.500000                        59.000000   \n",
       "1204                        38.166667                        42.166667   \n",
       "1205                        29.666667                        35.833333   \n",
       "1206                        32.166667                        40.333333   \n",
       "\n",
       "      Writing (Meets Grade Level)  Science (Meets Grade Level)  \\\n",
       "0                             NaN                         44.0   \n",
       "1                             NaN                         37.0   \n",
       "2                             NaN                         39.0   \n",
       "3                             NaN                         41.5   \n",
       "4                             NaN                         29.5   \n",
       "...                           ...                          ...   \n",
       "1202                          NaN                         33.5   \n",
       "1203                          NaN                         57.0   \n",
       "1204                          NaN                         21.5   \n",
       "1205                          NaN                         19.0   \n",
       "1206                          NaN                          4.5   \n",
       "\n",
       "      Social Studies (Meets Grade Level)  Mathematics (Masters Grade Level)  \\\n",
       "0                                   41.0                          13.333333   \n",
       "1                                   14.0                          12.833333   \n",
       "2                                   38.0                          21.500000   \n",
       "3                                   30.0                          19.500000   \n",
       "4                                   22.0                          13.500000   \n",
       "...                                  ...                                ...   \n",
       "1202                                18.0                          12.000000   \n",
       "1203                                50.0                          24.166667   \n",
       "1204                                 8.0                          14.333333   \n",
       "1205                                26.0                           7.166667   \n",
       "1206                                 5.0                           4.666667   \n",
       "\n",
       "      Reading/ELA (Masters Grade Level)  Writing (Masters Grade Level)  \\\n",
       "0                             30.166667                            NaN   \n",
       "1                             23.333333                            NaN   \n",
       "2                             25.333333                            NaN   \n",
       "3                             23.666667                            NaN   \n",
       "4                             13.833333                            NaN   \n",
       "...                                 ...                            ...   \n",
       "1202                          20.000000                            NaN   \n",
       "1203                          29.166667                            NaN   \n",
       "1204                          15.500000                            NaN   \n",
       "1205                           9.833333                            NaN   \n",
       "1206                          14.166667                            NaN   \n",
       "\n",
       "      Science (Masters Grade Level)  Social Studies (Masters Grade Level)  \n",
       "0                              14.0                                  18.0  \n",
       "1                              10.0                                   5.0  \n",
       "2                               8.5                                  14.0  \n",
       "3                               4.5                                   4.0  \n",
       "4                               7.5                                  10.0  \n",
       "...                             ...                                   ...  \n",
       "1202                           13.5                                  12.0  \n",
       "1203                           22.5                                  27.0  \n",
       "1204                            6.5                                   2.0  \n",
       "1205                            4.5                                  12.0  \n",
       "1206                            2.0                                   0.0  \n",
       "\n",
       "[1021 rows x 17 columns]"
      ]
     },
     "execution_count": 59,
     "metadata": {},
     "output_type": "execute_result"
    }
   ],
   "source": [
    "get_subject_level_averages(df)"
   ]
  },
  {
   "cell_type": "code",
   "execution_count": 63,
   "id": "1e384775",
   "metadata": {},
   "outputs": [],
   "source": [
    "from utils.KNN_Model import find_nearest_districts\n",
    "df, demo_dict, neighbors = find_nearest_districts(2024, 1902, ['student_teacher_ratio'])"
   ]
  },
  {
   "cell_type": "code",
   "execution_count": 64,
   "id": "98b28637",
   "metadata": {},
   "outputs": [
    {
     "data": {
      "text/html": [
       "<div>\n",
       "<style scoped>\n",
       "    .dataframe tbody tr th:only-of-type {\n",
       "        vertical-align: middle;\n",
       "    }\n",
       "\n",
       "    .dataframe tbody tr th {\n",
       "        vertical-align: top;\n",
       "    }\n",
       "\n",
       "    .dataframe thead th {\n",
       "        text-align: right;\n",
       "    }\n",
       "</style>\n",
       "<table border=\"1\" class=\"dataframe\">\n",
       "  <thead>\n",
       "    <tr style=\"text-align: right;\">\n",
       "      <th></th>\n",
       "      <th>DISTRICT_id</th>\n",
       "      <th>DISTNAME</th>\n",
       "      <th>District 2023 Graduates: All Students Count (excluding FHSP/Texas First-DLA)</th>\n",
       "      <th>District 2023 Graduates: RHSP/DAP All Students Count_x</th>\n",
       "      <th>District 2023 Graduates: FHSP-E All Students Count_x</th>\n",
       "      <th>District 2023 Graduates: FHSP-DLA All Students Count_x</th>\n",
       "      <th>District 2023 Graduates: RHSP/DAP/FHSP-E/FHSP-DLA/Texas First-DLA All Students Count</th>\n",
       "      <th>District 2023 Graduates: All Students Count All Students Denominator</th>\n",
       "      <th>District 2023 Graduates: FHSP All Students Count All Students Denominator</th>\n",
       "      <th>District 2023 Graduates: African American Count (excluding FHSP/Texas First-DLA)</th>\n",
       "      <th>...</th>\n",
       "      <th>District 2024 Domain 1A: Approaches Grade Level STD, Grade 8, Non-Continuous Enrollee, STAAR Science Rate</th>\n",
       "      <th>District 2024 Domain 1A: Meets Grade Level STD, Grade 8, Non-Continuous Enrollee, STAAR Science Rate</th>\n",
       "      <th>District 2024 Domain 1A: Masters Grade Level STD, Grade 8, Non-Continuous Enrollee, STAAR Science Rate</th>\n",
       "      <th>District</th>\n",
       "      <th>District Number</th>\n",
       "      <th>TEA District Type</th>\n",
       "      <th>TEA Description</th>\n",
       "      <th>NCES District Type</th>\n",
       "      <th>NCES Description</th>\n",
       "      <th>Charter School (Y/N)</th>\n",
       "    </tr>\n",
       "  </thead>\n",
       "  <tbody>\n",
       "    <tr>\n",
       "      <th>0</th>\n",
       "      <td>1902</td>\n",
       "      <td>CAYUGA ISD</td>\n",
       "      <td>NaN</td>\n",
       "      <td>NaN</td>\n",
       "      <td>0.0</td>\n",
       "      <td>39.0</td>\n",
       "      <td>39.0</td>\n",
       "      <td>39.0</td>\n",
       "      <td>39.0</td>\n",
       "      <td>NaN</td>\n",
       "      <td>...</td>\n",
       "      <td>50.0</td>\n",
       "      <td>42.0</td>\n",
       "      <td>0.0</td>\n",
       "      <td>CAYUGA ISD</td>\n",
       "      <td>1902</td>\n",
       "      <td>H</td>\n",
       "      <td>Rural</td>\n",
       "      <td>43</td>\n",
       "      <td>Rural-Remote</td>\n",
       "      <td>N</td>\n",
       "    </tr>\n",
       "    <tr>\n",
       "      <th>1</th>\n",
       "      <td>1903</td>\n",
       "      <td>ELKHART ISD</td>\n",
       "      <td>NaN</td>\n",
       "      <td>NaN</td>\n",
       "      <td>3.0</td>\n",
       "      <td>53.0</td>\n",
       "      <td>56.0</td>\n",
       "      <td>66.0</td>\n",
       "      <td>66.0</td>\n",
       "      <td>NaN</td>\n",
       "      <td>...</td>\n",
       "      <td>88.0</td>\n",
       "      <td>58.0</td>\n",
       "      <td>12.0</td>\n",
       "      <td>ELKHART ISD</td>\n",
       "      <td>1903</td>\n",
       "      <td>G</td>\n",
       "      <td>Non-metropolitan Stable</td>\n",
       "      <td>42</td>\n",
       "      <td>Rural-Distant</td>\n",
       "      <td>N</td>\n",
       "    </tr>\n",
       "    <tr>\n",
       "      <th>2</th>\n",
       "      <td>1904</td>\n",
       "      <td>FRANKSTON ISD</td>\n",
       "      <td>NaN</td>\n",
       "      <td>NaN</td>\n",
       "      <td>1.0</td>\n",
       "      <td>49.0</td>\n",
       "      <td>50.0</td>\n",
       "      <td>54.0</td>\n",
       "      <td>54.0</td>\n",
       "      <td>NaN</td>\n",
       "      <td>...</td>\n",
       "      <td>50.0</td>\n",
       "      <td>35.0</td>\n",
       "      <td>5.0</td>\n",
       "      <td>FRANKSTON ISD</td>\n",
       "      <td>1904</td>\n",
       "      <td>H</td>\n",
       "      <td>Rural</td>\n",
       "      <td>42</td>\n",
       "      <td>Rural-Distant</td>\n",
       "      <td>N</td>\n",
       "    </tr>\n",
       "    <tr>\n",
       "      <th>3</th>\n",
       "      <td>1906</td>\n",
       "      <td>NECHES ISD</td>\n",
       "      <td>NaN</td>\n",
       "      <td>NaN</td>\n",
       "      <td>4.0</td>\n",
       "      <td>21.0</td>\n",
       "      <td>25.0</td>\n",
       "      <td>26.0</td>\n",
       "      <td>26.0</td>\n",
       "      <td>NaN</td>\n",
       "      <td>...</td>\n",
       "      <td>86.0</td>\n",
       "      <td>86.0</td>\n",
       "      <td>0.0</td>\n",
       "      <td>NECHES ISD</td>\n",
       "      <td>1906</td>\n",
       "      <td>H</td>\n",
       "      <td>Rural</td>\n",
       "      <td>42</td>\n",
       "      <td>Rural-Distant</td>\n",
       "      <td>N</td>\n",
       "    </tr>\n",
       "    <tr>\n",
       "      <th>4</th>\n",
       "      <td>1907</td>\n",
       "      <td>PALESTINE ISD</td>\n",
       "      <td>NaN</td>\n",
       "      <td>NaN</td>\n",
       "      <td>16.0</td>\n",
       "      <td>217.0</td>\n",
       "      <td>233.0</td>\n",
       "      <td>235.0</td>\n",
       "      <td>235.0</td>\n",
       "      <td>NaN</td>\n",
       "      <td>...</td>\n",
       "      <td>60.0</td>\n",
       "      <td>35.0</td>\n",
       "      <td>6.0</td>\n",
       "      <td>PALESTINE ISD</td>\n",
       "      <td>1907</td>\n",
       "      <td>E</td>\n",
       "      <td>Independent Town</td>\n",
       "      <td>32</td>\n",
       "      <td>Town-Distant</td>\n",
       "      <td>N</td>\n",
       "    </tr>\n",
       "    <tr>\n",
       "      <th>...</th>\n",
       "      <td>...</td>\n",
       "      <td>...</td>\n",
       "      <td>...</td>\n",
       "      <td>...</td>\n",
       "      <td>...</td>\n",
       "      <td>...</td>\n",
       "      <td>...</td>\n",
       "      <td>...</td>\n",
       "      <td>...</td>\n",
       "      <td>...</td>\n",
       "      <td>...</td>\n",
       "      <td>...</td>\n",
       "      <td>...</td>\n",
       "      <td>...</td>\n",
       "      <td>...</td>\n",
       "      <td>...</td>\n",
       "      <td>...</td>\n",
       "      <td>...</td>\n",
       "      <td>...</td>\n",
       "      <td>...</td>\n",
       "      <td>...</td>\n",
       "    </tr>\n",
       "    <tr>\n",
       "      <th>1202</th>\n",
       "      <td>252902</td>\n",
       "      <td>NEWCASTLE ISD</td>\n",
       "      <td>NaN</td>\n",
       "      <td>NaN</td>\n",
       "      <td>0.0</td>\n",
       "      <td>11.0</td>\n",
       "      <td>11.0</td>\n",
       "      <td>11.0</td>\n",
       "      <td>11.0</td>\n",
       "      <td>NaN</td>\n",
       "      <td>...</td>\n",
       "      <td>60.0</td>\n",
       "      <td>40.0</td>\n",
       "      <td>0.0</td>\n",
       "      <td>NEWCASTLE ISD</td>\n",
       "      <td>252902</td>\n",
       "      <td>H</td>\n",
       "      <td>Rural</td>\n",
       "      <td>42</td>\n",
       "      <td>Rural-Distant</td>\n",
       "      <td>N</td>\n",
       "    </tr>\n",
       "    <tr>\n",
       "      <th>1203</th>\n",
       "      <td>252903</td>\n",
       "      <td>OLNEY ISD</td>\n",
       "      <td>NaN</td>\n",
       "      <td>NaN</td>\n",
       "      <td>4.0</td>\n",
       "      <td>34.0</td>\n",
       "      <td>38.0</td>\n",
       "      <td>38.0</td>\n",
       "      <td>38.0</td>\n",
       "      <td>NaN</td>\n",
       "      <td>...</td>\n",
       "      <td>69.0</td>\n",
       "      <td>62.0</td>\n",
       "      <td>23.0</td>\n",
       "      <td>OLNEY ISD</td>\n",
       "      <td>252903</td>\n",
       "      <td>H</td>\n",
       "      <td>Rural</td>\n",
       "      <td>32</td>\n",
       "      <td>Town-Distant</td>\n",
       "      <td>N</td>\n",
       "    </tr>\n",
       "    <tr>\n",
       "      <th>1204</th>\n",
       "      <td>253901</td>\n",
       "      <td>ZAPATA COUNTY ISD</td>\n",
       "      <td>NaN</td>\n",
       "      <td>NaN</td>\n",
       "      <td>4.0</td>\n",
       "      <td>207.0</td>\n",
       "      <td>211.0</td>\n",
       "      <td>230.0</td>\n",
       "      <td>230.0</td>\n",
       "      <td>NaN</td>\n",
       "      <td>...</td>\n",
       "      <td>44.0</td>\n",
       "      <td>22.0</td>\n",
       "      <td>6.0</td>\n",
       "      <td>ZAPATA COUNTY ISD</td>\n",
       "      <td>253901</td>\n",
       "      <td>D</td>\n",
       "      <td>Other Central City Suburban</td>\n",
       "      <td>33</td>\n",
       "      <td>Town-Remote</td>\n",
       "      <td>N</td>\n",
       "    </tr>\n",
       "    <tr>\n",
       "      <th>1205</th>\n",
       "      <td>254901</td>\n",
       "      <td>CRYSTAL CITY ISD</td>\n",
       "      <td>NaN</td>\n",
       "      <td>NaN</td>\n",
       "      <td>0.0</td>\n",
       "      <td>135.0</td>\n",
       "      <td>135.0</td>\n",
       "      <td>143.0</td>\n",
       "      <td>143.0</td>\n",
       "      <td>NaN</td>\n",
       "      <td>...</td>\n",
       "      <td>45.0</td>\n",
       "      <td>23.0</td>\n",
       "      <td>9.0</td>\n",
       "      <td>CRYSTAL CITY ISD</td>\n",
       "      <td>254901</td>\n",
       "      <td>G</td>\n",
       "      <td>Non-metropolitan Stable</td>\n",
       "      <td>33</td>\n",
       "      <td>Town-Remote</td>\n",
       "      <td>N</td>\n",
       "    </tr>\n",
       "    <tr>\n",
       "      <th>1206</th>\n",
       "      <td>254902</td>\n",
       "      <td>LA PRYOR ISD</td>\n",
       "      <td>NaN</td>\n",
       "      <td>NaN</td>\n",
       "      <td>1.0</td>\n",
       "      <td>26.0</td>\n",
       "      <td>27.0</td>\n",
       "      <td>28.0</td>\n",
       "      <td>28.0</td>\n",
       "      <td>NaN</td>\n",
       "      <td>...</td>\n",
       "      <td>33.0</td>\n",
       "      <td>0.0</td>\n",
       "      <td>0.0</td>\n",
       "      <td>LA PRYOR ISD</td>\n",
       "      <td>254902</td>\n",
       "      <td>H</td>\n",
       "      <td>Rural</td>\n",
       "      <td>43</td>\n",
       "      <td>Rural-Remote</td>\n",
       "      <td>N</td>\n",
       "    </tr>\n",
       "  </tbody>\n",
       "</table>\n",
       "<p>1021 rows × 6590 columns</p>\n",
       "</div>"
      ],
      "text/plain": [
       "      DISTRICT_id           DISTNAME  \\\n",
       "0            1902         CAYUGA ISD   \n",
       "1            1903        ELKHART ISD   \n",
       "2            1904      FRANKSTON ISD   \n",
       "3            1906         NECHES ISD   \n",
       "4            1907      PALESTINE ISD   \n",
       "...           ...                ...   \n",
       "1202       252902      NEWCASTLE ISD   \n",
       "1203       252903          OLNEY ISD   \n",
       "1204       253901  ZAPATA COUNTY ISD   \n",
       "1205       254901   CRYSTAL CITY ISD   \n",
       "1206       254902       LA PRYOR ISD   \n",
       "\n",
       "      District 2023 Graduates: All Students Count (excluding FHSP/Texas First-DLA)  \\\n",
       "0                                                   NaN                              \n",
       "1                                                   NaN                              \n",
       "2                                                   NaN                              \n",
       "3                                                   NaN                              \n",
       "4                                                   NaN                              \n",
       "...                                                 ...                              \n",
       "1202                                                NaN                              \n",
       "1203                                                NaN                              \n",
       "1204                                                NaN                              \n",
       "1205                                                NaN                              \n",
       "1206                                                NaN                              \n",
       "\n",
       "      District 2023 Graduates: RHSP/DAP All Students Count_x  \\\n",
       "0                                                   NaN        \n",
       "1                                                   NaN        \n",
       "2                                                   NaN        \n",
       "3                                                   NaN        \n",
       "4                                                   NaN        \n",
       "...                                                 ...        \n",
       "1202                                                NaN        \n",
       "1203                                                NaN        \n",
       "1204                                                NaN        \n",
       "1205                                                NaN        \n",
       "1206                                                NaN        \n",
       "\n",
       "      District 2023 Graduates: FHSP-E All Students Count_x  \\\n",
       "0                                                   0.0      \n",
       "1                                                   3.0      \n",
       "2                                                   1.0      \n",
       "3                                                   4.0      \n",
       "4                                                  16.0      \n",
       "...                                                 ...      \n",
       "1202                                                0.0      \n",
       "1203                                                4.0      \n",
       "1204                                                4.0      \n",
       "1205                                                0.0      \n",
       "1206                                                1.0      \n",
       "\n",
       "      District 2023 Graduates: FHSP-DLA All Students Count_x  \\\n",
       "0                                                  39.0        \n",
       "1                                                  53.0        \n",
       "2                                                  49.0        \n",
       "3                                                  21.0        \n",
       "4                                                 217.0        \n",
       "...                                                 ...        \n",
       "1202                                               11.0        \n",
       "1203                                               34.0        \n",
       "1204                                              207.0        \n",
       "1205                                              135.0        \n",
       "1206                                               26.0        \n",
       "\n",
       "      District 2023 Graduates: RHSP/DAP/FHSP-E/FHSP-DLA/Texas First-DLA All Students Count  \\\n",
       "0                                                  39.0                                      \n",
       "1                                                  56.0                                      \n",
       "2                                                  50.0                                      \n",
       "3                                                  25.0                                      \n",
       "4                                                 233.0                                      \n",
       "...                                                 ...                                      \n",
       "1202                                               11.0                                      \n",
       "1203                                               38.0                                      \n",
       "1204                                              211.0                                      \n",
       "1205                                              135.0                                      \n",
       "1206                                               27.0                                      \n",
       "\n",
       "      District 2023 Graduates: All Students Count All Students Denominator  \\\n",
       "0                                                  39.0                      \n",
       "1                                                  66.0                      \n",
       "2                                                  54.0                      \n",
       "3                                                  26.0                      \n",
       "4                                                 235.0                      \n",
       "...                                                 ...                      \n",
       "1202                                               11.0                      \n",
       "1203                                               38.0                      \n",
       "1204                                              230.0                      \n",
       "1205                                              143.0                      \n",
       "1206                                               28.0                      \n",
       "\n",
       "      District 2023 Graduates: FHSP All Students Count All Students Denominator  \\\n",
       "0                                                  39.0                           \n",
       "1                                                  66.0                           \n",
       "2                                                  54.0                           \n",
       "3                                                  26.0                           \n",
       "4                                                 235.0                           \n",
       "...                                                 ...                           \n",
       "1202                                               11.0                           \n",
       "1203                                               38.0                           \n",
       "1204                                              230.0                           \n",
       "1205                                              143.0                           \n",
       "1206                                               28.0                           \n",
       "\n",
       "      District 2023 Graduates: African American Count (excluding FHSP/Texas First-DLA)  \\\n",
       "0                                                   NaN                                  \n",
       "1                                                   NaN                                  \n",
       "2                                                   NaN                                  \n",
       "3                                                   NaN                                  \n",
       "4                                                   NaN                                  \n",
       "...                                                 ...                                  \n",
       "1202                                                NaN                                  \n",
       "1203                                                NaN                                  \n",
       "1204                                                NaN                                  \n",
       "1205                                                NaN                                  \n",
       "1206                                                NaN                                  \n",
       "\n",
       "      ...  \\\n",
       "0     ...   \n",
       "1     ...   \n",
       "2     ...   \n",
       "3     ...   \n",
       "4     ...   \n",
       "...   ...   \n",
       "1202  ...   \n",
       "1203  ...   \n",
       "1204  ...   \n",
       "1205  ...   \n",
       "1206  ...   \n",
       "\n",
       "      District 2024 Domain 1A: Approaches Grade Level STD, Grade 8, Non-Continuous Enrollee, STAAR Science Rate  \\\n",
       "0                                                  50.0                                                           \n",
       "1                                                  88.0                                                           \n",
       "2                                                  50.0                                                           \n",
       "3                                                  86.0                                                           \n",
       "4                                                  60.0                                                           \n",
       "...                                                 ...                                                           \n",
       "1202                                               60.0                                                           \n",
       "1203                                               69.0                                                           \n",
       "1204                                               44.0                                                           \n",
       "1205                                               45.0                                                           \n",
       "1206                                               33.0                                                           \n",
       "\n",
       "      District 2024 Domain 1A: Meets Grade Level STD, Grade 8, Non-Continuous Enrollee, STAAR Science Rate  \\\n",
       "0                                                  42.0                                                      \n",
       "1                                                  58.0                                                      \n",
       "2                                                  35.0                                                      \n",
       "3                                                  86.0                                                      \n",
       "4                                                  35.0                                                      \n",
       "...                                                 ...                                                      \n",
       "1202                                               40.0                                                      \n",
       "1203                                               62.0                                                      \n",
       "1204                                               22.0                                                      \n",
       "1205                                               23.0                                                      \n",
       "1206                                                0.0                                                      \n",
       "\n",
       "      District 2024 Domain 1A: Masters Grade Level STD, Grade 8, Non-Continuous Enrollee, STAAR Science Rate  \\\n",
       "0                                                   0.0                                                        \n",
       "1                                                  12.0                                                        \n",
       "2                                                   5.0                                                        \n",
       "3                                                   0.0                                                        \n",
       "4                                                   6.0                                                        \n",
       "...                                                 ...                                                        \n",
       "1202                                                0.0                                                        \n",
       "1203                                               23.0                                                        \n",
       "1204                                                6.0                                                        \n",
       "1205                                                9.0                                                        \n",
       "1206                                                0.0                                                        \n",
       "\n",
       "               District  District Number  TEA District Type  \\\n",
       "0            CAYUGA ISD             1902                  H   \n",
       "1           ELKHART ISD             1903                  G   \n",
       "2         FRANKSTON ISD             1904                  H   \n",
       "3            NECHES ISD             1906                  H   \n",
       "4         PALESTINE ISD             1907                  E   \n",
       "...                 ...              ...                ...   \n",
       "1202      NEWCASTLE ISD           252902                  H   \n",
       "1203          OLNEY ISD           252903                  H   \n",
       "1204  ZAPATA COUNTY ISD           253901                  D   \n",
       "1205   CRYSTAL CITY ISD           254901                  G   \n",
       "1206       LA PRYOR ISD           254902                  H   \n",
       "\n",
       "                  TEA Description  NCES District Type  NCES Description  \\\n",
       "0                           Rural                  43      Rural-Remote   \n",
       "1         Non-metropolitan Stable                  42     Rural-Distant   \n",
       "2                           Rural                  42     Rural-Distant   \n",
       "3                           Rural                  42     Rural-Distant   \n",
       "4                Independent Town                  32      Town-Distant   \n",
       "...                           ...                 ...               ...   \n",
       "1202                        Rural                  42     Rural-Distant   \n",
       "1203                        Rural                  32      Town-Distant   \n",
       "1204  Other Central City Suburban                  33       Town-Remote   \n",
       "1205      Non-metropolitan Stable                  33       Town-Remote   \n",
       "1206                        Rural                  43      Rural-Remote   \n",
       "\n",
       "      Charter School (Y/N)  \n",
       "0                        N  \n",
       "1                        N  \n",
       "2                        N  \n",
       "3                        N  \n",
       "4                        N  \n",
       "...                    ...  \n",
       "1202                     N  \n",
       "1203                     N  \n",
       "1204                     N  \n",
       "1205                     N  \n",
       "1206                     N  \n",
       "\n",
       "[1021 rows x 6590 columns]"
      ]
     },
     "execution_count": 64,
     "metadata": {},
     "output_type": "execute_result"
    }
   ],
   "source": [
    "df"
   ]
  },
  {
   "cell_type": "code",
   "execution_count": 66,
   "id": "a5b02843",
   "metadata": {},
   "outputs": [
    {
     "data": {
      "application/vnd.plotly.v1+json": {
       "config": {
        "plotlyServerURL": "https://plot.ly"
       },
       "data": [
        {
         "name": "Approaches Grade Level",
         "type": "bar",
         "visible": true,
         "x": [
          "CAYUGA ISD",
          "DUBLIN ISD",
          "BELLS ISD",
          "GLADEWATER ISD",
          "KENEDY ISD"
         ],
         "y": {
          "bdata": "AAAAAAAgUkAAAAAAAKBUQAAAAAAAwFVAAAAAAACATUCrqqqqqupPQA==",
          "dtype": "f8"
         }
        },
        {
         "name": "Meets Grade Level",
         "type": "bar",
         "visible": true,
         "x": [
          "CAYUGA ISD",
          "DUBLIN ISD",
          "BELLS ISD",
          "GLADEWATER ISD",
          "KENEDY ISD"
         ],
         "y": {
          "bdata": "VVVVVVVVRkBVVVVVVZVJQFVVVVVVtVBAAAAAAAAAO0Crqqqqqio+QA==",
          "dtype": "f8"
         }
        },
        {
         "name": "Masters Grade Level",
         "type": "bar",
         "visible": true,
         "x": [
          "CAYUGA ISD",
          "DUBLIN ISD",
          "BELLS ISD",
          "GLADEWATER ISD",
          "KENEDY ISD"
         ],
         "y": {
          "bdata": "q6qqqqqqKkAAAAAAAIA0QFVVVVVV1TlAAAAAAAAAGkAAAAAAAAAUQA==",
          "dtype": "f8"
         }
        },
        {
         "name": "Approaches Grade Level",
         "type": "bar",
         "visible": false,
         "x": [
          "CAYUGA ISD",
          "DUBLIN ISD",
          "BELLS ISD",
          "GLADEWATER ISD",
          "KENEDY ISD"
         ],
         "y": {
          "bdata": "VVVVVVVVVUAAAAAAAGBWQKuqqqqq6lVAVVVVVVU1UkBVVVVVVdVSQA==",
          "dtype": "f8"
         }
        },
        {
         "name": "Meets Grade Level",
         "type": "bar",
         "visible": false,
         "x": [
          "CAYUGA ISD",
          "DUBLIN ISD",
          "BELLS ISD",
          "GLADEWATER ISD",
          "KENEDY ISD"
         ],
         "y": {
          "bdata": "q6qqqqqqT0BVVVVVVZVOQFVVVVVVlVBAAAAAAADAREAAAAAAAIBEQA==",
          "dtype": "f8"
         }
        },
        {
         "name": "Masters Grade Level",
         "type": "bar",
         "visible": false,
         "x": [
          "CAYUGA ISD",
          "DUBLIN ISD",
          "BELLS ISD",
          "GLADEWATER ISD",
          "KENEDY ISD"
         ],
         "y": {
          "bdata": "q6qqqqoqPkAAAAAAAAA7QFVVVVVVFUFAq6qqqqqqLUBVVVVVVVUoQA==",
          "dtype": "f8"
         }
        },
        {
         "name": "Approaches Grade Level",
         "type": "bar",
         "visible": false,
         "x": [
          "CAYUGA ISD",
          "DUBLIN ISD",
          "BELLS ISD",
          "GLADEWATER ISD",
          "KENEDY ISD"
         ],
         "y": {
          "bdata": "AAAAAACgUEAAAAAAAKBTQAAAAAAAQFZAAAAAAABATUAAAAAAAIBLQA==",
          "dtype": "f8"
         }
        },
        {
         "name": "Meets Grade Level",
         "type": "bar",
         "visible": false,
         "x": [
          "CAYUGA ISD",
          "DUBLIN ISD",
          "BELLS ISD",
          "GLADEWATER ISD",
          "KENEDY ISD"
         ],
         "y": {
          "bdata": "AAAAAAAARkAAAAAAAEBFQAAAAAAAIFFAAAAAAAAAPEAAAAAAAIAyQA==",
          "dtype": "f8"
         }
        },
        {
         "name": "Masters Grade Level",
         "type": "bar",
         "visible": false,
         "x": [
          "CAYUGA ISD",
          "DUBLIN ISD",
          "BELLS ISD",
          "GLADEWATER ISD",
          "KENEDY ISD"
         ],
         "y": {
          "bdata": "AAAAAAAALEAAAAAAAAArQAAAAAAAADtAAAAAAAAAFkAAAAAAAAAUQA==",
          "dtype": "f8"
         }
        },
        {
         "name": "Approaches Grade Level",
         "type": "bar",
         "visible": false,
         "x": [
          "CAYUGA ISD",
          "DUBLIN ISD",
          "BELLS ISD",
          "GLADEWATER ISD",
          "KENEDY ISD"
         ],
         "y": {
          "bdata": "AAAAAABAUEAAAAAAAMBRQAAAAAAAAFRAAAAAAAAATUAAAAAAAABOQA==",
          "dtype": "f8"
         }
        },
        {
         "name": "Meets Grade Level",
         "type": "bar",
         "visible": false,
         "x": [
          "CAYUGA ISD",
          "DUBLIN ISD",
          "BELLS ISD",
          "GLADEWATER ISD",
          "KENEDY ISD"
         ],
         "y": {
          "bdata": "AAAAAACAREAAAAAAAIBGQAAAAAAAgEZAAAAAAAAANEAAAAAAAAA6QA==",
          "dtype": "f8"
         }
        },
        {
         "name": "Masters Grade Level",
         "type": "bar",
         "visible": false,
         "x": [
          "CAYUGA ISD",
          "DUBLIN ISD",
          "BELLS ISD",
          "GLADEWATER ISD",
          "KENEDY ISD"
         ],
         "y": {
          "bdata": "AAAAAAAAMkAAAAAAAAAsQAAAAAAAADNAAAAAAAAAFEAAAAAAAAAcQA==",
          "dtype": "f8"
         }
        }
       ],
       "layout": {
        "barmode": "group",
        "height": 600,
        "legend": {
         "title": {
          "text": "Performance Level"
         }
        },
        "template": {
         "data": {
          "bar": [
           {
            "error_x": {
             "color": "#2a3f5f"
            },
            "error_y": {
             "color": "#2a3f5f"
            },
            "marker": {
             "line": {
              "color": "#E5ECF6",
              "width": 0.5
             },
             "pattern": {
              "fillmode": "overlay",
              "size": 10,
              "solidity": 0.2
             }
            },
            "type": "bar"
           }
          ],
          "barpolar": [
           {
            "marker": {
             "line": {
              "color": "#E5ECF6",
              "width": 0.5
             },
             "pattern": {
              "fillmode": "overlay",
              "size": 10,
              "solidity": 0.2
             }
            },
            "type": "barpolar"
           }
          ],
          "carpet": [
           {
            "aaxis": {
             "endlinecolor": "#2a3f5f",
             "gridcolor": "white",
             "linecolor": "white",
             "minorgridcolor": "white",
             "startlinecolor": "#2a3f5f"
            },
            "baxis": {
             "endlinecolor": "#2a3f5f",
             "gridcolor": "white",
             "linecolor": "white",
             "minorgridcolor": "white",
             "startlinecolor": "#2a3f5f"
            },
            "type": "carpet"
           }
          ],
          "choropleth": [
           {
            "colorbar": {
             "outlinewidth": 0,
             "ticks": ""
            },
            "type": "choropleth"
           }
          ],
          "contour": [
           {
            "colorbar": {
             "outlinewidth": 0,
             "ticks": ""
            },
            "colorscale": [
             [
              0,
              "#0d0887"
             ],
             [
              0.1111111111111111,
              "#46039f"
             ],
             [
              0.2222222222222222,
              "#7201a8"
             ],
             [
              0.3333333333333333,
              "#9c179e"
             ],
             [
              0.4444444444444444,
              "#bd3786"
             ],
             [
              0.5555555555555556,
              "#d8576b"
             ],
             [
              0.6666666666666666,
              "#ed7953"
             ],
             [
              0.7777777777777778,
              "#fb9f3a"
             ],
             [
              0.8888888888888888,
              "#fdca26"
             ],
             [
              1,
              "#f0f921"
             ]
            ],
            "type": "contour"
           }
          ],
          "contourcarpet": [
           {
            "colorbar": {
             "outlinewidth": 0,
             "ticks": ""
            },
            "type": "contourcarpet"
           }
          ],
          "heatmap": [
           {
            "colorbar": {
             "outlinewidth": 0,
             "ticks": ""
            },
            "colorscale": [
             [
              0,
              "#0d0887"
             ],
             [
              0.1111111111111111,
              "#46039f"
             ],
             [
              0.2222222222222222,
              "#7201a8"
             ],
             [
              0.3333333333333333,
              "#9c179e"
             ],
             [
              0.4444444444444444,
              "#bd3786"
             ],
             [
              0.5555555555555556,
              "#d8576b"
             ],
             [
              0.6666666666666666,
              "#ed7953"
             ],
             [
              0.7777777777777778,
              "#fb9f3a"
             ],
             [
              0.8888888888888888,
              "#fdca26"
             ],
             [
              1,
              "#f0f921"
             ]
            ],
            "type": "heatmap"
           }
          ],
          "histogram": [
           {
            "marker": {
             "pattern": {
              "fillmode": "overlay",
              "size": 10,
              "solidity": 0.2
             }
            },
            "type": "histogram"
           }
          ],
          "histogram2d": [
           {
            "colorbar": {
             "outlinewidth": 0,
             "ticks": ""
            },
            "colorscale": [
             [
              0,
              "#0d0887"
             ],
             [
              0.1111111111111111,
              "#46039f"
             ],
             [
              0.2222222222222222,
              "#7201a8"
             ],
             [
              0.3333333333333333,
              "#9c179e"
             ],
             [
              0.4444444444444444,
              "#bd3786"
             ],
             [
              0.5555555555555556,
              "#d8576b"
             ],
             [
              0.6666666666666666,
              "#ed7953"
             ],
             [
              0.7777777777777778,
              "#fb9f3a"
             ],
             [
              0.8888888888888888,
              "#fdca26"
             ],
             [
              1,
              "#f0f921"
             ]
            ],
            "type": "histogram2d"
           }
          ],
          "histogram2dcontour": [
           {
            "colorbar": {
             "outlinewidth": 0,
             "ticks": ""
            },
            "colorscale": [
             [
              0,
              "#0d0887"
             ],
             [
              0.1111111111111111,
              "#46039f"
             ],
             [
              0.2222222222222222,
              "#7201a8"
             ],
             [
              0.3333333333333333,
              "#9c179e"
             ],
             [
              0.4444444444444444,
              "#bd3786"
             ],
             [
              0.5555555555555556,
              "#d8576b"
             ],
             [
              0.6666666666666666,
              "#ed7953"
             ],
             [
              0.7777777777777778,
              "#fb9f3a"
             ],
             [
              0.8888888888888888,
              "#fdca26"
             ],
             [
              1,
              "#f0f921"
             ]
            ],
            "type": "histogram2dcontour"
           }
          ],
          "mesh3d": [
           {
            "colorbar": {
             "outlinewidth": 0,
             "ticks": ""
            },
            "type": "mesh3d"
           }
          ],
          "parcoords": [
           {
            "line": {
             "colorbar": {
              "outlinewidth": 0,
              "ticks": ""
             }
            },
            "type": "parcoords"
           }
          ],
          "pie": [
           {
            "automargin": true,
            "type": "pie"
           }
          ],
          "scatter": [
           {
            "fillpattern": {
             "fillmode": "overlay",
             "size": 10,
             "solidity": 0.2
            },
            "type": "scatter"
           }
          ],
          "scatter3d": [
           {
            "line": {
             "colorbar": {
              "outlinewidth": 0,
              "ticks": ""
             }
            },
            "marker": {
             "colorbar": {
              "outlinewidth": 0,
              "ticks": ""
             }
            },
            "type": "scatter3d"
           }
          ],
          "scattercarpet": [
           {
            "marker": {
             "colorbar": {
              "outlinewidth": 0,
              "ticks": ""
             }
            },
            "type": "scattercarpet"
           }
          ],
          "scattergeo": [
           {
            "marker": {
             "colorbar": {
              "outlinewidth": 0,
              "ticks": ""
             }
            },
            "type": "scattergeo"
           }
          ],
          "scattergl": [
           {
            "marker": {
             "colorbar": {
              "outlinewidth": 0,
              "ticks": ""
             }
            },
            "type": "scattergl"
           }
          ],
          "scattermap": [
           {
            "marker": {
             "colorbar": {
              "outlinewidth": 0,
              "ticks": ""
             }
            },
            "type": "scattermap"
           }
          ],
          "scattermapbox": [
           {
            "marker": {
             "colorbar": {
              "outlinewidth": 0,
              "ticks": ""
             }
            },
            "type": "scattermapbox"
           }
          ],
          "scatterpolar": [
           {
            "marker": {
             "colorbar": {
              "outlinewidth": 0,
              "ticks": ""
             }
            },
            "type": "scatterpolar"
           }
          ],
          "scatterpolargl": [
           {
            "marker": {
             "colorbar": {
              "outlinewidth": 0,
              "ticks": ""
             }
            },
            "type": "scatterpolargl"
           }
          ],
          "scatterternary": [
           {
            "marker": {
             "colorbar": {
              "outlinewidth": 0,
              "ticks": ""
             }
            },
            "type": "scatterternary"
           }
          ],
          "surface": [
           {
            "colorbar": {
             "outlinewidth": 0,
             "ticks": ""
            },
            "colorscale": [
             [
              0,
              "#0d0887"
             ],
             [
              0.1111111111111111,
              "#46039f"
             ],
             [
              0.2222222222222222,
              "#7201a8"
             ],
             [
              0.3333333333333333,
              "#9c179e"
             ],
             [
              0.4444444444444444,
              "#bd3786"
             ],
             [
              0.5555555555555556,
              "#d8576b"
             ],
             [
              0.6666666666666666,
              "#ed7953"
             ],
             [
              0.7777777777777778,
              "#fb9f3a"
             ],
             [
              0.8888888888888888,
              "#fdca26"
             ],
             [
              1,
              "#f0f921"
             ]
            ],
            "type": "surface"
           }
          ],
          "table": [
           {
            "cells": {
             "fill": {
              "color": "#EBF0F8"
             },
             "line": {
              "color": "white"
             }
            },
            "header": {
             "fill": {
              "color": "#C8D4E3"
             },
             "line": {
              "color": "white"
             }
            },
            "type": "table"
           }
          ]
         },
         "layout": {
          "annotationdefaults": {
           "arrowcolor": "#2a3f5f",
           "arrowhead": 0,
           "arrowwidth": 1
          },
          "autotypenumbers": "strict",
          "coloraxis": {
           "colorbar": {
            "outlinewidth": 0,
            "ticks": ""
           }
          },
          "colorscale": {
           "diverging": [
            [
             0,
             "#8e0152"
            ],
            [
             0.1,
             "#c51b7d"
            ],
            [
             0.2,
             "#de77ae"
            ],
            [
             0.3,
             "#f1b6da"
            ],
            [
             0.4,
             "#fde0ef"
            ],
            [
             0.5,
             "#f7f7f7"
            ],
            [
             0.6,
             "#e6f5d0"
            ],
            [
             0.7,
             "#b8e186"
            ],
            [
             0.8,
             "#7fbc41"
            ],
            [
             0.9,
             "#4d9221"
            ],
            [
             1,
             "#276419"
            ]
           ],
           "sequential": [
            [
             0,
             "#0d0887"
            ],
            [
             0.1111111111111111,
             "#46039f"
            ],
            [
             0.2222222222222222,
             "#7201a8"
            ],
            [
             0.3333333333333333,
             "#9c179e"
            ],
            [
             0.4444444444444444,
             "#bd3786"
            ],
            [
             0.5555555555555556,
             "#d8576b"
            ],
            [
             0.6666666666666666,
             "#ed7953"
            ],
            [
             0.7777777777777778,
             "#fb9f3a"
            ],
            [
             0.8888888888888888,
             "#fdca26"
            ],
            [
             1,
             "#f0f921"
            ]
           ],
           "sequentialminus": [
            [
             0,
             "#0d0887"
            ],
            [
             0.1111111111111111,
             "#46039f"
            ],
            [
             0.2222222222222222,
             "#7201a8"
            ],
            [
             0.3333333333333333,
             "#9c179e"
            ],
            [
             0.4444444444444444,
             "#bd3786"
            ],
            [
             0.5555555555555556,
             "#d8576b"
            ],
            [
             0.6666666666666666,
             "#ed7953"
            ],
            [
             0.7777777777777778,
             "#fb9f3a"
            ],
            [
             0.8888888888888888,
             "#fdca26"
            ],
            [
             1,
             "#f0f921"
            ]
           ]
          },
          "colorway": [
           "#636efa",
           "#EF553B",
           "#00cc96",
           "#ab63fa",
           "#FFA15A",
           "#19d3f3",
           "#FF6692",
           "#B6E880",
           "#FF97FF",
           "#FECB52"
          ],
          "font": {
           "color": "#2a3f5f"
          },
          "geo": {
           "bgcolor": "white",
           "lakecolor": "white",
           "landcolor": "#E5ECF6",
           "showlakes": true,
           "showland": true,
           "subunitcolor": "white"
          },
          "hoverlabel": {
           "align": "left"
          },
          "hovermode": "closest",
          "mapbox": {
           "style": "light"
          },
          "paper_bgcolor": "white",
          "plot_bgcolor": "#E5ECF6",
          "polar": {
           "angularaxis": {
            "gridcolor": "white",
            "linecolor": "white",
            "ticks": ""
           },
           "bgcolor": "#E5ECF6",
           "radialaxis": {
            "gridcolor": "white",
            "linecolor": "white",
            "ticks": ""
           }
          },
          "scene": {
           "xaxis": {
            "backgroundcolor": "#E5ECF6",
            "gridcolor": "white",
            "gridwidth": 2,
            "linecolor": "white",
            "showbackground": true,
            "ticks": "",
            "zerolinecolor": "white"
           },
           "yaxis": {
            "backgroundcolor": "#E5ECF6",
            "gridcolor": "white",
            "gridwidth": 2,
            "linecolor": "white",
            "showbackground": true,
            "ticks": "",
            "zerolinecolor": "white"
           },
           "zaxis": {
            "backgroundcolor": "#E5ECF6",
            "gridcolor": "white",
            "gridwidth": 2,
            "linecolor": "white",
            "showbackground": true,
            "ticks": "",
            "zerolinecolor": "white"
           }
          },
          "shapedefaults": {
           "line": {
            "color": "#2a3f5f"
           }
          },
          "ternary": {
           "aaxis": {
            "gridcolor": "white",
            "linecolor": "white",
            "ticks": ""
           },
           "baxis": {
            "gridcolor": "white",
            "linecolor": "white",
            "ticks": ""
           },
           "bgcolor": "#E5ECF6",
           "caxis": {
            "gridcolor": "white",
            "linecolor": "white",
            "ticks": ""
           }
          },
          "title": {
           "x": 0.05
          },
          "xaxis": {
           "automargin": true,
           "gridcolor": "white",
           "linecolor": "white",
           "ticks": "",
           "title": {
            "standoff": 15
           },
           "zerolinecolor": "white",
           "zerolinewidth": 2
          },
          "yaxis": {
           "automargin": true,
           "gridcolor": "white",
           "linecolor": "white",
           "ticks": "",
           "title": {
            "standoff": 15
           },
           "zerolinecolor": "white",
           "zerolinewidth": 2
          }
         }
        },
        "title": {
         "text": "STAAR Performance for Mathematics"
        },
        "updatemenus": [
         {
          "active": 0,
          "buttons": [
           {
            "args": [
             {
              "visible": [
               true,
               true,
               true,
               false,
               false,
               false,
               false,
               false,
               false,
               false,
               false,
               false
              ]
             },
             {
              "title": "STAAR Performance for Mathematics"
             }
            ],
            "label": "Mathematics",
            "method": "update"
           },
           {
            "args": [
             {
              "visible": [
               false,
               false,
               false,
               true,
               true,
               true,
               false,
               false,
               false,
               false,
               false,
               false
              ]
             },
             {
              "title": "STAAR Performance for Reading/ELA"
             }
            ],
            "label": "Reading/ELA",
            "method": "update"
           },
           {
            "args": [
             {
              "visible": [
               false,
               false,
               false,
               false,
               false,
               false,
               true,
               true,
               true,
               false,
               false,
               false
              ]
             },
             {
              "title": "STAAR Performance for Science"
             }
            ],
            "label": "Science",
            "method": "update"
           },
           {
            "args": [
             {
              "visible": [
               false,
               false,
               false,
               false,
               false,
               false,
               false,
               false,
               false,
               true,
               true,
               true
              ]
             },
             {
              "title": "STAAR Performance for Social Studies"
             }
            ],
            "label": "Social Studies",
            "method": "update"
           }
          ],
          "x": 1.1,
          "xanchor": "left",
          "y": 1.15,
          "yanchor": "top"
         }
        ],
        "xaxis": {
         "title": {
          "text": "District Name"
         }
        },
        "yaxis": {
         "title": {
          "text": "Percent of Students"
         }
        }
       }
      }
     },
     "metadata": {},
     "output_type": "display_data"
    }
   ],
   "source": [
    "import plotly.graph_objs as go\n",
    "from plotly.subplots import make_subplots\n",
    "import pandas as pd\n",
    "\n",
    "def plot_staar(df, neighbors):\n",
    "    staar_df = get_subject_level_averages(df)\n",
    "    neighbor_ids = list(neighbors['DISTRICT_id'])\n",
    "\n",
    "    # Filter to only include selected districts\n",
    "    staar_df = staar_df[staar_df['DISTRICT_id'].isin(neighbor_ids)]\n",
    "\n",
    "    # Define subjects and performance levels\n",
    "    subjects = ['Mathematics', 'Reading/ELA', 'Science', 'Social Studies']\n",
    "    levels = ['Approaches Grade Level', 'Meets Grade Level', 'Masters Grade Level']\n",
    "\n",
    "    # Predefine traces and buttons\n",
    "    data = []\n",
    "    buttons = []\n",
    "\n",
    "    for i, subject in enumerate(subjects):\n",
    "        traces = []\n",
    "        for level in levels:\n",
    "            col = f\"{subject} ({level})\"\n",
    "            trace = go.Bar(\n",
    "                x=staar_df['DISTNAME'],\n",
    "                y=staar_df[col],\n",
    "                name=level,\n",
    "                visible=(i == 0)  # Only show the first subject initially\n",
    "            )\n",
    "            traces.append(trace)\n",
    "            data.append(trace)\n",
    "\n",
    "        # Create visibility mask for this subject\n",
    "        visibility = [False] * len(subjects) * len(levels)\n",
    "        for j in range(len(levels)):\n",
    "            visibility[i * len(levels) + j] = True\n",
    "\n",
    "        button = dict(\n",
    "            label=subject,\n",
    "            method=\"update\",\n",
    "            args=[{\"visible\": visibility},\n",
    "                  {\"title\": f\"STAAR Performance for {subject}\"}]\n",
    "        )\n",
    "        buttons.append(button)\n",
    "\n",
    "    layout = go.Layout(\n",
    "        title=\"STAAR Performance for Mathematics\",\n",
    "        barmode='group',\n",
    "        xaxis_title=\"District Name\",\n",
    "        yaxis_title=\"Percent of Students\",\n",
    "        updatemenus=[dict(\n",
    "            active=0,\n",
    "            buttons=buttons,\n",
    "            x=1.1,\n",
    "            xanchor=\"left\",\n",
    "            y=1.15,\n",
    "            yanchor=\"top\"\n",
    "        )]\n",
    "    )\n",
    "\n",
    "    fig = go.Figure(data=data, layout=layout)\n",
    "    fig.update_layout(legend_title_text=\"Performance Level\", height=600)\n",
    "    return fig\n",
    "\n",
    "\n",
    "\n",
    "plot_staar(df, neighbors)"
   ]
  }
 ],
 "metadata": {
  "kernelspec": {
   "display_name": "Python 3",
   "language": "python",
   "name": "python3"
  },
  "language_info": {
   "codemirror_mode": {
    "name": "ipython",
    "version": 3
   },
   "file_extension": ".py",
   "mimetype": "text/x-python",
   "name": "python",
   "nbconvert_exporter": "python",
   "pygments_lexer": "ipython3",
   "version": "3.12.4"
  }
 },
 "nbformat": 4,
 "nbformat_minor": 5
}
