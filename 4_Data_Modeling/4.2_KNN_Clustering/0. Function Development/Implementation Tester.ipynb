{
 "cells": [
  {
   "cell_type": "markdown",
   "metadata": {},
   "source": [
    "# K-Nearest Neighbors (KNN) Yearly Implementation \n",
    "----\n",
    "This code allows you to select a year of data that you want, and then uses the KNN model to locate school district and locate its K nearest neighbors. \n",
    " "
   ]
  },
  {
   "cell_type": "markdown",
   "metadata": {},
   "source": [
    "## Importing packages, lists, and functions "
   ]
  },
  {
   "cell_type": "markdown",
   "metadata": {},
   "source": [
    "Importing Necessary Packages "
   ]
  },
  {
   "cell_type": "code",
   "execution_count": 1,
   "metadata": {},
   "outputs": [],
   "source": [
    "import os \n",
    "import pandas as pd\n",
    "import numpy as np"
   ]
  },
  {
   "cell_type": "code",
   "execution_count": 3,
   "metadata": {},
   "outputs": [
    {
     "data": {
      "text/plain": [
       "{'student_teacher_ratio': ['District 2023 Staff: Teacher Student Ratio'],\n",
       " 'student_count': ['District 2022-23 Total Students Count'],\n",
       " 'staff_count': ['District 2023 Staff: All Staff Total Full Time Equiv Count'],\n",
       " 'race_ethnicity_percent': ['District 2022-23 African American Students Percent',\n",
       "  'District 2022-23 American Indian Students Percent',\n",
       "  'District 2022-23 Asian Students Percent',\n",
       "  'District 2022-23 Hispanic Students Percent',\n",
       "  'District 2022-23 Pacific Islander Students Percent',\n",
       "  'District 2022-23 Two or More Races Students Percent',\n",
       "  'District 2022-23 White Students Percent'],\n",
       " 'economically_disadvantaged': ['District 2022-23 Economically Disadvantaged Students Percent',\n",
       "  'District 2022-23 Title I Students percent'],\n",
       " 'special_ed_504': ['District 2022-23 Section 504 Students Percent',\n",
       "  'District 2022-23 Special Education Students Percent'],\n",
       " 'language_education_percent': ['District 2022-23 Bilingual/ESL Education Students Percent',\n",
       "  'District 2022-23 Emergent Bilingual/English Learner Students Percent'],\n",
       " 'special_populations_percent': ['District 2022-23 Foster Care Students Percent',\n",
       "  'District 2022-23 Homeless Students Percent',\n",
       "  'District 2022-23 Immigrant Students Percent',\n",
       "  'District 2022-23 Migrant Students Percent',\n",
       "  'District 2022-23 Military Connected Students Percent'],\n",
       " 'gifted_students': ['District 2022-23 Gifted & Talented Education Students Percent'],\n",
       " 'district_identifiers': ['DISTRICT_id',\n",
       "  'TEA District Type',\n",
       "  'TEA Description',\n",
       "  'NCES District Type',\n",
       "  'NCES Description',\n",
       "  'Charter School (Y/N)',\n",
       "  'COUNTY',\n",
       "  'REGION',\n",
       "  'DISTRICT',\n",
       "  'DISTNAME',\n",
       "  'CNTYNAME',\n",
       "  'DFLCHART',\n",
       "  'DFLALTED',\n",
       "  'ASVAB_STATUS']}"
      ]
     },
     "execution_count": 3,
     "metadata": {},
     "output_type": "execute_result"
    }
   ],
   "source": [
    "from KNN_Model import find_nearest_districts\n",
    "demo_buckets, neighbors = find_nearest_districts(2023, 101912, ['race_ethnicity_percent', 'student_teacher_ratio', 'special_ed_504'])\n",
    "demo_buckets"
   ]
  },
  {
   "cell_type": "code",
   "execution_count": 4,
   "metadata": {},
   "outputs": [
    {
     "data": {
      "text/html": [
       "<div>\n",
       "<style scoped>\n",
       "    .dataframe tbody tr th:only-of-type {\n",
       "        vertical-align: middle;\n",
       "    }\n",
       "\n",
       "    .dataframe tbody tr th {\n",
       "        vertical-align: top;\n",
       "    }\n",
       "\n",
       "    .dataframe thead th {\n",
       "        text-align: right;\n",
       "    }\n",
       "</style>\n",
       "<table border=\"1\" class=\"dataframe\">\n",
       "  <thead>\n",
       "    <tr style=\"text-align: right;\">\n",
       "      <th></th>\n",
       "      <th>DISTRICT_id</th>\n",
       "      <th>DISTNAME</th>\n",
       "    </tr>\n",
       "  </thead>\n",
       "  <tbody>\n",
       "    <tr>\n",
       "      <th>532</th>\n",
       "      <td>101912</td>\n",
       "      <td>HOUSTON ISD</td>\n",
       "    </tr>\n",
       "    <tr>\n",
       "      <th>524</th>\n",
       "      <td>101902</td>\n",
       "      <td>ALDINE ISD</td>\n",
       "    </tr>\n",
       "    <tr>\n",
       "      <th>1093</th>\n",
       "      <td>227907</td>\n",
       "      <td>MANOR ISD</td>\n",
       "    </tr>\n",
       "    <tr>\n",
       "      <th>541</th>\n",
       "      <td>101924</td>\n",
       "      <td>SHELDON ISD</td>\n",
       "    </tr>\n",
       "    <tr>\n",
       "      <th>1137</th>\n",
       "      <td>237902</td>\n",
       "      <td>HEMPSTEAD ISD</td>\n",
       "    </tr>\n",
       "  </tbody>\n",
       "</table>\n",
       "</div>"
      ],
      "text/plain": [
       "      DISTRICT_id       DISTNAME\n",
       "532        101912    HOUSTON ISD\n",
       "524        101902     ALDINE ISD\n",
       "1093       227907      MANOR ISD\n",
       "541        101924    SHELDON ISD\n",
       "1137       237902  HEMPSTEAD ISD"
      ]
     },
     "execution_count": 4,
     "metadata": {},
     "output_type": "execute_result"
    }
   ],
   "source": [
    "neighbors"
   ]
  }
 ],
 "metadata": {
  "kernelspec": {
   "display_name": "Python 3",
   "language": "python",
   "name": "python3"
  },
  "language_info": {
   "codemirror_mode": {
    "name": "ipython",
    "version": 3
   },
   "file_extension": ".py",
   "mimetype": "text/x-python",
   "name": "python",
   "nbconvert_exporter": "python",
   "pygments_lexer": "ipython3",
   "version": "3.12.4"
  }
 },
 "nbformat": 4,
 "nbformat_minor": 2
}
