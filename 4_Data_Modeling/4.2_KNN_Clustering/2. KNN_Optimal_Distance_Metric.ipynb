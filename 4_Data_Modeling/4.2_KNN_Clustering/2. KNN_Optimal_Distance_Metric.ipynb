{
 "cells": [
  {
   "cell_type": "markdown",
   "metadata": {},
   "source": [
    "# K-Nearest Neighbors (KNN) Implementation \n",
    "----\n",
    "This code allows you to select a school district and locate its K nearest neighbors. \n",
    " "
   ]
  },
  {
   "cell_type": "markdown",
   "metadata": {},
   "source": [
    "## Importing necessary packages, lists, and functions "
   ]
  },
  {
   "cell_type": "code",
   "execution_count": 103,
   "metadata": {},
   "outputs": [],
   "source": [
    "import os\n",
    "import pandas as pd\n",
    "import numpy as np\n",
    "import matplotlib as plt"
   ]
  },
  {
   "cell_type": "markdown",
   "metadata": {},
   "source": [
    "Importing demographic buckets from Demographic_Buckets.py file (Demographic buckets to run model on)"
   ]
  },
  {
   "cell_type": "code",
   "execution_count": 104,
   "metadata": {},
   "outputs": [],
   "source": [
    "os.chdir(r\"C:\\Users\\mmath\\OneDrive\\Desktop\\Capstone\\HERC_Sp25\\4_Data_Modeling\\4.2_KNN_Clustering\")\n",
    "from Demographic_Buckets import student_teacher_ratio\n",
    "from Demographic_Buckets import student_count\n",
    "from Demographic_Buckets import staff_count\n",
    "from Demographic_Buckets import race_ethnicity_percent\n",
    "from Demographic_Buckets import economically_disadvantaged\n",
    "from Demographic_Buckets import special_ed_504\n",
    "from Demographic_Buckets import language_education_percent\n",
    "from Demographic_Buckets import special_populations_percent\n",
    "from Demographic_Buckets import gifted_students\n",
    "from Demographic_Buckets import district_identifiers"
   ]
  },
  {
   "cell_type": "markdown",
   "metadata": {},
   "source": [
    "Importing modeling functions from the KNN_Model.py file (containing all functions used for this analysis)"
   ]
  },
  {
   "cell_type": "code",
   "execution_count": 105,
   "metadata": {},
   "outputs": [],
   "source": [
    "from KNN_Model import calculate_missing_percentage\n",
    "from KNN_Model import drop_columns\n",
    "from KNN_Model import preprocess_data\n",
    "from KNN_Model import knn_distance\n",
    "from KNN_Model import knn_cosine\n",
    "from KNN_Model import knn_canberra\n",
    "from KNN_Model import find_nearest_districts\n",
    "from KNN_Model import get_neighbor_data"
   ]
  },
  {
   "cell_type": "markdown",
   "metadata": {},
   "source": [
    "Importing diagnostic plot functions from the KNN_Diagnostic_Plots.py file (containing all functions used for this analysis)"
   ]
  },
  {
   "cell_type": "code",
   "execution_count": 106,
   "metadata": {},
   "outputs": [],
   "source": [
    "from KNN_Diagnostic_Plots import plot_texas_districts\n",
    "from KNN_Diagnostic_Plots import plot_race_ethnicity_stacked_bar\n",
    "from KNN_Diagnostic_Plots import plot_class_size_k6_bar\n",
    "from KNN_Diagnostic_Plots import plot_special_ed_504_bar"
   ]
  },
  {
   "cell_type": "markdown",
   "metadata": {},
   "source": [
    "## Reading in Data & Cleaning"
   ]
  },
  {
   "cell_type": "code",
   "execution_count": 107,
   "metadata": {},
   "outputs": [],
   "source": [
    "#Reading in the data\n",
    "os.chdir(r\"C:\\Users\\mmath\\OneDrive\\Desktop\\Capstone\\HERC_Sp25\\4_Data_Modeling\\4.2_KNN_Clustering\")\n",
    "df = pd.read_csv(r\"C:\\Users\\mmath\\OneDrive\\Desktop\\Capstone\\HERC_Sp25\\0_Datasets\\1.7Master_Files\\Individual Year Files_Take2\\merged_2023.csv\")\n",
    "distgrad = pd.read_csv(r\"C:\\Users\\mmath\\OneDrive\\Desktop\\Capstone\\HERC_Sp25\\0_Datasets\\1.6Data2023\\District\\clean_data\\distgrad_2023_clean.csv\")\n",
    "distprof = pd.read_csv(r\"C:\\Users\\mmath\\OneDrive\\Desktop\\Capstone\\HERC_Sp25\\0_Datasets\\1.6Data2023\\District\\clean_data\\distprof_2023_clean.csv\")\n",
    "df = df[df['Charter School (Y/N)'] == 'N']\n",
    "demographic_df = df[student_teacher_ratio + student_count + staff_count + race_ethnicity_percent + economically_disadvantaged +\n",
    "                    special_ed_504 + language_education_percent + special_populations_percent + gifted_students +\n",
    "                    district_identifiers]\n",
    "\n",
    "# Select only numeric columns\n",
    "numeric_cols = df.select_dtypes(include='number').columns\n",
    "\n",
    "# Replace negative values with NaN only in numeric columns\n",
    "df[numeric_cols] = df[numeric_cols].mask(df[numeric_cols] < 0, np.nan)\n",
    "\n",
    "\n",
    "#plt.hist(calculate_missing_percentage(demographic_df) / 100)\n",
    "#plt.title(\"Histogram of percentage of NA values in columns within demographic attributes\")\n",
    "#demographic_df\n"
   ]
  },
  {
   "cell_type": "markdown",
   "metadata": {},
   "source": [
    "## Selecting the distance metric that finds nearest neighbors that are \"internally similar\" across multiple target districts and features\n",
    "---  \n",
    "Methodology:  \n",
    "* Curate 3–5 meaningful feature sets\n",
    "* Sample 10–20 diverse anchor districts\n",
    "* Loop over distance metrics + feature sets\n",
    "* Use internal similarity (avg pairwise distance) to score\n",
    "* Pick best-performing metric\n",
    "* (Optional) sanity-check a few neighbor outputs"
   ]
  },
  {
   "cell_type": "markdown",
   "metadata": {},
   "source": [
    "Step1: Curated 4 meaningful feature sets including \n",
    "* Basic \n",
    "* Demographic heavy feature set \n",
    "* Support Services heavy feature set \n",
    "* All features "
   ]
  },
  {
   "cell_type": "code",
   "execution_count": 108,
   "metadata": {},
   "outputs": [],
   "source": [
    "feature_sets = {\n",
    "    'basic': student_teacher_ratio + \n",
    "              student_count +\n",
    "              staff_count,\n",
    "    \n",
    "    'demographics': \n",
    "        race_ethnicity_percent + \n",
    "        economically_disadvantaged +\n",
    "        language_education_percent +\n",
    "        special_populations_percent \n",
    "    ,\n",
    "    \n",
    "    'support_services': \n",
    "        special_ed_504 + \n",
    "        gifted_students +\n",
    "        language_education_percent +\n",
    "        special_populations_percent\n",
    "    ,\n",
    "    \n",
    "    'all_features': \n",
    "        student_teacher_ratio + \n",
    "        student_count +\n",
    "        staff_count +\n",
    "        race_ethnicity_percent +\n",
    "        economically_disadvantaged +\n",
    "        special_ed_504 +\n",
    "        language_education_percent +\n",
    "        special_populations_percent +\n",
    "        gifted_students\n",
    "    \n",
    "}"
   ]
  },
  {
   "cell_type": "markdown",
   "metadata": {},
   "source": [
    "Step 2: Select 30 anchor districts.  \n",
    "Anchor districts are determined using proportional stratified sampling across the entire 2023 dataset. Stratification is a tool that tries to take a representative sample of a whole df based on specified columns. Stratification works because it keeps the sample small enoguh to compute, but diverse enough to trust your results\n",
    "   \n",
    "Districts are stratified based on\n",
    "* TEA Description: 8 columns outline what type of area district is in (Suburban, Urban, etc)\n",
    "* Region: 1-20 major state/region groupings determined by the TEA (San Antonio, Houston, etc) "
   ]
  },
  {
   "cell_type": "code",
   "execution_count": 109,
   "metadata": {},
   "outputs": [
    {
     "name": "stderr",
     "output_type": "stream",
     "text": [
      "C:\\Users\\mmath\\AppData\\Local\\Temp\\ipykernel_18008\\1514667669.py:8: DeprecationWarning: DataFrameGroupBy.apply operated on the grouping columns. This behavior is deprecated, and in a future version of pandas the grouping columns will be excluded from the operation. Either pass `include_groups=False` to exclude the groupings or explicitly select the grouping columns after groupby to silence this warning.\n",
      "  anchor_districts = grouped.apply(lambda x: x.sample(1, random_state=42)).reset_index(drop=True)\n"
     ]
    }
   ],
   "source": [
    "# Strip quotes and whitespace from REGION column if needed\n",
    "df['REGION'] = df['REGION'].str.strip().str.replace(\"'\", \"\")\n",
    "\n",
    "# Group by REGION and TEA Description, then sample 1 from each group\n",
    "grouped = df.groupby(['REGION', 'TEA Description'])\n",
    "\n",
    "# Sample 1 district from each unique group (if enough data exists)\n",
    "anchor_districts = grouped.apply(lambda x: x.sample(1, random_state=42)).reset_index(drop=True)\n",
    "\n",
    "# Optional: Limit to 30 districts for feasibility\n",
    "anchor_df = anchor_districts.sample(n=30, random_state=42) if len(anchor_districts) > 30 else anchor_districts\n",
    "\n",
    "# Get district IDs\n",
    "anchor_ids = anchor_df['DISTRICT_id'].tolist()\n",
    "\n"
   ]
  },
  {
   "cell_type": "markdown",
   "metadata": {},
   "source": [
    "Step 3: Loop over distance metrics + feature sets \n",
    "* Iteratue over each feature set (step 1)\n",
    "* For each feature set, try each distance metric \n",
    "* For each combo, run find_nearest_districts() on every anchor district \n",
    "* Collect the neighbor district id"
   ]
  },
  {
   "cell_type": "code",
   "execution_count": 110,
   "metadata": {},
   "outputs": [
    {
     "data": {
      "text/html": [
       "<div>\n",
       "<style scoped>\n",
       "    .dataframe tbody tr th:only-of-type {\n",
       "        vertical-align: middle;\n",
       "    }\n",
       "\n",
       "    .dataframe tbody tr th {\n",
       "        vertical-align: top;\n",
       "    }\n",
       "\n",
       "    .dataframe thead th {\n",
       "        text-align: right;\n",
       "    }\n",
       "</style>\n",
       "<table border=\"1\" class=\"dataframe\">\n",
       "  <thead>\n",
       "    <tr style=\"text-align: right;\">\n",
       "      <th></th>\n",
       "      <th>anchor_id</th>\n",
       "      <th>feature_set</th>\n",
       "      <th>distance_metric</th>\n",
       "      <th>neighbor_ids</th>\n",
       "      <th>neighbor_distname</th>\n",
       "    </tr>\n",
       "  </thead>\n",
       "  <tbody>\n",
       "    <tr>\n",
       "      <th>0</th>\n",
       "      <td>233901</td>\n",
       "      <td>basic</td>\n",
       "      <td>euclidean</td>\n",
       "      <td>[233901, 15911, 101924, 227913, 159901]</td>\n",
       "      <td>[SAN FELIPE-DEL RIO CISD, EAST CENTRAL ISD, SH...</td>\n",
       "    </tr>\n",
       "    <tr>\n",
       "      <th>1</th>\n",
       "      <td>13901</td>\n",
       "      <td>basic</td>\n",
       "      <td>euclidean</td>\n",
       "      <td>[13901, 146906, 84908, 187907, 71904]</td>\n",
       "      <td>[BEEVILLE ISD, LIBERTY ISD, HITCHCOCK ISD, LIV...</td>\n",
       "    </tr>\n",
       "    <tr>\n",
       "      <th>2</th>\n",
       "      <td>34905</td>\n",
       "      <td>basic</td>\n",
       "      <td>euclidean</td>\n",
       "      <td>[34905, 127901, 157901, 183901, 34907]</td>\n",
       "      <td>[LINDEN-KILDARE CISD, ANSON ISD, MASON ISD, BE...</td>\n",
       "    </tr>\n",
       "    <tr>\n",
       "      <th>3</th>\n",
       "      <td>227901</td>\n",
       "      <td>basic</td>\n",
       "      <td>euclidean</td>\n",
       "      <td>[227901, 170902, 79907, 220905, 101902]</td>\n",
       "      <td>[AUSTIN ISD, CONROE ISD, FORT BEND ISD, FORT W...</td>\n",
       "    </tr>\n",
       "    <tr>\n",
       "      <th>4</th>\n",
       "      <td>158901</td>\n",
       "      <td>basic</td>\n",
       "      <td>euclidean</td>\n",
       "      <td>[158901, 15909, 247903, 161906, 247901]</td>\n",
       "      <td>[BAY CITY ISD, SOMERSET ISD, LA VERNIA ISD, LA...</td>\n",
       "    </tr>\n",
       "    <tr>\n",
       "      <th>...</th>\n",
       "      <td>...</td>\n",
       "      <td>...</td>\n",
       "      <td>...</td>\n",
       "      <td>...</td>\n",
       "      <td>...</td>\n",
       "    </tr>\n",
       "    <tr>\n",
       "      <th>475</th>\n",
       "      <td>94902</td>\n",
       "      <td>all_features</td>\n",
       "      <td>cosine</td>\n",
       "      <td>[94902, 46902, 20908, 43907, 199901]</td>\n",
       "      <td>[SCHERTZ-CIBOLO-U CITY ISD, COMAL ISD, PEARLAN...</td>\n",
       "    </tr>\n",
       "    <tr>\n",
       "      <th>476</th>\n",
       "      <td>15907</td>\n",
       "      <td>all_features</td>\n",
       "      <td>cosine</td>\n",
       "      <td>[15907, 31901, 101911, 101903, 240903]</td>\n",
       "      <td>[SAN ANTONIO ISD, BROWNSVILLE ISD, GOOSE CREEK...</td>\n",
       "    </tr>\n",
       "    <tr>\n",
       "      <th>477</th>\n",
       "      <td>123910</td>\n",
       "      <td>all_features</td>\n",
       "      <td>cosine</td>\n",
       "      <td>[123910, 57907, 212905, 246906, 57910]</td>\n",
       "      <td>[BEAUMONT ISD, DUNCANVILLE ISD, TYLER ISD, HUT...</td>\n",
       "    </tr>\n",
       "    <tr>\n",
       "      <th>478</th>\n",
       "      <td>39902</td>\n",
       "      <td>all_features</td>\n",
       "      <td>cosine</td>\n",
       "      <td>[39902, 102906, 221904, 161918, 234903]</td>\n",
       "      <td>[HENRIETTA ISD, ELYSIAN FIELDS ISD, MERKEL ISD...</td>\n",
       "    </tr>\n",
       "    <tr>\n",
       "      <th>479</th>\n",
       "      <td>15912</td>\n",
       "      <td>all_features</td>\n",
       "      <td>cosine</td>\n",
       "      <td>[15912, 108908, 233901, 31906, 14909]</td>\n",
       "      <td>[SOUTHWEST ISD, MISSION CISD, SAN FELIPE-DEL R...</td>\n",
       "    </tr>\n",
       "  </tbody>\n",
       "</table>\n",
       "<p>480 rows × 5 columns</p>\n",
       "</div>"
      ],
      "text/plain": [
       "     anchor_id   feature_set distance_metric  \\\n",
       "0       233901         basic       euclidean   \n",
       "1        13901         basic       euclidean   \n",
       "2        34905         basic       euclidean   \n",
       "3       227901         basic       euclidean   \n",
       "4       158901         basic       euclidean   \n",
       "..         ...           ...             ...   \n",
       "475      94902  all_features          cosine   \n",
       "476      15907  all_features          cosine   \n",
       "477     123910  all_features          cosine   \n",
       "478      39902  all_features          cosine   \n",
       "479      15912  all_features          cosine   \n",
       "\n",
       "                                neighbor_ids  \\\n",
       "0    [233901, 15911, 101924, 227913, 159901]   \n",
       "1      [13901, 146906, 84908, 187907, 71904]   \n",
       "2     [34905, 127901, 157901, 183901, 34907]   \n",
       "3    [227901, 170902, 79907, 220905, 101902]   \n",
       "4    [158901, 15909, 247903, 161906, 247901]   \n",
       "..                                       ...   \n",
       "475     [94902, 46902, 20908, 43907, 199901]   \n",
       "476   [15907, 31901, 101911, 101903, 240903]   \n",
       "477   [123910, 57907, 212905, 246906, 57910]   \n",
       "478  [39902, 102906, 221904, 161918, 234903]   \n",
       "479    [15912, 108908, 233901, 31906, 14909]   \n",
       "\n",
       "                                     neighbor_distname  \n",
       "0    [SAN FELIPE-DEL RIO CISD, EAST CENTRAL ISD, SH...  \n",
       "1    [BEEVILLE ISD, LIBERTY ISD, HITCHCOCK ISD, LIV...  \n",
       "2    [LINDEN-KILDARE CISD, ANSON ISD, MASON ISD, BE...  \n",
       "3    [AUSTIN ISD, CONROE ISD, FORT BEND ISD, FORT W...  \n",
       "4    [BAY CITY ISD, SOMERSET ISD, LA VERNIA ISD, LA...  \n",
       "..                                                 ...  \n",
       "475  [SCHERTZ-CIBOLO-U CITY ISD, COMAL ISD, PEARLAN...  \n",
       "476  [SAN ANTONIO ISD, BROWNSVILLE ISD, GOOSE CREEK...  \n",
       "477  [BEAUMONT ISD, DUNCANVILLE ISD, TYLER ISD, HUT...  \n",
       "478  [HENRIETTA ISD, ELYSIAN FIELDS ISD, MERKEL ISD...  \n",
       "479  [SOUTHWEST ISD, MISSION CISD, SAN FELIPE-DEL R...  \n",
       "\n",
       "[480 rows x 5 columns]"
      ]
     },
     "execution_count": 110,
     "metadata": {},
     "output_type": "execute_result"
    }
   ],
   "source": [
    "results = []\n",
    "distance_metrics = [\n",
    "    'euclidean',\n",
    "    'manhattan',\n",
    "    'mahalanobis',\n",
    "    'cosine']\n",
    "\n",
    "\n",
    "for feature_name, features in feature_sets.items(): # Gathering all 4 of the feature combinations \n",
    "    for metric in distance_metrics: # Getting all 4 different distance metrics \n",
    "        for anchor_id in anchor_ids: #Gett all 30 specific districts\n",
    "            try:\n",
    "                neighbors = find_nearest_districts(df, anchor_id, features, 5, metric, \"median\") #running the neighbors code given the parameters \n",
    "                # Saving results to easy to manipulate dataframe \n",
    "                results.append({\n",
    "                    'anchor_id': anchor_id,\n",
    "                    'feature_set': feature_name,\n",
    "                    'distance_metric': metric,\n",
    "                    'neighbor_ids': list(neighbors['DISTRICT_id']), \n",
    "                    'neighbor_distname': list(neighbors['DISTNAME'])\n",
    "                })\n",
    "            except Exception as e:\n",
    "                print(f\"Failed for anchor {anchor_id} with {metric} on {feature_name}: {e}\")\n",
    "\n",
    "neighbor_results = pd.DataFrame(results)\n",
    "neighbor_results\n"
   ]
  },
  {
   "cell_type": "markdown",
   "metadata": {},
   "source": [
    "Step 4: For each anchor district + feature set + distnace metric combo, evaluate how similar the 5 neighbors are to eachother  \n",
    "\n",
    "This will tell us how cohesive/tight the neighborhood is - a tight cluster means that the distance metric is doing a good job. \n",
    "\n",
    "Specifically, sklearn.metrics.pairwise_distances will be used to compute the average pairwise distance among the 5 neighbors in the same feature space used to find them "
   ]
  },
  {
   "cell_type": "code",
   "execution_count": 111,
   "metadata": {},
   "outputs": [],
   "source": [
    "from sklearn.metrics import pairwise_distances\n",
    "import numpy as np\n",
    "\n",
    "def internal_similarity_score(df, neighbor_ids, feature_list, metric):\n",
    "    \"\"\"\n",
    "    Computes average pairwise distance between a list of neighbor districts \n",
    "    using selected features and a distance metric.\n",
    "    \n",
    "    Parameters:\n",
    "    -----------\n",
    "    df : pd.DataFrame\n",
    "        Full dataset of districts.\n",
    "    neighbor_ids : list\n",
    "        List of DISTRICT_id values (including or excluding anchor).\n",
    "    feature_list : list\n",
    "        List of feature column names to compare.\n",
    "    metric : str\n",
    "        Distance metric to use: 'euclidean', 'manhattan', etc.\n",
    "\n",
    "    Returns:\n",
    "    --------\n",
    "    float\n",
    "        Average pairwise distance between all neighbors (excluding anchor if needed).\n",
    "        Returns np.nan if fewer than 2 valid rows after dropna.\n",
    "    \"\"\"\n",
    "\n",
    "    # Subset and filter out missing values\n",
    "    data = df[df['DISTRICT_id'].isin(neighbor_ids)][feature_list].dropna()\n",
    "\n",
    "    # Require at least 2 districts to calculate pairwise distance\n",
    "    if data.shape[0] < 2:\n",
    "        return np.nan\n",
    "\n",
    "    # Compute pairwise distance matrix\n",
    "    dists = pairwise_distances(data, metric=metric.lower())\n",
    "\n",
    "    # Extract upper triangle of the matrix (no diagonal)\n",
    "    upper_triangle = dists[np.triu_indices_from(dists, k=1)]\n",
    "\n",
    "    return upper_triangle.mean()\n"
   ]
  },
  {
   "cell_type": "code",
   "execution_count": null,
   "metadata": {},
   "outputs": [],
   "source": [
    "from sklearn.preprocessing import StandardScaler\n",
    "from sklearn.metrics import pairwise_distances\n",
    "\n",
    "\n",
    "def internal_similarity_score(df, neighbor_ids, feature_list, metric):\n",
    "    \"\"\"\n",
    "    Computes average pairwise distance between a list of neighbor districts \n",
    "    using selected features and a distance metric.\n",
    "    \n",
    "    Parameters:\n",
    "    -----------\n",
    "    df : pd.DataFrame\n",
    "        Full dataset of districts.\n",
    "    neighbor_ids : list\n",
    "        List of DISTRICT_id values (including or excluding anchor).\n",
    "    feature_list : list\n",
    "        List of feature column names to compare.\n",
    "    metric : str\n",
    "        Distance metric to use: 'euclidean', 'manhattan', etc.\n",
    "\n",
    "    Returns:\n",
    "    --------\n",
    "    float\n",
    "        Average pairwise distance between all neighbors (excluding anchor if needed).\n",
    "        Returns np.nan if fewer than 2 valid rows after dropna.\n",
    "    \"\"\"\n",
    "\n",
    "    # Subset to neighbors and drop rows with missing data\n",
    "    data = df[df['DISTRICT_id'].isin(neighbor_ids)][feature_list].dropna()\n",
    "\n",
    "    if data.shape[0] < 2:\n",
    "        return np.nan\n",
    "\n",
    "    try:\n",
    "        # Standardize unless using cosine\n",
    "        if metric.lower() != 'cosine':\n",
    "            scaler = StandardScaler()\n",
    "            data = scaler.fit_transform(data)\n",
    "\n",
    "        # Special handling for Mahalanobis\n",
    "        if metric.lower() == 'mahalanobis':\n",
    "            VI = np.linalg.inv(np.cov(data.T))\n",
    "            dists = pairwise_distances(data, metric='mahalanobis', VI=VI)\n",
    "        else:\n",
    "            dists = pairwise_distances(data, metric=metric.lower())\n",
    "\n",
    "        upper_triangle = dists[np.triu_indices_from(dists, k=1)]\n",
    "        return upper_triangle.mean()\n",
    "\n",
    "    except np.linalg.LinAlgError:\n",
    "        return np.nan\n",
    "\n",
    "\n",
    "similarity_scores = []\n",
    "\n",
    "for i, row in neighbor_results.iterrows():\n",
    "    feature_list = feature_sets[row['feature_set']]         # get actual list of column names\n",
    "    metric = row['distance_metric']\n",
    "    neighbor_ids = row['neighbor_ids']                      # already includes the anchor\n",
    "\n",
    "    score = internal_similarity_score(df, neighbor_ids, feature_list, metric)\n",
    "    similarity_scores.append(score)\n",
    "\n",
    "# Add results to the DataFrame\n",
    "neighbor_results['similarity_score'] = similarity_scores\n"
   ]
  },
  {
   "cell_type": "markdown",
   "metadata": {},
   "source": [
    "Step 5: Pick the best performing metric \n",
    "* Identify which distance metric (consistently finds the most internally similar neighbor groups (lowest similarity_score)"
   ]
  },
  {
   "cell_type": "code",
   "execution_count": 113,
   "metadata": {},
   "outputs": [
    {
     "data": {
      "text/plain": [
       "distance_metric\n",
       "cosine          0.006183\n",
       "mahalanobis     2.499996\n",
       "euclidean       5.116694\n",
       "manhattan      15.635107\n",
       "Name: similarity_score, dtype: float64"
      ]
     },
     "execution_count": 113,
     "metadata": {},
     "output_type": "execute_result"
    }
   ],
   "source": [
    "neighbor_results.groupby('distance_metric')['similarity_score'].mean().sort_values()"
   ]
  },
  {
   "cell_type": "code",
   "execution_count": 114,
   "metadata": {},
   "outputs": [
    {
     "name": "stdout",
     "output_type": "stream",
     "text": [
      "distance_metric     cosine  euclidean  mahalanobis  manhattan\n",
      "feature_set                                                  \n",
      "all_features      0.000655   7.198447          NaN  27.215257\n",
      "basic             0.000005   2.400489     2.400717   3.590059\n",
      "demographics      0.014626   6.058096     3.447724  19.433993\n",
      "support_services  0.009447   4.809743     2.892525  12.301117\n"
     ]
    }
   ],
   "source": [
    "pivot = neighbor_results.pivot_table(\n",
    "    index='feature_set',\n",
    "    columns='distance_metric',\n",
    "    values='similarity_score',\n",
    "    aggfunc='mean'\n",
    ")\n",
    "\n",
    "pivot = pivot.sort_index()\n",
    "print(pivot)\n"
   ]
  },
  {
   "cell_type": "code",
   "execution_count": 115,
   "metadata": {},
   "outputs": [
    {
     "data": {
      "image/png": "[encoded data removed]",
      "text/plain": [
       "<Figure size 1000x600 with 2 Axes>"
      ]
     },
     "metadata": {},
     "output_type": "display_data"
    }
   ],
   "source": [
    "import seaborn as sns\n",
    "import matplotlib.pyplot as plt\n",
    "\n",
    "plt.figure(figsize=(10, 6))\n",
    "sns.heatmap(pivot, annot=True, fmt=\".3f\", cmap=\"YlGnBu\")\n",
    "plt.title(\"Average Similarity Score by Feature Set and Distance Metric\")\n",
    "plt.ylabel(\"Feature Set\")\n",
    "plt.xlabel(\"Distance Metric\")\n",
    "plt.tight_layout()\n",
    "plt.show()\n"
   ]
  },
  {
   "cell_type": "code",
   "execution_count": 116,
   "metadata": {},
   "outputs": [
    {
     "name": "stdout",
     "output_type": "stream",
     "text": [
      "Best combo: Feature set = basic, Distance metric = cosine\n"
     ]
    }
   ],
   "source": [
    "best_combo = neighbor_results.groupby(['feature_set', 'distance_metric'])['similarity_score'].mean().idxmin()\n",
    "print(f\"Best combo: Feature set = {best_combo[0]}, Distance metric = {best_combo[1]}\")\n"
   ]
  },
  {
   "cell_type": "markdown",
   "metadata": {},
   "source": [
    "Results  \n",
    "✅ Cosine (0.0062)  \n",
    "The best.  \n",
    "\n",
    "Very low score = neighbors are very close in direction → features vary together.  \n",
    "\n",
    "Makes sense especially if many features are ratios or percentages.  \n",
    "\n",
    "✅ Mahalanobis (2.50)  \n",
    "Takes into account correlation among features.  \n",
    "\n",
    "Performs well when features are multivariate and linearly related.  \n",
    "\n",
    "Suggests it's a solid second-best.  \n",
    "\n",
    "✅ Euclidean (5.12)  \n",
    "Now a fair competitor. Works well on standardized data.  \n",
    "\n",
    "May perform even better with fewer dimensions.  \n",
    "\n",
    "🔻 Manhattan (15.64)  \n",
    "Still higher, which is expected — Manhattan (L1 norm) is more sensitive to many small deviations across dimensions.  \n",
    "\n",
    "Often less efficient than Euclidean in high-dimensional, normalized space.  \n",
    "\n"
   ]
  }
 ],
 "metadata": {
  "kernelspec": {
   "display_name": "Python 3",
   "language": "python",
   "name": "python3"
  },
  "language_info": {
   "codemirror_mode": {
    "name": "ipython",
    "version": 3
   },
   "file_extension": ".py",
   "mimetype": "text/x-python",
   "name": "python",
   "nbconvert_exporter": "python",
   "pygments_lexer": "ipython3",
   "version": "3.12.4"
  }
 },
 "nbformat": 4,
 "nbformat_minor": 2
}
