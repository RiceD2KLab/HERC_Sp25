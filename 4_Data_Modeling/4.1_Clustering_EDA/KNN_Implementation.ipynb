{
 "cells": [
  {
   "cell_type": "markdown",
   "metadata": {},
   "source": [
    "K-Nearest Neighbors (KNN) Implementation"
   ]
  },
  {
   "cell_type": "code",
   "execution_count": 17,
   "metadata": {},
   "outputs": [],
   "source": [
    "import os \n",
    "import pandas as pd \n",
    "import matplotlib.pyplot as plt\n",
    "import numpy as np"
   ]
  },
  {
   "cell_type": "code",
   "execution_count": 18,
   "metadata": {},
   "outputs": [],
   "source": [
    "#Reading in the data\n",
    "os.chdir(r\"C:\\Users\\mmath\\OneDrive\\Desktop\\Capstone\\HERC_Sp25\\0_Datasets\\1.7Master_Files\\Individual Year Files_Take2\")\n",
    "df = pd.read_csv(\"merged_2023.csv\")"
   ]
  },
  {
   "cell_type": "markdown",
   "metadata": {},
   "source": [
    "# Step 1: Dropping Useless Columns. Columns are useless if: \n",
    "* Have 50% or more missing values \n",
    "* Are numerator / denominator values "
   ]
  },
  {
   "cell_type": "code",
   "execution_count": 19,
   "metadata": {},
   "outputs": [
    {
     "name": "stdout",
     "output_type": "stream",
     "text": [
      "Original Dataset Shape: (1209, 6553)\n",
      "Dropped Dataset Shape: (1209, 2118)\n"
     ]
    },
    {
     "data": {
      "text/plain": [
       "(1209, 2118)"
      ]
     },
     "execution_count": 19,
     "metadata": {},
     "output_type": "execute_result"
    }
   ],
   "source": [
    "def calculate_missing_percentage(df):\n",
    "    \"\"\"\n",
    "    Function to calculate the percentage of missing values in each column of a given dataset.\n",
    "    \n",
    "    Parameters:\n",
    "        df (pd.DataFrame): The dataset as a pandas DataFrame.\n",
    "    \n",
    "    Returns:\n",
    "        pd.Series: A Series with column names as index and percentage of missing values as values.\n",
    "    \"\"\"\n",
    "    missing_percentage = (df.isna().sum() / len(df)) * 100\n",
    "    missing_percentage = missing_percentage[missing_percentage > 0]  # Only keep columns with missing values\n",
    "    \n",
    "    return missing_percentage.sort_values(ascending=False)  # Sort in descending order\n",
    "def drop_columns(df, threshold=50):\n",
    "    \"\"\"\n",
    "    Function to drop columns with missing values exceeding a specified threshold\n",
    "    and columns containing 'numerator' or 'denominator' in their names. These columsn are going to be fairly useless for analysis \n",
    "    \n",
    "    Parameters:\n",
    "        df (pd.DataFrame): The dataset as a pandas DataFrame.\n",
    "        threshold (float): The percentage threshold for dropping columns.\n",
    "    \n",
    "    Returns:\n",
    "        pd.DataFrame: The dataframe with columns dropped.\n",
    "    \"\"\"\n",
    "    print(f\"Original Dataset Shape: {df.shape}\")\n",
    "    missing_percentage = calculate_missing_percentage(df)\n",
    "    cols_to_drop = set(missing_percentage[missing_percentage >= threshold].index)\n",
    "    \n",
    "    # Drop columns containing 'numerator' or 'denominator' (case-insensitive)\n",
    "    cols_to_drop.update([col for col in df.columns if 'numerator' in col.lower() or 'denominator' in col.lower()])\n",
    "    \n",
    "    resulting_df = df.drop(columns=cols_to_drop)\n",
    "    print(f\"Dropped Dataset Shape: {resulting_df.shape}\")\n",
    "    return resulting_df\n",
    "\n",
    "clean_df = drop_columns(df)\n",
    "clean_df.shape"
   ]
  },
  {
   "cell_type": "code",
   "execution_count": 20,
   "metadata": {},
   "outputs": [
    {
     "data": {
      "text/plain": [
       "(array([249., 124., 416., 347., 308., 152.,  89.,  27.,  98., 115.]),\n",
       " array([0.00248139, 0.05202647, 0.10157155, 0.15111663, 0.2006617 ,\n",
       "        0.25020678, 0.29975186, 0.34929694, 0.39884202, 0.4483871 ,\n",
       "        0.49793218]),\n",
       " <BarContainer object of 10 artists>)"
      ]
     },
     "execution_count": 20,
     "metadata": {},
     "output_type": "execute_result"
    },
    {
     "data": {
      "image/png": "[encoded data removed]",
      "text/plain": [
       "<Figure size 640x480 with 1 Axes>"
      ]
     },
     "metadata": {},
     "output_type": "display_data"
    }
   ],
   "source": [
    "plt.hist(calculate_missing_percentage(clean_df) / 100)"
   ]
  },
  {
   "cell_type": "markdown",
   "metadata": {},
   "source": [
    "Step1 Results: Data went from (1209, 6553) --> (1209, 2118)"
   ]
  },
  {
   "cell_type": "code",
   "execution_count": 21,
   "metadata": {},
   "outputs": [
    {
     "data": {
      "text/plain": [
       "Index(['DISTRICT_id', 'District 2022 Attendance: All Students Days Present',\n",
       "       'District 2022 Attendance: Two or More Races Days Present',\n",
       "       'District 2022 Attendance: African American Days Present',\n",
       "       'District 2022 Attendance: Hispanic Days Present',\n",
       "       'District 2022 Attendance: White Days Present',\n",
       "       'District 2022 Attendance: Econ Disadv Days Present',\n",
       "       'District 2022 Attendance: Special Ed Days Present',\n",
       "       'District 2022 Attendance: Female Days Present',\n",
       "       'District 2022 Attendance: Male Days Present',\n",
       "       ...\n",
       "       'District 2023 Domain 1A: Approaches Grade Level STD, Grade 8, Non-Continuous Enrollee, STAAR Science Rate',\n",
       "       'District 2023 Domain 1A: Meets Grade Level STD, Grade 8, Non-Continuous Enrollee, STAAR Science Rate',\n",
       "       'District 2023 Domain 1A: Masters Grade Level STD, Grade 8, Non-Continuous Enrollee, STAAR Science Rate',\n",
       "       'District', 'District Number', 'TEA District Type', 'TEA Description',\n",
       "       'NCES District Type', 'NCES Description', 'Charter School (Y/N)'],\n",
       "      dtype='object', length=2118)"
      ]
     },
     "execution_count": 21,
     "metadata": {},
     "output_type": "execute_result"
    }
   ],
   "source": [
    "clean_df.columns"
   ]
  }
 ],
 "metadata": {
  "kernelspec": {
   "display_name": "Python 3",
   "language": "python",
   "name": "python3"
  },
  "language_info": {
   "codemirror_mode": {
    "name": "ipython",
    "version": 3
   },
   "file_extension": ".py",
   "mimetype": "text/x-python",
   "name": "python",
   "nbconvert_exporter": "python",
   "pygments_lexer": "ipython3",
   "version": "3.12.4"
  }
 },
 "nbformat": 4,
 "nbformat_minor": 2
}
