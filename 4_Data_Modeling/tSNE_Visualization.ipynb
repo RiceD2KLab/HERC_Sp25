{
 "cells": [
  {
   "cell_type": "markdown",
   "metadata": {},
   "source": [
    "# t-SNE Visualization of Clustering Data\n",
    "This notebook contains code to run t-SNE to visualize the key variables in the dataset used for clustering. t-SNE helps identify any relationships "
   ]
  },
  {
   "cell_type": "code",
   "execution_count": null,
   "metadata": {},
   "outputs": [],
   "source": [
    "import os\n",
    "from clusteringEDA import import_data\n",
    "owd = os.getcwd()\n",
    "\n",
    "os.chdir(\"/Users/biancaschutz/HERC_Sp25\")\n",
    "\n",
    "test = import_data([2020])"
   ]
  },
  {
   "cell_type": "code",
   "execution_count": null,
   "metadata": {},
   "outputs": [
    {
     "name": "stdout",
     "output_type": "stream",
     "text": [
      "Loaded in District Type for 2020\n"
     ]
    }
   ],
   "source": [
    "from clusteringEDA import add_district_type\n",
    "\n",
    "test_joined = add_district_type(test)"
   ]
  },
  {
   "cell_type": "code",
   "execution_count": 23,
   "metadata": {},
   "outputs": [
    {
     "ename": "ModuleNotFoundError",
     "evalue": "No module named 'clusteringEDA'",
     "output_type": "error",
     "traceback": [
      "\u001b[0;31m---------------------------------------------------------------------------\u001b[0m",
      "\u001b[0;31mModuleNotFoundError\u001b[0m                       Traceback (most recent call last)",
      "Cell \u001b[0;32mIn[23], line 1\u001b[0m\n\u001b[0;32m----> 1\u001b[0m \u001b[38;5;28;01mfrom\u001b[39;00m\u001b[38;5;250m \u001b[39m\u001b[38;5;21;01mclusteringEDA\u001b[39;00m\u001b[38;5;250m \u001b[39m\u001b[38;5;28;01mimport\u001b[39;00m select_columns\n\u001b[1;32m      3\u001b[0m test_selected \u001b[38;5;241m=\u001b[39m select_columns(test_joined)\n",
      "\u001b[0;31mModuleNotFoundError\u001b[0m: No module named 'clusteringEDA'"
     ]
    }
   ],
   "source": [
    "from clusteringEDA import select_columns\n",
    "\n",
    "test_selected = select_columns(test_joined)"
   ]
  },
  {
   "cell_type": "code",
   "execution_count": null,
   "metadata": {},
   "outputs": [],
   "source": [
    "from clusteringEDA import filter_out_charters\n",
    "\n",
    "test_filtered = filter_out_charters(test_selected)\n"
   ]
  },
  {
   "cell_type": "code",
   "execution_count": null,
   "metadata": {},
   "outputs": [
    {
     "data": {
      "application/vnd.plotly.v1+json": {
       "config": {
        "plotlyServerURL": "https://plot.ly"
       },
       "data": [
        {
         "hovertemplate": "color=Rural<br>x=%{x}<br>y=%{y}<extra></extra>",
         "legendgroup": "Rural",
         "marker": {
          "color": "#636efa",
          "symbol": "circle"
         },
         "mode": "markers",
         "name": "Rural",
         "showlegend": true,
         "type": "scattergl",
         "x": {
          "bdata": "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",
          "dtype": "f4"
         },
         "xaxis": "x",
         "y": {
          "bdata": "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",
          "dtype": "f4"
         },
         "yaxis": "y"
        },
        {
         "hovertemplate": "color=Non-metropolitan Stable<br>x=%{x}<br>y=%{y}<extra></extra>",
         "legendgroup": "Non-metropolitan Stable",
         "marker": {
          "color": "#EF553B",
          "symbol": "circle"
         },
         "mode": "markers",
         "name": "Non-metropolitan Stable",
         "showlegend": true,
         "type": "scattergl",
         "x": {
          "bdata": "mWo6wSEZK8Cg12ZBf/wqP4f/5kBeIozATKZsQZwfaz9txN5AK2gFQOZbzcDzpyNBXYoIQQhBNL+IIMHAQQYYQb8e2r9GAJ7B5EOjwYgVOsHiRnzBpMWCQTe5akHup6HBg8VWwZliJkGzflhBV4sBQRUIpMHtCIBBXjZHwYs5ocHRXEdBmKWPwbwhtUAEzShBYrzjvzYQAsH0x+TAn35mwXs6VkDs/+5ArlgxQRkVUL6Lyg/AL9yBwWZ2bEFK5aLB0RKKwcdgtcHumUK+p9nUQLrNasGtVKbBMCNtQWX/YkG2EXtBwHwawbeAdUG7ZpfBxAk0QdZdd8ESiy1BmuipP3AjssAyfDJB/4djQHDssMFmcnJBJYYMwQPoGsAZU6/BLDiBQaMNm8HaqG++hP9fwTtacMCBhoTASHaIwc7j/kA07I/BGy6Xwe34csHvho3BugB4Qa9TccE9HBLBb3J8wRSOG0GaV5fB6ba3wY1h18DAQHJBhQcMQZktOD9u9hBBapyHwRtqyUAosvvAMmh/QbfQK8FGIK7BVpDfwPYik8Hm0JnBiCC1QFZ4U8CsahXBO6WXwW6SH0EfB7jBzukdQC0RHUGRsqfBLDJcwQEGo8F4Wl5BOndkP9SRIkEQ+XxBXPNvQW1tW0E2OoJBcAt5QZcQisHnvYNBllW9weabhsHox6FAsu50QVy9v8FczKLBywvIwUJdRT85sYBBgmSBQb4jisG3iiJBZa2bwGGip8HOsCtAAFiYwaD0Nr5j71HBT8sUwRS5IcFCB7TB5KSzwQhkiMHOoKPBywh/v117P0HGwy5BixakwLIOjsFl0SLBzghWQTvEQsHsDDdAFuZ4QZDzH0E=",
          "dtype": "f4"
         },
         "xaxis": "x",
         "y": {
          "bdata": "U6rlQQXGBUKTYJJBX4kNQmrSCkKjagRCS4mOQU/dB0JDcgxCiYMGQiCG9kFQXy1AGyMHQoTWCULpjQNCGUPEQOTvB0LCUaxBhX+pQQB/4UF3P79BvAzJQceT5EGh9KJBS/7ZQWT9CUHpuG9BmlMMQi9ekEFs/cdBLxPfQQRKrkHmBP1BscHBQfcpCkLarYpAIiwGQugX8EEcqvlBte/NQRr9CELnJAxC4s8DQg7FBUJrGwxCmk7FQeSL80E7bJBByuDRQZ67gkEifgpCm9EIQtIn1UHx2Y9B7o/vQT5oiUGF0ELAinPtQdYCnEFp8sxBnjw/Qa4ixEHUHjVBbkkNQodhAkLQ87Q+OYQGQoqxc0E7zJdBtmnrQdl1BUJiLqNBNBa1QUgqt0E31wdC51DWQZhICELv9QVCVibdQbm/CULdzMdBJavLQUeB10H3s7VBEDbHQQvExUF0MOlBnwLHQaMkB0If0LFBr0KPQUxrAUIl999BDa4EQg3HCkK7uwhCU7vRQabmCEIyXfJBtLXMQfNj6EG7TZZBBjb2QTZSu0GcFbxBI1AIQreBA0L+EvdBEITNQSIoB0J1aotBorcMQnyDlEAIzLBBXiHVQf6otEFrdO9BZGYFQs8LzUBlfaNBX/LpQYUDiUHudL9B/wOrQQ8e20FUbsZBR7aEQVMM4EGCmwpCEt2WQTM7gEE4i7FBkiSFQTDSBEJERK5Bi8SvQVZwu0FZowNC6b0CQvgJlEHIXgdC6bm1QcZoDEJOWtxBLlHyQalo80H8yZtBZcmeQVaAwUHKvqtBlnYEQg24AkLxEQVC1LD5QSGGyEGeN/FBYgb5QRUr5EGWnAdCKBrUQbyhCUI=",
          "dtype": "f4"
         },
         "yaxis": "y"
        },
        {
         "hovertemplate": "color=Independent Town<br>x=%{x}<br>y=%{y}<extra></extra>",
         "legendgroup": "Independent Town",
         "marker": {
          "color": "#00cc96",
          "symbol": "circle"
         },
         "mode": "markers",
         "name": "Independent Town",
         "showlegend": true,
         "type": "scattergl",
         "x": {
          "bdata": "buZBQSi7p0HKzTtBT/xnQdjQ6kE/jldBVzCxQZtTNEGvSyRBoaW/wI1S9kAgO+S/QKw4QRo/Z0Fu02vB3P0lQQdrDUEa+iVBXt5UQVLry8HcJj9BVqBpQZi2S0H811hBJMI4QSeDXMA2SuTBiNghQbvBHEF8cUtB7MR3QYduLkFlPJPBhKwxQSRhY0F+lx5BDOZVQYXVMEHpTDVBa92WQBmnZMCiknlBMlbiwZzbTUFPMVBBYKolQcR2QUFK512/rgU8QVXCY0Ej7W5BK4dGQRtViMGrkhpBBn/cQSUxY0GJIAJCHO7FQSI2pEFqQjxBooQ3QcDWHUF8MURBskc5QQQp9D9t9F/Bshd6wA==",
          "dtype": "f4"
         },
         "xaxis": "x",
         "y": {
          "bdata": "1WBKQTk3n8B4bzZBpNHnQRAzmsD8jXJBHQW1wMtdOkH+roxALxT6Qb0wB0KXsQVCao+oPoOFiEHXZarBlC0IQaiYBkJ3EgVCTYx+QXB6eEGuHxu/tXaWQaHXQL8i/YFBcmoDQo43BkK5bipBzS50QA+x6EDmG4q/ARPYQW5ESz/eXcZB70KlP8PSg0G9Lu1A3K/av0nYIkEVYwNCLEgJQi5bAkJAlELAI94GQfsweEHHinJBN03oQCkzUEEkrwpCxpQAQoe58UHELlzANBmDv3OUukEYg6NA2IGqwONS50EEh3TAz4SowKSrnMAU+p29kZQxQcF6vkBq6llBZYpKQfEvC0J8D9NB1b0FQg==",
          "dtype": "f4"
         },
         "yaxis": "y"
        },
        {
         "hovertemplate": "color=Other Central City Suburban<br>x=%{x}<br>y=%{y}<extra></extra>",
         "legendgroup": "Other Central City Suburban",
         "marker": {
          "color": "#ab63fa",
          "symbol": "circle"
         },
         "mode": "markers",
         "name": "Other Central City Suburban",
         "showlegend": true,
         "type": "scattergl",
         "x": {
          "bdata": "KF8eQdPJlcFlRHZBmn/0QY4sT0Gb/btB/e+LQRM3RUGLHWJBAuQvwN9prUAdJU5BsnJxQXtBnsCPhhFCS2LgQQF2bkHeiNpB03BtwdHOC8GWBHpBImjDwYaPG0KN/h9CTPIMQkR+DkI2TX1BNsRzQSwytkHb0n/BuE0xQTthGUEo+wHB1V5NQS4fp75gpHhBldN5QT5WNUHbPiFCGKQlQV0CrEEkUWZBiuxpQYZNLcEpNXJBwQ50wf4QSUHfabRBDvnPQODsJUFJQC1BwGkywc0k2EAQ41k/ZPOowP0uxMEnxv9AiOkkQaynJ0EUCDDABi5NQaBNgcDvY3BBaYiWQW0XJ0E4Bea/Jft4QUQlJ0FIQutBWmt5QQ41d0GdbgVCB4wwQfOrXEGuJRxC39EIQn9F2UFVcA5C4bIaQQuNnEFqyntBy+ZDQa02r0E4EEVBTSUdQcSdLUF6o45BmMFYQbPqZ0FCyRtBfmmaP1FGK0E6OIXBQco9QaPQAMFhsKBBfYSPQWV32kHxrJrBCbNzQI3NrMFKhIvBoqwFQtaYs0FZOF1B5+BnQcusgUE7M3hBSF5kQWeNwkFus6ZB2cD/QW36IUG2NAtCHQe8wREQcEHX57DBGmddwWSSIUFGeWFBDEJfQW4N60CRlCdBBH0tQQKPm8GuGR3B00aIPtT2FMG4yrnAvq60wRgiPsGd64VBSO1HwNktoj+yIilBQkFeQfyipcHNYnVBEkskQeEOPEFOhTpBGz+JwV202EEkOoXBJZczQfB9R8Gj0mTB1bKBQeY9TcFeR3hBaoOAQZsSg0GkLIBB5fweQhzOgME/pr7B3rRMQUcgJUHQ3JXBI8ppQWV0rUEUw1lBFus4QVYkXUEej5zAVZZBQQ==",
          "dtype": "f4"
         },
         "xaxis": "x",
         "y": {
          "bdata": "fgCHQJoprUEwBKBBmB6VwKml9UHSjqbAFEiCwKKm/UG+pI1BuwEMQoE/CkIUK3BB59RdwJP0BEI/DjLAegOawI/a70E7f5jA1vTmQTYs9EH7DmLADbGOQYc7JsDXwtu/1I43wN2kVMAQfLtBJyqjQfqpn8B4A95BV1AAQo023ECdL/ZBQ3v5QQglC0JA67dB3QuzQQErTEECLwnA8oLmQI0pn8C8pPRBO6QgwE2L6UH1KS/Aj1DJQZP6X0GMHbTA9SwLQvV1UUBOYtM/QjHqQaraBkKKrQxCVhkFQgQbi0FWWAdCTKTRQPOENECkawdC0Lr4QelcB0IUPZFB2uScwN/pA0Jp6QdCDrrFQfy0vUCLiI7Ae769QZBnqkHWGYDAzV8CP49EdUHlsgTArWRmwL+krsAn/lbAKYiBQGCPncDBdbFBtKqyvv+moMCuOjK+CrgDQoujKkGh2IPA2K3pv6sP7EExz9JABCYLQvCnJkFEVL1B97VSQdLi60HYWJnAXiuWwDkul8Cu3cFBt6ALQiBCn0GuMdNBsmJ+wFwgscDJYH5Bfh6VQc7byUEticlBcEyQQfmrqMAEsKzAERGJwKw6tUAD6mnAtM2MQSUXM8BfgIpBCYvgQTv2+UBBtw3ANxj6QWZlBkK43ntACuA4Qb7frkGWOfZBeKYOQp3S8kGQXwRC38BxQaKO5UEOLnvADYMEQjJ4B0LhAhVAzLLvQeDvj0G/M7BB/OumQELXSD/ukD5BjzbLQUuPsMA/XcJBqDLQP+tT5EHzwdpB8p+3QX+t3UF05c1B6va5QeTEwUEdKM9BewkiwH301EE2vIxBbPBqQX6RAUI68L1Be8fzQTqUssD4IfRBh06TPzPug0HDWfxBzbE3QQ==",
          "dtype": "f4"
         },
         "yaxis": "y"
        },
        {
         "hovertemplate": "color=Major Suburban<br>x=%{x}<br>y=%{y}<extra></extra>",
         "legendgroup": "Major Suburban",
         "marker": {
          "color": "#FFA15A",
          "symbol": "circle"
         },
         "mode": "markers",
         "name": "Major Suburban",
         "showlegend": true,
         "type": "scattergl",
         "x": {
          "bdata": "TPxzQXNBO0ExOwFCnrHUQZ0luEFzy9dBVcICQtn3HkIr3GBBl5skQvYdG0KTuT5CT5ghQijCIUL9sKFBHMq6QcrG90F2skBCKyQoQoNri0FWRS5CqgedQcoNNUJSJTVCG4z+QUDKPkL30oBB1x3oQcXSRkHEbXdB4IhHQsapP0HG6jdCSTdFQnhnOkICVdJBgIOBQaiKSkL+XflBYy0cQnXXHkI2QzpCCW5IQkYHQEJMyJZBb0U/Qm2oMEKYXDBCTz8RQlps10G0eJZBOpAYQmYweUGcoCtB9qTxQV76zUEFLGNBzdSBQXoqHkLFcGpBpcgDQnvsMEKRSjFCsus5QTmaCkJcJGxBg3CKQfc7H0J16DZBHjsZQjyAt0HOVpFBZ7DiwOWcI0KW3c9BgvyuQV9i5EE5juVBWLc9Qj/nNkI=",
          "dtype": "f4"
         },
         "xaxis": "x",
         "y": {
          "bdata": "fKrbQZ7mVz++DGzAovOtwAG/oMBj1JnA+aGGwCX/IMAfJxvAHhYJwA6HIMDNZZG+Ds8awIA01r/nSKrAmwKwwBz9j8ATeqC+8FDXv96kkMCcZ7y/f6elwMTLV7+Cgqq/tGR6wOxXdL9BCqxBu72dwFNoR0EOyG3AGY06v2efPkGZ7qW/YnX+vuJ/eb8YrqnAr4B2wAeE3r+ZQILAS8EEwPqZ5r9dDJm//Rp0v98Ddb//KJPAbtN5v7Urbb8G72y/Xe5DwEQXmMDx8Y7Ac1YgwF/p0kEfbSxAiSaWwNXSnsAzUTDAdadjwLOS7r/1ikrAQ+hdwOx2z7++4oi/BBcwQTmeYsCedY5BOOCLwO5EIsAaMClBnhAbwFjtm8BZ/YjAbYHtwUrkEMDqwrHAjhCZwDxVn8CdmpPA7QPYvtEOpL8=",
          "dtype": "f4"
         },
         "yaxis": "y"
        },
        {
         "hovertemplate": "color=Non-metropolitan Fast Growing<br>x=%{x}<br>y=%{y}<extra></extra>",
         "legendgroup": "Non-metropolitan Fast Growing",
         "marker": {
          "color": "#19d3f3",
          "symbol": "circle"
         },
         "mode": "markers",
         "name": "Non-metropolitan Fast Growing",
         "showlegend": true,
         "type": "scattergl",
         "x": {
          "bdata": "nZ5iwbExq8H5gZ9AIZqSwTvZGEFAwCdBs8ZuQaQxLUE7OE9BrCrCwYul58FgfOjB3q2swRp3YcHpC7jBuECnwZRaccHRzOfBQC+BwZzNG0ETZ9vBABzHwXXwEMGtVMTBz0kTwbq+3MGe1FPBsqLTwexBa8Eu2AzBk2QowWO7xMG0qrbBPJ48wQ==",
          "dtype": "f4"
         },
         "xaxis": "x",
         "y": {
          "bdata": "CEeOwb89AsHRgQpCDaS1QVjFvEDf/A5BxPmdQb25PEG8UaC/PaCGQVmLU0AsT41A1r6jQS88r8G39ljBebWEwXb/psHv5ea/wI7KQef/AkLXH7tAXqxQPPIv+UFLkSpB7lCdwW0SQcFBYbbBD30DwXFpyUFDUPxBJIuswSpxZcFv8GHB8FO6wQ==",
          "dtype": "f4"
         },
         "yaxis": "y"
        },
        {
         "hovertemplate": "color=Other Central City<br>x=%{x}<br>y=%{y}<extra></extra>",
         "legendgroup": "Other Central City",
         "marker": {
          "color": "#FF6692",
          "symbol": "circle"
         },
         "mode": "markers",
         "name": "Other Central City",
         "showlegend": true,
         "type": "scattergl",
         "x": {
          "bdata": "Myo6QmJG80GY7QJC2LYKQtgxOEJTiENCDArOQU1tKkL7yi5CYEjSQQmpzEHauTBCcuvtQerokUHZEJ9BCru4QaHxCULhD7FBmQgvQjyyLEJjPyVCfHMQQio0+0HfIixBf8wkQqTIBkJFJyNCvRxEQqaIMkKObKxBmKEsQi0V3UGdQg1CnDwRQr6KDEJjbwVC/SA4Qq83A0LfYPNB",
          "dtype": "f4"
         },
         "xaxis": "x",
         "y": {
          "bdata": "h2gDv/+5h8AGVobA8Fk+wGdeJ7+OX6m+EOKrwJaQyb/6XNO/vR+bwLcip8AHK9C/q3eUwHeJmcCRBJfAZ+6zwPh5QsA/7JrAKCGBvxjTnL97pPC/p7guwKBQisDrjJo/uXfPv/ylW8Azpc2/QVxUv8dCsb+ldbHA6PbEv6Dqp8DRQjbAgq9EwB9OY8CIB1vAlxgpv1EUXsBIkofA",
          "dtype": "f4"
         },
         "yaxis": "y"
        },
        {
         "hovertemplate": "color=Major Urban<br>x=%{x}<br>y=%{y}<extra></extra>",
         "legendgroup": "Major Urban",
         "marker": {
          "color": "#B6E880",
          "symbol": "circle"
         },
         "mode": "markers",
         "name": "Major Urban",
         "showlegend": true,
         "type": "scattergl",
         "x": {
          "bdata": "y188QukfREIkKUpCUlpLQvVxQEKbpzVCFBU8QqW3S0KnV0JC9lpIQqETSEI=",
          "dtype": "f4"
         },
         "xaxis": "x",
         "y": {
          "bdata": "M1UEv/xw1r5Lw8e/KjoJwDfHoL6sdUq/7s6Mv9EtFsA2vVK/FVZvv1ivXL8=",
          "dtype": "f4"
         },
         "yaxis": "y"
        }
       ],
       "layout": {
        "legend": {
         "title": {
          "text": "TEA Description"
         },
         "tracegroupgap": 0
        },
        "margin": {
         "t": 60
        },
        "template": {
         "data": {
          "bar": [
           {
            "error_x": {
             "color": "#2a3f5f"
            },
            "error_y": {
             "color": "#2a3f5f"
            },
            "marker": {
             "line": {
              "color": "#E5ECF6",
              "width": 0.5
             },
             "pattern": {
              "fillmode": "overlay",
              "size": 10,
              "solidity": 0.2
             }
            },
            "type": "bar"
           }
          ],
          "barpolar": [
           {
            "marker": {
             "line": {
              "color": "#E5ECF6",
              "width": 0.5
             },
             "pattern": {
              "fillmode": "overlay",
              "size": 10,
              "solidity": 0.2
             }
            },
            "type": "barpolar"
           }
          ],
          "carpet": [
           {
            "aaxis": {
             "endlinecolor": "#2a3f5f",
             "gridcolor": "white",
             "linecolor": "white",
             "minorgridcolor": "white",
             "startlinecolor": "#2a3f5f"
            },
            "baxis": {
             "endlinecolor": "#2a3f5f",
             "gridcolor": "white",
             "linecolor": "white",
             "minorgridcolor": "white",
             "startlinecolor": "#2a3f5f"
            },
            "type": "carpet"
           }
          ],
          "choropleth": [
           {
            "colorbar": {
             "outlinewidth": 0,
             "ticks": ""
            },
            "type": "choropleth"
           }
          ],
          "contour": [
           {
            "colorbar": {
             "outlinewidth": 0,
             "ticks": ""
            },
            "colorscale": [
             [
              0,
              "#0d0887"
             ],
             [
              0.1111111111111111,
              "#46039f"
             ],
             [
              0.2222222222222222,
              "#7201a8"
             ],
             [
              0.3333333333333333,
              "#9c179e"
             ],
             [
              0.4444444444444444,
              "#bd3786"
             ],
             [
              0.5555555555555556,
              "#d8576b"
             ],
             [
              0.6666666666666666,
              "#ed7953"
             ],
             [
              0.7777777777777778,
              "#fb9f3a"
             ],
             [
              0.8888888888888888,
              "#fdca26"
             ],
             [
              1,
              "#f0f921"
             ]
            ],
            "type": "contour"
           }
          ],
          "contourcarpet": [
           {
            "colorbar": {
             "outlinewidth": 0,
             "ticks": ""
            },
            "type": "contourcarpet"
           }
          ],
          "heatmap": [
           {
            "colorbar": {
             "outlinewidth": 0,
             "ticks": ""
            },
            "colorscale": [
             [
              0,
              "#0d0887"
             ],
             [
              0.1111111111111111,
              "#46039f"
             ],
             [
              0.2222222222222222,
              "#7201a8"
             ],
             [
              0.3333333333333333,
              "#9c179e"
             ],
             [
              0.4444444444444444,
              "#bd3786"
             ],
             [
              0.5555555555555556,
              "#d8576b"
             ],
             [
              0.6666666666666666,
              "#ed7953"
             ],
             [
              0.7777777777777778,
              "#fb9f3a"
             ],
             [
              0.8888888888888888,
              "#fdca26"
             ],
             [
              1,
              "#f0f921"
             ]
            ],
            "type": "heatmap"
           }
          ],
          "histogram": [
           {
            "marker": {
             "pattern": {
              "fillmode": "overlay",
              "size": 10,
              "solidity": 0.2
             }
            },
            "type": "histogram"
           }
          ],
          "histogram2d": [
           {
            "colorbar": {
             "outlinewidth": 0,
             "ticks": ""
            },
            "colorscale": [
             [
              0,
              "#0d0887"
             ],
             [
              0.1111111111111111,
              "#46039f"
             ],
             [
              0.2222222222222222,
              "#7201a8"
             ],
             [
              0.3333333333333333,
              "#9c179e"
             ],
             [
              0.4444444444444444,
              "#bd3786"
             ],
             [
              0.5555555555555556,
              "#d8576b"
             ],
             [
              0.6666666666666666,
              "#ed7953"
             ],
             [
              0.7777777777777778,
              "#fb9f3a"
             ],
             [
              0.8888888888888888,
              "#fdca26"
             ],
             [
              1,
              "#f0f921"
             ]
            ],
            "type": "histogram2d"
           }
          ],
          "histogram2dcontour": [
           {
            "colorbar": {
             "outlinewidth": 0,
             "ticks": ""
            },
            "colorscale": [
             [
              0,
              "#0d0887"
             ],
             [
              0.1111111111111111,
              "#46039f"
             ],
             [
              0.2222222222222222,
              "#7201a8"
             ],
             [
              0.3333333333333333,
              "#9c179e"
             ],
             [
              0.4444444444444444,
              "#bd3786"
             ],
             [
              0.5555555555555556,
              "#d8576b"
             ],
             [
              0.6666666666666666,
              "#ed7953"
             ],
             [
              0.7777777777777778,
              "#fb9f3a"
             ],
             [
              0.8888888888888888,
              "#fdca26"
             ],
             [
              1,
              "#f0f921"
             ]
            ],
            "type": "histogram2dcontour"
           }
          ],
          "mesh3d": [
           {
            "colorbar": {
             "outlinewidth": 0,
             "ticks": ""
            },
            "type": "mesh3d"
           }
          ],
          "parcoords": [
           {
            "line": {
             "colorbar": {
              "outlinewidth": 0,
              "ticks": ""
             }
            },
            "type": "parcoords"
           }
          ],
          "pie": [
           {
            "automargin": true,
            "type": "pie"
           }
          ],
          "scatter": [
           {
            "fillpattern": {
             "fillmode": "overlay",
             "size": 10,
             "solidity": 0.2
            },
            "type": "scatter"
           }
          ],
          "scatter3d": [
           {
            "line": {
             "colorbar": {
              "outlinewidth": 0,
              "ticks": ""
             }
            },
            "marker": {
             "colorbar": {
              "outlinewidth": 0,
              "ticks": ""
             }
            },
            "type": "scatter3d"
           }
          ],
          "scattercarpet": [
           {
            "marker": {
             "colorbar": {
              "outlinewidth": 0,
              "ticks": ""
             }
            },
            "type": "scattercarpet"
           }
          ],
          "scattergeo": [
           {
            "marker": {
             "colorbar": {
              "outlinewidth": 0,
              "ticks": ""
             }
            },
            "type": "scattergeo"
           }
          ],
          "scattergl": [
           {
            "marker": {
             "colorbar": {
              "outlinewidth": 0,
              "ticks": ""
             }
            },
            "type": "scattergl"
           }
          ],
          "scattermap": [
           {
            "marker": {
             "colorbar": {
              "outlinewidth": 0,
              "ticks": ""
             }
            },
            "type": "scattermap"
           }
          ],
          "scattermapbox": [
           {
            "marker": {
             "colorbar": {
              "outlinewidth": 0,
              "ticks": ""
             }
            },
            "type": "scattermapbox"
           }
          ],
          "scatterpolar": [
           {
            "marker": {
             "colorbar": {
              "outlinewidth": 0,
              "ticks": ""
             }
            },
            "type": "scatterpolar"
           }
          ],
          "scatterpolargl": [
           {
            "marker": {
             "colorbar": {
              "outlinewidth": 0,
              "ticks": ""
             }
            },
            "type": "scatterpolargl"
           }
          ],
          "scatterternary": [
           {
            "marker": {
             "colorbar": {
              "outlinewidth": 0,
              "ticks": ""
             }
            },
            "type": "scatterternary"
           }
          ],
          "surface": [
           {
            "colorbar": {
             "outlinewidth": 0,
             "ticks": ""
            },
            "colorscale": [
             [
              0,
              "#0d0887"
             ],
             [
              0.1111111111111111,
              "#46039f"
             ],
             [
              0.2222222222222222,
              "#7201a8"
             ],
             [
              0.3333333333333333,
              "#9c179e"
             ],
             [
              0.4444444444444444,
              "#bd3786"
             ],
             [
              0.5555555555555556,
              "#d8576b"
             ],
             [
              0.6666666666666666,
              "#ed7953"
             ],
             [
              0.7777777777777778,
              "#fb9f3a"
             ],
             [
              0.8888888888888888,
              "#fdca26"
             ],
             [
              1,
              "#f0f921"
             ]
            ],
            "type": "surface"
           }
          ],
          "table": [
           {
            "cells": {
             "fill": {
              "color": "#EBF0F8"
             },
             "line": {
              "color": "white"
             }
            },
            "header": {
             "fill": {
              "color": "#C8D4E3"
             },
             "line": {
              "color": "white"
             }
            },
            "type": "table"
           }
          ]
         },
         "layout": {
          "annotationdefaults": {
           "arrowcolor": "#2a3f5f",
           "arrowhead": 0,
           "arrowwidth": 1
          },
          "autotypenumbers": "strict",
          "coloraxis": {
           "colorbar": {
            "outlinewidth": 0,
            "ticks": ""
           }
          },
          "colorscale": {
           "diverging": [
            [
             0,
             "#8e0152"
            ],
            [
             0.1,
             "#c51b7d"
            ],
            [
             0.2,
             "#de77ae"
            ],
            [
             0.3,
             "#f1b6da"
            ],
            [
             0.4,
             "#fde0ef"
            ],
            [
             0.5,
             "#f7f7f7"
            ],
            [
             0.6,
             "#e6f5d0"
            ],
            [
             0.7,
             "#b8e186"
            ],
            [
             0.8,
             "#7fbc41"
            ],
            [
             0.9,
             "#4d9221"
            ],
            [
             1,
             "#276419"
            ]
           ],
           "sequential": [
            [
             0,
             "#0d0887"
            ],
            [
             0.1111111111111111,
             "#46039f"
            ],
            [
             0.2222222222222222,
             "#7201a8"
            ],
            [
             0.3333333333333333,
             "#9c179e"
            ],
            [
             0.4444444444444444,
             "#bd3786"
            ],
            [
             0.5555555555555556,
             "#d8576b"
            ],
            [
             0.6666666666666666,
             "#ed7953"
            ],
            [
             0.7777777777777778,
             "#fb9f3a"
            ],
            [
             0.8888888888888888,
             "#fdca26"
            ],
            [
             1,
             "#f0f921"
            ]
           ],
           "sequentialminus": [
            [
             0,
             "#0d0887"
            ],
            [
             0.1111111111111111,
             "#46039f"
            ],
            [
             0.2222222222222222,
             "#7201a8"
            ],
            [
             0.3333333333333333,
             "#9c179e"
            ],
            [
             0.4444444444444444,
             "#bd3786"
            ],
            [
             0.5555555555555556,
             "#d8576b"
            ],
            [
             0.6666666666666666,
             "#ed7953"
            ],
            [
             0.7777777777777778,
             "#fb9f3a"
            ],
            [
             0.8888888888888888,
             "#fdca26"
            ],
            [
             1,
             "#f0f921"
            ]
           ]
          },
          "colorway": [
           "#636efa",
           "#EF553B",
           "#00cc96",
           "#ab63fa",
           "#FFA15A",
           "#19d3f3",
           "#FF6692",
           "#B6E880",
           "#FF97FF",
           "#FECB52"
          ],
          "font": {
           "color": "#2a3f5f"
          },
          "geo": {
           "bgcolor": "white",
           "lakecolor": "white",
           "landcolor": "#E5ECF6",
           "showlakes": true,
           "showland": true,
           "subunitcolor": "white"
          },
          "hoverlabel": {
           "align": "left"
          },
          "hovermode": "closest",
          "mapbox": {
           "style": "light"
          },
          "paper_bgcolor": "white",
          "plot_bgcolor": "#E5ECF6",
          "polar": {
           "angularaxis": {
            "gridcolor": "white",
            "linecolor": "white",
            "ticks": ""
           },
           "bgcolor": "#E5ECF6",
           "radialaxis": {
            "gridcolor": "white",
            "linecolor": "white",
            "ticks": ""
           }
          },
          "scene": {
           "xaxis": {
            "backgroundcolor": "#E5ECF6",
            "gridcolor": "white",
            "gridwidth": 2,
            "linecolor": "white",
            "showbackground": true,
            "ticks": "",
            "zerolinecolor": "white"
           },
           "yaxis": {
            "backgroundcolor": "#E5ECF6",
            "gridcolor": "white",
            "gridwidth": 2,
            "linecolor": "white",
            "showbackground": true,
            "ticks": "",
            "zerolinecolor": "white"
           },
           "zaxis": {
            "backgroundcolor": "#E5ECF6",
            "gridcolor": "white",
            "gridwidth": 2,
            "linecolor": "white",
            "showbackground": true,
            "ticks": "",
            "zerolinecolor": "white"
           }
          },
          "shapedefaults": {
           "line": {
            "color": "#2a3f5f"
           }
          },
          "ternary": {
           "aaxis": {
            "gridcolor": "white",
            "linecolor": "white",
            "ticks": ""
           },
           "baxis": {
            "gridcolor": "white",
            "linecolor": "white",
            "ticks": ""
           },
           "bgcolor": "#E5ECF6",
           "caxis": {
            "gridcolor": "white",
            "linecolor": "white",
            "ticks": ""
           }
          },
          "title": {
           "x": 0.05
          },
          "xaxis": {
           "automargin": true,
           "gridcolor": "white",
           "linecolor": "white",
           "ticks": "",
           "title": {
            "standoff": 15
           },
           "zerolinecolor": "white",
           "zerolinewidth": 2
          },
          "yaxis": {
           "automargin": true,
           "gridcolor": "white",
           "linecolor": "white",
           "ticks": "",
           "title": {
            "standoff": 15
           },
           "zerolinecolor": "white",
           "zerolinewidth": 2
          }
         }
        },
        "title": {
         "text": "t-SNE visualization of DISTPROF by TEA Description, 2020"
        },
        "xaxis": {
         "anchor": "y",
         "domain": [
          0,
          1
         ],
         "title": {
          "text": "First t-SNE"
         }
        },
        "yaxis": {
         "anchor": "x",
         "domain": [
          0,
          1
         ],
         "title": {
          "text": "Second t-SNE"
         }
        }
       }
      }
     },
     "metadata": {},
     "output_type": "display_data"
    }
   ],
   "source": [
    "from clusteringEDA import visualize_tsne\n",
    "\n",
    "visualize_tnse(2020, 2, test_filtered)"
   ]
  }
 ],
 "metadata": {
  "kernelspec": {
   "display_name": "herc",
   "language": "python",
   "name": "python3"
  },
  "language_info": {
   "codemirror_mode": {
    "name": "ipython",
    "version": 3
   },
   "file_extension": ".py",
   "mimetype": "text/x-python",
   "name": "python",
   "nbconvert_exporter": "python",
   "pygments_lexer": "ipython3",
   "version": "3.10.16"
  }
 },
 "nbformat": 4,
 "nbformat_minor": 2
}
