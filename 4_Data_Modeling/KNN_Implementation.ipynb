{
 "cells": [
  {
   "cell_type": "markdown",
   "metadata": {},
   "source": [
    "K-Nearest Neighbors (KNN) Implementation"
   ]
  },
  {
   "cell_type": "code",
   "execution_count": 125,
   "metadata": {},
   "outputs": [],
   "source": [
    "import os \n",
    "import pandas as pd \n",
    "import matplotlib.pyplot as plt\n",
    "import numpy as np\n",
    "from sklearn.impute import SimpleImputer\n",
    "from sklearn.preprocessing import StandardScaler\n",
    "#from sklearn.neighbors import NearestNeighbors\n",
    "from sklearn.neighbors import NearestNeighbors\n"
   ]
  },
  {
   "cell_type": "code",
   "execution_count": 126,
   "metadata": {},
   "outputs": [],
   "source": [
    "#Reading in the data\n",
    "os.chdir(r\"C:\\Users\\mmath\\OneDrive\\Desktop\\Capstone\\HERC_Sp25\\0_Datasets\\1.7Master_Files\\Individual Year Files_Take2\")\n",
    "df = pd.read_csv(\"merged_2023.csv\")\n",
    "distgrad = pd.read_csv(r\"C:\\Users\\mmath\\OneDrive\\Desktop\\Capstone\\HERC_Sp25\\0_Datasets\\1.6Data2023\\District\\clean_data\\distgrad_2023_clean.csv\")\n",
    "distprof = pd.read_csv(r\"C:\\Users\\mmath\\OneDrive\\Desktop\\Capstone\\HERC_Sp25\\0_Datasets\\1.6Data2023\\District\\clean_data\\distprof_2023_clean.csv\")\n"
   ]
  },
  {
   "cell_type": "markdown",
   "metadata": {},
   "source": [
    "# Step 1: Dropping Useless Columns. \n",
    "Columns are useless if: \n",
    "* Have 50% or more missing values \n",
    "* Are numerator / denominator values \n",
    "* Are charter schools \n"
   ]
  },
  {
   "cell_type": "code",
   "execution_count": 127,
   "metadata": {},
   "outputs": [
    {
     "name": "stdout",
     "output_type": "stream",
     "text": [
      "Original Dataset Shape: (1021, 6553)\n",
      "Dropped Dataset Shape: (1021, 2137)\n"
     ]
    },
    {
     "data": {
      "text/plain": [
       "(1021, 2137)"
      ]
     },
     "execution_count": 127,
     "metadata": {},
     "output_type": "execute_result"
    }
   ],
   "source": [
    "clean_df = df[df['Charter School (Y/N)'] == 'N']\n",
    "def calculate_missing_percentage(df):\n",
    "    \"\"\"\n",
    "    Function to calculate the percentage of missing values in each column of a given dataset.\n",
    "    \n",
    "    Parameters:\n",
    "        df (pd.DataFrame): The dataset as a pandas DataFrame.\n",
    "    \n",
    "    Returns:\n",
    "        pd.Series: A Series with column names as index and percentage of missing values as values.\n",
    "    \"\"\"\n",
    "    missing_percentage = (df.isna().sum() / len(df)) * 100\n",
    "    missing_percentage = missing_percentage[missing_percentage > 0]  # Only keep columns with missing values\n",
    "    \n",
    "    return missing_percentage.sort_values(ascending=False)  # Sort in descending order\n",
    "def drop_columns(df, threshold=50):\n",
    "    \"\"\"\n",
    "    Function to drop columns with missing values exceeding a specified threshold\n",
    "    and columns containing 'numerator' or 'denominator' in their names. These columsn are going to be fairly useless for analysis \n",
    "    \n",
    "    Parameters:\n",
    "        df (pd.DataFrame): The dataset as a pandas DataFrame.\n",
    "        threshold (float): The percentage threshold for dropping columns.\n",
    "    \n",
    "    Returns:\n",
    "        pd.DataFrame: The dataframe with columns dropped.\n",
    "    \"\"\"\n",
    "    print(f\"Original Dataset Shape: {df.shape}\")\n",
    "    missing_percentage = calculate_missing_percentage(df)\n",
    "    cols_to_drop = set(missing_percentage[missing_percentage >= threshold].index)\n",
    "    \n",
    "    # Drop columns containing 'numerator' or 'denominator' (case-insensitive)\n",
    "    cols_to_drop.update([col for col in df.columns if 'numerator' in col.lower() or 'denominator' in col.lower()])\n",
    "    \n",
    "    resulting_df = df.drop(columns=cols_to_drop)\n",
    "\n",
    "    print(f\"Dropped Dataset Shape: {resulting_df.shape}\")\n",
    "    return resulting_df\n",
    "\n",
    "clean_df = drop_columns(clean_df)\n",
    "clean_df.shape"
   ]
  },
  {
   "cell_type": "code",
   "execution_count": 128,
   "metadata": {},
   "outputs": [
    {
     "data": {
      "text/plain": [
       "Text(0.5, 1.0, 'Histogram of percentage of NA values in columns')"
      ]
     },
     "execution_count": 128,
     "metadata": {},
     "output_type": "execute_result"
    },
    {
     "data": {
      "image/png": "[encoded data removed]",
      "text/plain": [
       "<Figure size 640x480 with 1 Axes>"
      ]
     },
     "metadata": {},
     "output_type": "display_data"
    }
   ],
   "source": [
    "plt.hist(calculate_missing_percentage(clean_df) / 100)\n",
    "plt.title(\"Histogram of percentage of NA values in columns\")"
   ]
  },
  {
   "cell_type": "markdown",
   "metadata": {},
   "source": [
    "Step1 Results: Data went from (1209, 6553) --> (1021, 2118)"
   ]
  },
  {
   "cell_type": "markdown",
   "metadata": {},
   "source": [
    "# Step 2: Feature Engineering.\n",
    "Finding relevant columns in DISTGRAD and DISTPROF and placing them into buckets"
   ]
  },
  {
   "cell_type": "code",
   "execution_count": 129,
   "metadata": {},
   "outputs": [
    {
     "name": "stdout",
     "output_type": "stream",
     "text": [
      "Original Dataset Shape: (1209, 950)\n",
      "Dropped Dataset Shape: (1209, 277)\n",
      "Original Dataset Shape: (1209, 426)\n",
      "Dropped Dataset Shape: (1209, 416)\n"
     ]
    }
   ],
   "source": [
    "distgrad_clean = drop_columns(distgrad)\n",
    "distprof_clean = drop_columns(distprof)"
   ]
  },
  {
   "cell_type": "markdown",
   "metadata": {},
   "source": [
    "Bucketing DISTGRAD columns into sub-buckets "
   ]
  },
  {
   "cell_type": "code",
   "execution_count": 130,
   "metadata": {},
   "outputs": [],
   "source": [
    "district_identifiers = [\n",
    "    \"DISTRICT_id\", \"DISTRICT\", \"DISTNAME\", \"COUNTY\", \"CNTYNAME\",\n",
    "    \"REGION\", \"DFLCHART\", \"DFLALTED\"\n",
    "]\n",
    "\n",
    "#Bucketing relevant columns within the DISTGRAD dataset\n",
    "race_ethnicity = [\n",
    "    \"District 2022 Attendance: Two or More Races Days Membership\",\n",
    "    \"District 2022 Attendance: African American Days Membership\",\n",
    "    \"District 2022 Attendance: Hispanic Days Membership\",\n",
    "    \"District 2022 Attendance: White Days Membership\"\n",
    "]\n",
    "\n",
    "economic_special_needs = [\n",
    "    \"District 2022 Attendance: Econ Disadv Days Membership\",  # Economically Disadvantaged\n",
    "    \"District 2022 Attendance: Special Ed Days Membership\",   # Special Education\n",
    "    \"District 2022 Attendance: EB/EL Days Membership\",        # English Learners\n",
    "    \"District 2022 Attendance: At Risk Days Membership\"       # At-Risk Students\n",
    "]\n",
    "\n",
    "gender_distribution = [\n",
    "    \"District 2022 Attendance: Female Days Membership\",\n",
    "    \"District 2022 Attendance: Male Days Membership\"\n",
    "]\n"
   ]
  },
  {
   "cell_type": "markdown",
   "metadata": {},
   "source": [
    "Bucketing DISTPROF columns into sub-buckets"
   ]
  },
  {
   "cell_type": "code",
   "execution_count": 131,
   "metadata": {},
   "outputs": [],
   "source": [
    "### STUDENT DEMOGRAPHICS ###\n",
    "grade_level_student_membership = [\n",
    "    \"District 2023 Student Membership: EE Count\",\n",
    "    \"District 2023 Student Membership: PK Count\",\n",
    "    \"District 2023 Student Membership: KG Count\",\n",
    "    \"District 2023 Student Membership: 01 Count\",\n",
    "    \"District 2023 Student Membership: 02 Count\",\n",
    "    \"District 2023 Student Membership: 03 Count\",\n",
    "    \"District 2023 Student Membership: 04 Count\",\n",
    "    \"District 2023 Student Membership: 05 Count\",\n",
    "    \"District 2023 Student Membership: 06 Count\",\n",
    "    \"District 2023 Student Membership: 07 Count\",\n",
    "    \"District 2023 Student Membership: 08 Count\",\n",
    "    \"District 2023 Student Membership: 09 Count\",\n",
    "    \"District 2023 Student Membership: 10 Count\",\n",
    "    \"District 2023 Student Membership: 11 Count\",\n",
    "    \"District 2023 Student Membership: 12 Count\",\n",
    "    \"District 2023 Student Membership: All Students Count\"\n",
    "]\n",
    "\n",
    "race_ethnicity = [\n",
    "    \"District 2023 Student Membership: American Indian Count\",\n",
    "    \"District 2023 Student Membership: Asian Count\",\n",
    "    \"District 2023 Student Membership: Pacific Islander Count\",\n",
    "    \"District 2023 Student Membership: Two or More Races Count\",\n",
    "    \"District 2023 Student Membership: African American Count\",\n",
    "    \"District 2023 Student Membership: Hispanic Count\",\n",
    "    \"District 2023 Student Membership: White Count\"\n",
    "]\n",
    "\n",
    "economic_special_needs = [\n",
    "    \"District 2023 Student Membership: Special Ed Count\",\n",
    "    \"District 2023 Student Membership: Bilingual/ESL Count\",\n",
    "    \"District 2023 Student Membership: Gifted & Talented Count\",\n",
    "    \"District 2023 Student Membership: EB/EL Count\",\n",
    "    \"District 2023 Student Membership: Econ Disadv Count\",\n",
    "    \"District 2023 Student Membership: Non-Educationally Disadv Count\",\n",
    "    \"District 2023 Student Membership: At Risk Count\",\n",
    "    \"District 2023 Student Membership: Dyslexia Count\",\n",
    "    \"District 2023 Student Membership: Section 504 Count\",\n",
    "    \"District 2023 Student Membership: Title I Count\",\n",
    "    \"District 2023 Student Membership: Homeless Count\",\n",
    "    \"District 2023 Student Membership: Immigrant Count\",\n",
    "    \"District 2023 Student Membership: Migrant Count\",\n",
    "    \"District 2023 Student Membership: Military-Connected Count\",\n",
    "    \"District 2023 Student Membership: Foster Care Count\"\n",
    "]\n",
    "\n",
    "gender_distribution = [\n",
    "    \"District 2023 Student Membership: Male Count\",\n",
    "    \"District 2023 Student Membership: Female Count\"\n",
    "]\n",
    "\n",
    "### Class Size & Teacher-Student Ratio ###\n",
    "class_size_student_counts = [\n",
    "    \"District 2023 Class Size: Sec Soc Stud- # Students\",\n",
    "    \"District 2023 Class Size: Sec Sci     - # Students\",\n",
    "    \"District 2023 Class Size: Sec Math    - # Students\",\n",
    "    \"District 2023 Class Size: Sec For Lng - # Students\",\n",
    "    \"District 2023 Class Size: Sec English - # Students\",\n",
    "    \"District 2023 Class Size: Grade 6     - # Students\",\n",
    "    \"District 2023 Class Size: Grade 5     - # Students\",\n",
    "    \"District 2023 Class Size: Grade 4     - # Students\",\n",
    "    \"District 2023 Class Size: Grade 3     - # Students\",\n",
    "    \"District 2023 Class Size: Grade 2     - # Students\",\n",
    "    \"District 2023 Class Size: Grade 1     - # Students\",\n",
    "    \"District 2023 Class Size: Mixed Elem. - # Students\",\n",
    "    \"District 2023 Class Size: Kindergarten- # Students\"\n",
    "]\n",
    "\n",
    "### Class Size & Teacher-Student Ratio ### \n",
    "average_class_size = [\n",
    "    \"District 2023 Class Size: Sec Soc Stud- Avg Size\",\n",
    "    \"District 2023 Class Size: Sec Sci     - Avg Size\",\n",
    "    \"District 2023 Class Size: Sec Math    - Avg Size\",\n",
    "    \"District 2023 Class Size: Sec For Lng - Avg Size\",\n",
    "    \"District 2023 Class Size: Sec English - Avg Size\",\n",
    "    \"District 2023 Class Size: Grade 6     - Avg Size\",\n",
    "    \"District 2023 Class Size: Grade 5     - Avg Size\",\n",
    "    \"District 2023 Class Size: Grade 4     - Avg Size\",\n",
    "    \"District 2023 Class Size: Grade 3     - Avg Size\",\n",
    "    \"District 2023 Class Size: Grade 2     - Avg Size\",\n",
    "    \"District 2023 Class Size: Grade 1     - Avg Size\",\n",
    "    \"District 2023 Class Size: Kindergarten- Avg Size\"\n",
    "]\n",
    "\n",
    "\n",
    "staff_counts = [\n",
    "    \"District 2023 Staff: Teacher Total Full Time Equiv Count\",\n",
    "    \"District 2023 Staff: Support Total Full Time Equiv Count\",\n",
    "    \"District 2023 Staff: School Admin Total Full Time Equiv Count\",\n",
    "    \"District 2023 Staff: Central Admin Total Full Time Equiv Count\",\n",
    "    \"District 2023 Staff: Educ Aide Total Full Time Equiv Count\",\n",
    "    \"District 2023 Staff: Auxiliary Total Full Time Equiv Count\",\n",
    "    \"District 2023 Staff: All Staff Total Full Time Equiv Count\"\n",
    "]\n",
    "\n",
    "\n",
    "### Staff Demographics ### \n",
    "staff_counts = [\n",
    "    \"District 2023 Staff: Teacher Total Full Time Equiv Count\",\n",
    "    \"District 2023 Staff: Support Total Full Time Equiv Count\",\n",
    "    \"District 2023 Staff: School Admin Total Full Time Equiv Count\",\n",
    "    \"District 2023 Staff: Central Admin Total Full Time Equiv Count\",\n",
    "    \"District 2023 Staff: Educ Aide Total Full Time Equiv Count\",\n",
    "    \"District 2023 Staff: Auxiliary Total Full Time Equiv Count\",\n",
    "    \"District 2023 Staff: All Staff Total Full Time Equiv Count\"\n",
    "]\n",
    "\n",
    "teacher_experience = [\n",
    "    \"District 2023 Staff: Teacher Beginning Full Time Equiv Count\",\n",
    "    \"District 2023 Staff: Teacher 1-5 Years Full Time Equiv Count\",\n",
    "    \"District 2023 Staff: Teacher 6-10 Years Full Time Equiv Count\",\n",
    "    \"District 2023 Staff: Teacher 11-20 Years Full Time Equiv Count\",\n",
    "    \"District 2023 Staff: Teacher 21-30 Years Full Time Equiv Count\",\n",
    "    \"District 2023 Staff: Teacher > 30 Years Full Time Equiv Count\"\n",
    "]\n",
    "\n",
    "\n",
    "staff_qualifications = [\n",
    "    \"District 2023 Staff: Teacher No Degree Full Time Equiv Count\",\n",
    "    \"District 2023 Staff: Teacher BA Degree Full Time Equiv Count\",\n",
    "    \"District 2023 Staff: Teacher MS Degree Full Time Equiv Count\",\n",
    "    \"District 2023 Staff: Teacher PH Degree Full Time Equiv Count\"\n",
    "]\n",
    "\n",
    "staff_race_ethnicity = [\n",
    "    \"District 2023 Staff: Teacher American Indian Full Time Equiv Count\",\n",
    "    \"District 2023 Staff: Teacher Pacific Islander Full Time Equiv Count\",\n",
    "    \"District 2023 Staff: Teacher Asian Full Time Equiv Count\",\n",
    "    \"District 2023 Staff: Teacher African American Full Time Equiv Count\",\n",
    "    \"District 2023 Staff: Teacher Hispanic Full Time Equiv Count\",\n",
    "    \"District 2023 Staff: Teacher White Full Time Equiv Count\",\n",
    "    \"District 2023 Staff: Teacher Two or more races Full Time Equiv Count\"\n",
    "]\n",
    "\n",
    "staff_gender_distribution = [\n",
    "    \"District 2023 Staff: Teacher Male Full Time Equiv Count\",\n",
    "    \"District 2023 Staff: Teacher Female Full Time Equiv Count\"\n",
    "]"
   ]
  },
  {
   "cell_type": "markdown",
   "metadata": {},
   "source": [
    "Making overall big buckets"
   ]
  },
  {
   "cell_type": "code",
   "execution_count": 132,
   "metadata": {},
   "outputs": [],
   "source": [
    "district_identifiers = [\n",
    "    \"DISTRICT_id\", \"DISTRICT\", \"DISTNAME\", \"COUNTY\", \"CNTYNAME\",\n",
    "    \"REGION\", \"DFLCHART\", \"DFLALTED\"\n",
    "] + [\n",
    "    \"District\",\n",
    "    \"District Number\",\n",
    "    \"TEA District Type\",\n",
    "    \"TEA Description\",\n",
    "    \"NCES District Type\",\n",
    "    \"NCES Description\",\n",
    "    \"Charter School (Y/N)\"\n",
    "]\n",
    "\n",
    "\n",
    "\n",
    "student_demographics = (\n",
    "    grade_level_student_membership +\n",
    "    race_ethnicity +\n",
    "    economic_special_needs +\n",
    "    gender_distribution + \n",
    "    race_ethnicity + \n",
    "    economic_special_needs + \n",
    "    gender_distribution\n",
    ")\n",
    "\n",
    "class_size_teacher_ratio = (\n",
    "    class_size_student_counts +\n",
    "    average_class_size\n",
    ")\n",
    "\n",
    "staff_demographics = (\n",
    "    staff_counts +\n",
    "    teacher_experience +\n",
    "    staff_qualifications +\n",
    "    staff_race_ethnicity +\n",
    "    staff_gender_distribution\n",
    ")\n"
   ]
  },
  {
   "cell_type": "markdown",
   "metadata": {},
   "source": [
    "# Step 3: Data Modeling: \n"
   ]
  },
  {
   "cell_type": "code",
   "execution_count": 133,
   "metadata": {},
   "outputs": [],
   "source": [
    "merged_df = distgrad_clean.merge(distprof_clean, how = 'left', on = 'DISTRICT_id')"
   ]
  },
  {
   "cell_type": "code",
   "execution_count": null,
   "metadata": {},
   "outputs": [],
   "source": [
    "\n"
   ]
  },
  {
   "cell_type": "code",
   "execution_count": 141,
   "metadata": {},
   "outputs": [
    {
     "name": "stdout",
     "output_type": "stream",
     "text": [
      "Top 5 closest districts to 1902: [1902, 237904, 246908, 193902, 220907]\n"
     ]
    }
   ],
   "source": [
    "# Step 1: Select relevant feature buckets\n",
    "selected_columns = student_demographics + class_size_teacher_ratio + staff_demographics\n",
    "\n",
    "# Step 2: Filter dataset for selected features\n",
    "#Get the intersection of selected_columns and existing columns in merged_df\n",
    "existing_columns = [col for col in selected_columns if col in merged_df.columns]\n",
    "\n",
    "# Select only available columns\n",
    "knn_df = merged_df[[\"DISTRICT_id\"] + existing_columns].copy()\n",
    "\n",
    "\n",
    "# Step 3: Handle missing values (e.g., fill with median)\n",
    "imputer = SimpleImputer(strategy=\"median\")  # Change to 'mean' or 'most_frequent' if preferred\n",
    "knn_df[selected_columns] = imputer.fit_transform(knn_df[selected_columns])\n",
    "\n",
    "# Step 4: Normalize the feature set\n",
    "scaler = StandardScaler()\n",
    "knn_df[selected_columns] = scaler.fit_transform(knn_df[selected_columns])\n",
    "\n",
    "# Step 5: Fit KNN model (excluding DISTRICT_id)\n",
    "knn_model = NearestNeighbors(n_neighbors=5, metric=\"euclidean\")  # Adjust neighbors as needed\n",
    "knn_model.fit(knn_df[selected_columns])\n",
    "\n",
    "# Step 6: Find the nearest neighbors for DISTRICT_id = 1902\n",
    "query_point = knn_df[knn_df[\"DISTRICT_id\"] == r\"'001902\"][selected_columns]\n",
    "distances, indices = knn_model.kneighbors(query_point)\n",
    "\n",
    "# Step 7: Get the closest districts\n",
    "nearest_districts = clean_df.iloc[indices[0]][\"DISTRICT_id\"]\n",
    "\n",
    "print(\"Top 5 closest districts to 1902:\", nearest_districts.tolist())"
   ]
  },
  {
   "cell_type": "code",
   "execution_count": 144,
   "metadata": {},
   "outputs": [
    {
     "name": "stdout",
     "output_type": "stream",
     "text": [
      "Top 5 closest districts: [\"'001902\", \"'196902\", \"'206901\", \"'161802\", \"'177905\"]\n"
     ]
    }
   ],
   "source": [
    "from sklearn.impute import SimpleImputer\n",
    "from sklearn.preprocessing import StandardScaler\n",
    "from sklearn.neighbors import NearestNeighbors\n",
    "import pandas as pd\n",
    "\n",
    "def find_nearest_districts(merged_df, district_id, feature_buckets, n_neighbors=5, impute_strategy=\"median\"):\n",
    "    \"\"\"\n",
    "    Finds the nearest neighboring districts using K-Nearest Neighbors (KNN).\n",
    "    \n",
    "    Parameters:\n",
    "        merged_df (pd.DataFrame): The dataset containing district data.\n",
    "        district_id (str or int): The ID of the district to find neighbors for.\n",
    "        feature_buckets (list): List of feature columns to include in KNN.\n",
    "        n_neighbors (int): Number of nearest neighbors to find (default=5).\n",
    "        impute_strategy (str): Strategy for imputing missing values (default=\"median\").\n",
    "    \n",
    "    Returns:\n",
    "        list: IDs of the nearest districts.\n",
    "    \"\"\"\n",
    "    # Step 1: Filter dataset for selected features\n",
    "    existing_columns = [col for col in feature_buckets if col in merged_df.columns]\n",
    "    \n",
    "    # Select only available columns\n",
    "    knn_df = merged_df[[\"DISTRICT_id\"] + existing_columns].copy()\n",
    "    \n",
    "    # Step 2: Handle missing values\n",
    "    imputer = SimpleImputer(strategy=impute_strategy)\n",
    "    knn_df[existing_columns] = imputer.fit_transform(knn_df[existing_columns])\n",
    "    \n",
    "    # Step 3: Normalize the feature set\n",
    "    scaler = StandardScaler()\n",
    "    knn_df[existing_columns] = scaler.fit_transform(knn_df[existing_columns])\n",
    "    \n",
    "    # Step 4: Fit KNN model (excluding DISTRICT_id)\n",
    "    knn_model = NearestNeighbors(n_neighbors=n_neighbors, metric=\"euclidean\")\n",
    "    knn_model.fit(knn_df[existing_columns])\n",
    "    \n",
    "    # Step 5: Find the nearest neighbors for the specified district\n",
    "    query_point = knn_df[knn_df[\"DISTRICT_id\"] == district_id][existing_columns]\n",
    "    if query_point.empty:\n",
    "        raise ValueError(f\"District ID {district_id} not found in dataset.\")\n",
    "    \n",
    "    distances, indices = knn_model.kneighbors(query_point)\n",
    "    \n",
    "    # Step 6: Get the closest districts\n",
    "    nearest_districts = knn_df.iloc[indices[0]] [\"DISTRICT_id\"].tolist()\n",
    "    \n",
    "    return nearest_districts\n",
    "\n",
    "# Example usage:\n",
    "selected_features = student_demographics + class_size_teacher_ratio + staff_demographics\n",
    "closest_districts = find_nearest_districts(merged_df, \"'001902\", selected_features)\n",
    "print(\"Top 5 closest districts:\", closest_districts)\n"
   ]
  },
  {
   "cell_type": "code",
   "execution_count": 140,
   "metadata": {},
   "outputs": [
    {
     "name": "stdout",
     "output_type": "stream",
     "text": [
      "0       '001902\n",
      "1       '001903\n",
      "2       '001904\n",
      "3       '001906\n",
      "4       '001907\n",
      "         ...   \n",
      "1204    '252902\n",
      "1205    '252903\n",
      "1206    '253901\n",
      "1207    '254901\n",
      "1208    '254902\n",
      "Name: DISTRICT_id, Length: 1209, dtype: object\n"
     ]
    },
    {
     "data": {
      "text/html": [
       "<div>\n",
       "<style scoped>\n",
       "    .dataframe tbody tr th:only-of-type {\n",
       "        vertical-align: middle;\n",
       "    }\n",
       "\n",
       "    .dataframe tbody tr th {\n",
       "        vertical-align: top;\n",
       "    }\n",
       "\n",
       "    .dataframe thead th {\n",
       "        text-align: right;\n",
       "    }\n",
       "</style>\n",
       "<table border=\"1\" class=\"dataframe\">\n",
       "  <thead>\n",
       "    <tr style=\"text-align: right;\">\n",
       "      <th></th>\n",
       "      <th>DISTRICT_id</th>\n",
       "      <th>District 2023 Student Membership: EE Count</th>\n",
       "      <th>District 2023 Student Membership: PK Count</th>\n",
       "      <th>District 2023 Student Membership: KG Count</th>\n",
       "      <th>District 2023 Student Membership: 01 Count</th>\n",
       "      <th>District 2023 Student Membership: 02 Count</th>\n",
       "      <th>District 2023 Student Membership: 03 Count</th>\n",
       "      <th>District 2023 Student Membership: 04 Count</th>\n",
       "      <th>District 2023 Student Membership: 05 Count</th>\n",
       "      <th>District 2023 Student Membership: 06 Count</th>\n",
       "      <th>...</th>\n",
       "      <th>District 2023 Staff: Teacher PH Degree Full Time Equiv Count</th>\n",
       "      <th>District 2023 Staff: Teacher American Indian Full Time Equiv Count</th>\n",
       "      <th>District 2023 Staff: Teacher Pacific Islander Full Time Equiv Count</th>\n",
       "      <th>District 2023 Staff: Teacher Asian Full Time Equiv Count</th>\n",
       "      <th>District 2023 Staff: Teacher African American Full Time Equiv Count</th>\n",
       "      <th>District 2023 Staff: Teacher Hispanic Full Time Equiv Count</th>\n",
       "      <th>District 2023 Staff: Teacher White Full Time Equiv Count</th>\n",
       "      <th>District 2023 Staff: Teacher Two or more races Full Time Equiv Count</th>\n",
       "      <th>District 2023 Staff: Teacher Male Full Time Equiv Count</th>\n",
       "      <th>District 2023 Staff: Teacher Female Full Time Equiv Count</th>\n",
       "    </tr>\n",
       "  </thead>\n",
       "  <tbody>\n",
       "    <tr>\n",
       "      <th>0</th>\n",
       "      <td>'001902</td>\n",
       "      <td>-0.273578</td>\n",
       "      <td>-0.279972</td>\n",
       "      <td>-0.308074</td>\n",
       "      <td>-0.307756</td>\n",
       "      <td>-0.315305</td>\n",
       "      <td>-0.323612</td>\n",
       "      <td>-0.315804</td>\n",
       "      <td>-0.319875</td>\n",
       "      <td>-0.317784</td>\n",
       "      <td>...</td>\n",
       "      <td>-0.264266</td>\n",
       "      <td>-0.310498</td>\n",
       "      <td>-0.17375</td>\n",
       "      <td>-0.195032</td>\n",
       "      <td>-0.180382</td>\n",
       "      <td>-0.284736</td>\n",
       "      <td>-0.303407</td>\n",
       "      <td>-0.288946</td>\n",
       "      <td>-0.310671</td>\n",
       "      <td>-0.320665</td>\n",
       "    </tr>\n",
       "  </tbody>\n",
       "</table>\n",
       "<p>1 rows × 116 columns</p>\n",
       "</div>"
      ],
      "text/plain": [
       "  DISTRICT_id  District 2023 Student Membership: EE Count  \\\n",
       "0     '001902                                   -0.273578   \n",
       "\n",
       "   District 2023 Student Membership: PK Count  \\\n",
       "0                                   -0.279972   \n",
       "\n",
       "   District 2023 Student Membership: KG Count  \\\n",
       "0                                   -0.308074   \n",
       "\n",
       "   District 2023 Student Membership: 01 Count  \\\n",
       "0                                   -0.307756   \n",
       "\n",
       "   District 2023 Student Membership: 02 Count  \\\n",
       "0                                   -0.315305   \n",
       "\n",
       "   District 2023 Student Membership: 03 Count  \\\n",
       "0                                   -0.323612   \n",
       "\n",
       "   District 2023 Student Membership: 04 Count  \\\n",
       "0                                   -0.315804   \n",
       "\n",
       "   District 2023 Student Membership: 05 Count  \\\n",
       "0                                   -0.319875   \n",
       "\n",
       "   District 2023 Student Membership: 06 Count  ...  \\\n",
       "0                                   -0.317784  ...   \n",
       "\n",
       "   District 2023 Staff: Teacher PH Degree Full Time Equiv Count  \\\n",
       "0                                          -0.264266              \n",
       "\n",
       "   District 2023 Staff: Teacher American Indian Full Time Equiv Count  \\\n",
       "0                                          -0.310498                    \n",
       "\n",
       "   District 2023 Staff: Teacher Pacific Islander Full Time Equiv Count  \\\n",
       "0                                           -0.17375                     \n",
       "\n",
       "   District 2023 Staff: Teacher Asian Full Time Equiv Count  \\\n",
       "0                                          -0.195032          \n",
       "\n",
       "   District 2023 Staff: Teacher African American Full Time Equiv Count  \\\n",
       "0                                          -0.180382                     \n",
       "\n",
       "   District 2023 Staff: Teacher Hispanic Full Time Equiv Count  \\\n",
       "0                                          -0.284736             \n",
       "\n",
       "   District 2023 Staff: Teacher White Full Time Equiv Count  \\\n",
       "0                                          -0.303407          \n",
       "\n",
       "   District 2023 Staff: Teacher Two or more races Full Time Equiv Count  \\\n",
       "0                                          -0.288946                      \n",
       "\n",
       "   District 2023 Staff: Teacher Male Full Time Equiv Count  \\\n",
       "0                                          -0.310671         \n",
       "\n",
       "   District 2023 Staff: Teacher Female Full Time Equiv Count  \n",
       "0                                          -0.320665          \n",
       "\n",
       "[1 rows x 116 columns]"
      ]
     },
     "execution_count": 140,
     "metadata": {},
     "output_type": "execute_result"
    }
   ],
   "source": [
    "print(knn_df[\"DISTRICT_id\"])\n",
    "knn_df[knn_df[\"DISTRICT_id\"] == r\"'001902\"]"
   ]
  },
  {
   "cell_type": "markdown",
   "metadata": {},
   "source": [
    "# Archive Code Used for Troubleshooting"
   ]
  },
  {
   "cell_type": "code",
   "execution_count": null,
   "metadata": {},
   "outputs": [],
   "source": [
    "all_columns = list(merged_df.columns)\n",
    "missing_col1 = set(class_size_teacher_ratio) - set(all_columns)\n",
    "\n",
    "print(\"Total Columns Missing from merged dataset\")\n",
    "print(len(list(missing_col1)))\n",
    "\n",
    "print(\"Total Columns coming from class_size_student_counts list\")\n",
    "print(len(list(set(class_size_student_counts)- set(all_columns))))\n",
    "\n",
    "print(\"Total Columns coming from average_class_size list\")\n",
    "print(len(list(set(average_class_size) - set(all_columns))))\n",
    "\n",
    "\n",
    "print(\"How many missing columns exist in distgrad? \")\n",
    "print(len(list(set(missing_col1) - set(list(distgrad_clean.columns)))))\n",
    "\n",
    "print(\"How many missing columns exist in distprof?\")\n",
    "print(len(list(set(missing_col1) - set(list(distprof_clean.columns)))))\n",
    "\n",
    "#Conclusion: These 18 columns that are not being recognized come from both distgrad and distprof, when merging there must be some funky business \n",
    "print(missing_col1)\n",
    "\n",
    "\n",
    "print((list(set(average_class_size) - set(all_columns))))\n",
    "search_term = 'District 2023 Class Size: Sec Math'\n",
    "\n",
    "real_val = [col for col in merged_df.columns if search_term in col]\n",
    "print(real_val)"
   ]
  }
 ],
 "metadata": {
  "kernelspec": {
   "display_name": "Python 3",
   "language": "python",
   "name": "python3"
  },
  "language_info": {
   "codemirror_mode": {
    "name": "ipython",
    "version": 3
   },
   "file_extension": ".py",
   "mimetype": "text/x-python",
   "name": "python",
   "nbconvert_exporter": "python",
   "pygments_lexer": "ipython3",
   "version": "3.12.4"
  }
 },
 "nbformat": 4,
 "nbformat_minor": 2
}
