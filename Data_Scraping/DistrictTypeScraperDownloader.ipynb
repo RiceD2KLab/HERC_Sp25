{
 "cells": [
  {
   "cell_type": "markdown",
   "metadata": {},
   "source": [
    "# District Data Scraper\n",
    "This function takes a list of strings as input in the format \"XXXX-XX\", representing the school year you want the data for (ex. 2022-23).\n",
    "Function returns a dictionary of key-value pairs where the key is the inputted school year, and the value is a pandas dataframe containing the district type data for that particular year. "
   ]
  },
  {
   "cell_type": "code",
   "execution_count": 12,
   "metadata": {},
   "outputs": [],
   "source": [
    "import requests\n",
    "from bs4 import BeautifulSoup\n",
    "import re\n",
    "import pandas as pd\n",
    " \n",
    "def district_type_scraper(school_years):\n",
    "   district_type_dfs = {}\n",
    "   for year in school_years:\n",
    "      print(\"Grabbing {} Data...\")\n",
    "      url = f'https://tea.texas.gov/reports-and-data/school-data/district-type-data-search/district-type-{year}'\n",
    "      grab = requests.get(url)\n",
    "      soup = BeautifulSoup(grab.text, 'html.parser')\n",
    "      xlsx = []\n",
    "      for link in soup.find_all(\"a\"):\n",
    "         data = str(link.get('href'))\n",
    "         if re.search(\".xlsx$\", data):\n",
    "            district_type_dfs[year] = pd.read_excel(f\"https://tea.texas.gov{data}\", sheet_name= 2)\n",
    "   return(district_type_dfs)\n",
    "\n",
    "        "
   ]
  },
  {
   "cell_type": "code",
   "execution_count": 13,
   "metadata": {},
   "outputs": [
    {
     "name": "stdout",
     "output_type": "stream",
     "text": [
      "Grabbing {} Data...\n",
      "Grabbing {} Data...\n",
      "Grabbing {} Data...\n",
      "Grabbing {} Data...\n",
      "Grabbing {} Data...\n"
     ]
    }
   ],
   "source": [
    "dfs = district_type_scraper([\"2022-23\", \"2021-22\", \"2020-21\", \"2019-20\", \"2018-19\"])\n",
    "#for df in dfs.values():\n",
    "#    print(df.head())"
   ]
  },
  {
   "cell_type": "markdown",
   "metadata": {},
   "source": [
    "# Function to Download Data to CSV Files\n",
    "Function utilizes the scraper function above to scrape and download the district type data for the requested years to the directory where this notebook is stored."
   ]
  },
  {
   "cell_type": "code",
   "execution_count": 14,
   "metadata": {},
   "outputs": [],
   "source": [
    "def download_district_type(school_years):\n",
    "    dfs = district_type_scraper(school_years)\n",
    "    for year, df in dfs.items():\n",
    "        df.to_csv(f\"district_type{year}.csv\")\n",
    "        print(\"Saved {year} to csv in local directory\")"
   ]
  },
  {
   "cell_type": "code",
   "execution_count": 15,
   "metadata": {},
   "outputs": [
    {
     "name": "stdout",
     "output_type": "stream",
     "text": [
      "Grabbing {} Data...\n",
      "Grabbing {} Data...\n",
      "Grabbing {} Data...\n",
      "Grabbing {} Data...\n",
      "Grabbing {} Data...\n",
      "Saved {year} to csv in local directory\n",
      "Saved {year} to csv in local directory\n",
      "Saved {year} to csv in local directory\n",
      "Saved {year} to csv in local directory\n",
      "Saved {year} to csv in local directory\n"
     ]
    }
   ],
   "source": [
    "download_district_type([\"2022-23\", \"2021-22\", \"2020-21\", \"2019-20\", \"2018-19\"])"
   ]
  }
 ],
 "metadata": {
  "kernelspec": {
   "display_name": "Python 3",
   "language": "python",
   "name": "python3"
  },
  "language_info": {
   "codemirror_mode": {
    "name": "ipython",
    "version": 3
   },
   "file_extension": ".py",
   "mimetype": "text/x-python",
   "name": "python",
   "nbconvert_exporter": "python",
   "pygments_lexer": "ipython3",
   "version": "3.9.7"
  }
 },
 "nbformat": 4,
 "nbformat_minor": 2
}
