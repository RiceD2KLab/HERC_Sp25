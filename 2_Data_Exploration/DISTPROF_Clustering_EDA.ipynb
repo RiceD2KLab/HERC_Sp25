{
 "cells": [
  {
   "cell_type": "markdown",
   "metadata": {},
   "source": [
    "# DISTPROF Exploratory Data Analysis"
   ]
  },
  {
   "cell_type": "markdown",
   "metadata": {},
   "source": [
    "## Set Up"
   ]
  },
  {
   "cell_type": "markdown",
   "metadata": {},
   "source": [
    "### Loading in the data\n",
    "\n",
    "The load_distprof_data and load_district_type functions first sets the parent directory as the working directory, then uses relative paths to load in the data for each year in the input. The function returns a dictionary with key-value pairs, where the key is the year, and the value is a pandas dataframe. "
   ]
  },
  {
   "cell_type": "code",
   "execution_count": 128,
   "metadata": {},
   "outputs": [
    {
     "name": "stdout",
     "output_type": "stream",
     "text": [
      "Loaded in DISTPROF for 2020\n",
      "Loaded in DISTPROF for 2021\n",
      "Loaded in DISTPROF for 2022\n",
      "Loaded in DISTPROF for 2023\n"
     ]
    }
   ],
   "source": [
    "import pandas as pd\n",
    "import numpy as np\n",
    "import os\n",
    "\n",
    "os.chdir(\"/Users/biancaschutz/HERC_Sp25\")\n",
    "\n",
    "def load_distprof_data(years):\n",
    "    \"\"\"\n",
    "    Function saves DISTPROF dataset to a dictionary where the keys are the year and the values are Pandas dataframes with the DISTPROF data for that particular year. \n",
    "\n",
    "    Inputs: \n",
    "    - years: a list containing YYYY integers representing years.\n",
    "\n",
    "    Returns:\n",
    "    - a dictionary where the keys are the year, and the values are dataframes representing the DISTPROF dataset\n",
    "    \"\"\"\n",
    "    distprof_dict = {} # initialize empty dictionary\n",
    "\n",
    "    for year in years: # for each year\n",
    "\n",
    "        path = f\"{os.getcwd()}/0_Datasets_csv/Data{year}/District/clean_data/distprof_{year}_clean.csv\" # pathname dependent on the year\n",
    "\n",
    "        df = pd.read_csv(path) # read in the csv file\n",
    "\n",
    "        distprof_dict[year] = df # assign it to the dictionary with its year as a key\n",
    "\n",
    "        print(f\"Loaded in DISTPROF for {year}\")\n",
    "    return distprof_dict\n",
    "\n",
    "distprof_data = load_distprof_data([2020, 2021, 2022, 2023])"
   ]
  },
  {
   "cell_type": "code",
   "execution_count": 129,
   "metadata": {},
   "outputs": [
    {
     "name": "stdout",
     "output_type": "stream",
     "text": [
      "Loaded in District Type for 2020\n",
      "Loaded in District Type for 2021\n",
      "Loaded in District Type for 2022\n",
      "Loaded in District Type for 2023\n"
     ]
    }
   ],
   "source": [
    "def load_district_type(years):\n",
    "    \"\"\"\n",
    "    Function saves DISTPROF dataset to a dictionary where the keys are the year and the values are Pandas dataframes with the DISTPROF data for that particular year. \n",
    "\n",
    "    Inputs: \n",
    "    - years: a list containing YYYY integers representing years.\n",
    "\n",
    "    Returns:\n",
    "    - a dictionary with years as the keys and the values are dataframes\n",
    "    \"\"\"\n",
    "    dist_type_dict = {} # initialize empty dictionary\n",
    "\n",
    "    for year in years: # for each year\n",
    "        path = f\"{os.getcwd()}/0_Datasets_csv/Data{year}/District/clean_data/district_type{year}_clean.csv\" # year-dependent path\n",
    "\n",
    "        df = pd.read_csv(path) # load in csv file\n",
    "\n",
    "        dist_type_dict[year] = df # assign it to the dictionary with its year as the key\n",
    "\n",
    "        print(f\"Loaded in District Type for {year}\")\n",
    "\n",
    "    return dist_type_dict\n",
    "\n",
    "dist_type_data = load_district_type([2020, 2021, 2022, 2023])"
   ]
  },
  {
   "cell_type": "code",
   "execution_count": 130,
   "metadata": {},
   "outputs": [
    {
     "name": "stdout",
     "output_type": "stream",
     "text": [
      "Joining DISTPROF and District Type datasets for 2020\n",
      "Joining DISTPROF and District Type datasets for 2021\n",
      "Joining DISTPROF and District Type datasets for 2022\n",
      "Joining DISTPROF and District Type datasets for 2023\n"
     ]
    }
   ],
   "source": [
    "def combine_distprof_type(district_type_dict, distprof_dict):\n",
    "    \"\"\"\n",
    "    Function that combines district type and DISTPROF datasets based on year and district ID.\n",
    "\n",
    "    Inputs:\n",
    "    - district_type_dict: a dictionary where each key-value pair is a year (YYYY) and a dataframe containing district type data for that year\n",
    "    - distprof_dict: a dictionary where each key-value pair is a year (YYYY) and a dataframe containing DISTPROF data for that year\n",
    "\n",
    "    Returns:\n",
    "    - a dictionary of key-value pairs where the keys are the year of the data, and the values are a joined dataframe of DISTPROF and district type\n",
    "    \"\"\"\n",
    "    if len(district_type_dict) != len(distprof_dict):\n",
    "        raise(\"District Type and DISTPROF Data Dictionary Lengths Must Match\") # prevent mismatches in length\n",
    "    \n",
    "    joined_dict = {} # initialize empty dictionary\n",
    "\n",
    "    for year in distprof_dict.keys(): # for each year in distprof, join with district type\n",
    "\n",
    "        print(f\"Joining DISTPROF and District Type datasets for {year}\")\n",
    "\n",
    "        # convert the district type columns to integer and remove any non-numeric characters in the string, as necessary\n",
    "        district_type_dict[year]['District Number'] = district_type_dict[year]['District Number'].astype(str).str.replace(\"[^0-9]\",\" \", regex = True).astype(int)\n",
    "\n",
    "        distprof_dict[year]['DISTRICT'] = distprof_dict[year]['DISTRICT'].astype(str).str.replace(\"[^0-9]\",\" \", regex = True).astype(int)\n",
    "\n",
    "        # prevent problems with any NAs in the district ID columns\n",
    "        if sum(distprof_dict[year]['DISTRICT'].isna()) != 0 and sum(district_type_dict[year]['District Number'].isna()) != 0:\n",
    "            raise(\"NAs in identification columns. Ensure all rows have an ID.\")\n",
    "        \n",
    "        # join the dataframes together\n",
    "        joined_df = distprof_dict[year].merge(district_type_dict[year], left_on = ['DISTRICT','DISTNAME'], right_on = ['District Number', 'District'], how = 'inner')\n",
    "        \n",
    "        # assign it to a new dictionary with key = year\n",
    "        joined_dict[year] = joined_df\n",
    "\n",
    "    return joined_dict\n",
    " \n",
    "joined_by_year = combine_distprof_type(dist_type_data, distprof_data)\n",
    "\n"
   ]
  },
  {
   "cell_type": "markdown",
   "metadata": {},
   "source": [
    "### Select Relevant Columns"
   ]
  },
  {
   "cell_type": "code",
   "execution_count": null,
   "metadata": {},
   "outputs": [],
   "source": [
    "def year_dependent_colnames_generator(year, base_names):\n",
    "    \"\"\"\n",
    "    Helper function that creates a list of column names based on the year inputted. \n",
    "    Some columns in the data have \"District 2020\" in the column names, so this helps select for each year the columns necessary.\n",
    "\n",
    "    Inputs:\n",
    "    - year: a 4 digit integer representing a year (YYYY), such as 2020\n",
    "    - base_names: the base names of the columns, excluding \"District YYYY\", such as \"Student Membership: All Students Count\"\n",
    "\n",
    "    Returns:\n",
    "    - a list of strings representing column names that should exist in a joined District Type and DISTPROF dataframe, depending on input year\n",
    "    \"\"\"\n",
    "    # names that are not dependent on year\n",
    "    new_names = ['District Number', 'District', 'TEA Description', 'NCES Description']\n",
    "\n",
    "    for col in base_names: # create new names for year-dependent columns\n",
    "        new_name = f\"District {year} {col}\" # new name for column with District YYYY\n",
    "\n",
    "        new_names.append(new_name)\n",
    "        \n",
    "    return new_names\n"
   ]
  },
  {
   "cell_type": "code",
   "execution_count": 132,
   "metadata": {},
   "outputs": [],
   "source": [
    "def select_columns(dist_prof_type_dict):\n",
    "    \"\"\"\n",
    "    Function that selects the identifiers for distircts and the features specified as most important by our sponsor, \n",
    "    such as racial/ethnic percentages and the count of students. \n",
    "\n",
    "    Inputs:\n",
    "    - a dictionary where the keys are years (YYYY) and the values are dataframes which contain joined DISTPROF and District Type data\n",
    "\n",
    "    Returns:\n",
    "    - a dictionary where each dataframe is subsetted to only include the columns specified by our sponsor\n",
    "    \"\"\"\n",
    "    selected_col_dict = {} # initialize empty dictionary\n",
    "\n",
    "    for year in dist_prof_type_dict.keys():\n",
    "\n",
    "        # columns of interest\n",
    "        year_dep_cols = ['Student Membership: White Percent', 'Student Membership: Hispanic Percent', \n",
    "                        'Student Membership: African American Percent', 'Student Membership: American Indian Percent',\n",
    "                        'Student Membership: Asian Percent', 'Student Membership: Pacific Islander Percent',\n",
    "                        'Student Membership: Two or More Races Percent', 'Student Membership: Econ Disadv Percent',\n",
    "                        'Student Membership: Special Ed Percent', 'Student Membership: Bilingual/ESL Percent',\n",
    "                        'Student Membership: Gifted & Talented Percent', 'Student Membership: Immigrant Percent',\n",
    "                        'Student Membership: All Students Count']\n",
    "        \n",
    "        colnames = year_dependent_colnames_generator(year, year_dep_cols) # use helper function\n",
    "\n",
    "        selected_col_dict[year] = dist_prof_type_dict[year][colnames] # select columns of interest and assign to new dictionary\n",
    "        \n",
    "    return selected_col_dict\n",
    "\n",
    "filtered_data = select_columns(joined_by_year)"
   ]
  },
  {
   "cell_type": "code",
   "execution_count": null,
   "metadata": {},
   "outputs": [],
   "source": [
    "def filter_out_charters(data_dict):\n",
    "    \"\"\"\n",
    "    Takes a joined DISTPROF and District Type dataset and returns only non-charter school district data. \n",
    "\n",
    "    Inputs:\n",
    "    - a dictionary where the keys are years (YYYY) and the values are dataframes which contain joined DISTPROF and District Type data.\n",
    "\n",
    "    Returns:\n",
    "    - a dictionary where each dataframe is subsetted to only include non-charter districts. \n",
    "    \"\"\"\n",
    "    no_charters = {}\n",
    "    for year in data_dict.keys():\n",
    "       no_charters[year] = data_dict[year][\n",
    "    (data_dict[year]['TEA Description'] != 'Charter School Districts') & \n",
    "    (data_dict[year]['TEA Description'] != 'Charter Schools')]\n",
    "    return no_charters\n",
    "\n",
    "no_charter_data = filter_out_charters(filtered_data)"
   ]
  },
  {
   "cell_type": "markdown",
   "metadata": {},
   "source": [
    "# t-SNE\n",
    "\n",
    "Via DataCamp: t-SNE (t-distributed Stochastic Neighbor Embedding) is an unsupervised non-linear dimensionality reduction technique for data exploration and visualizing high-dimensional data. Non-linear dimensionality reduction means that the algorithm allows us to separate data that cannot be separated by a straight line."
   ]
  },
  {
   "cell_type": "code",
   "execution_count": 165,
   "metadata": {},
   "outputs": [],
   "source": [
    "from sklearn.manifold import TSNE\n",
    "import plotly.express as px\n",
    "import re\n",
    "\n",
    "def run_tsne(year, components, data_dict, column1, column2, y_var = 'TEA Description'):\n",
    "    \"\"\"\n",
    "    Runs t-SNE based on two specified columns, to visualize the relationship between the two. \n",
    "\n",
    "    Inputs:\n",
    "    - year: a 4 digit integer representing a year, YYYY, such as 2020\n",
    "    - components: the number of components you want t-SNE to use\n",
    "    - data_dict: a dictionary with key-value pairs where the key is a year, and the value is a DISTPROF dataset as a dataframe\n",
    "    - column1: a string representing the first demographic you want plotted\n",
    "    - column2: a string representing the second demographic you want plotted\n",
    "    - y_var: a string representing a column that you want to classify the data with. Default is TEA Description\n",
    "    \"\"\"\n",
    "    X = data_dict[year][[f\"District {year} {column1}\", f\"District {year} {column2}\"]]\n",
    "\n",
    "    y = data_dict[year][y_var]\n",
    "\n",
    "    label = re.sub(f\"District {year}\", \"\", y_var)\n",
    "\n",
    "    tsne = TSNE(n_components=components, random_state=42)\n",
    "\n",
    "    X_tsne = tsne.fit_transform(X)\n",
    "\n",
    "    tsne.kl_divergence_\n",
    "\n",
    "    fig = px.scatter(x=X_tsne[:, 0], y=X_tsne[:, 1], color = y)\n",
    "    fig.update_layout(\n",
    "    title=f\"t-SNE visualization of DISTPROF by {label}, {year}\",\n",
    "    xaxis_title=\"First t-SNE\",\n",
    "    yaxis_title=\"Second t-SNE\",\n",
    "    legend_title=label\n",
    "    )\n",
    "    fig.show()\n"
   ]
  },
  {
   "cell_type": "code",
   "execution_count": 166,
   "metadata": {},
   "outputs": [
    {
     "data": {
      "application/vnd.plotly.v1+json": {
       "config": {
        "plotlyServerURL": "https://plot.ly"
       },
       "data": [
        {
         "hovertemplate": "color=Rural<br>x=%{x}<br>y=%{y}<extra></extra>",
         "legendgroup": "Rural",
         "marker": {
          "color": "#636efa",
          "symbol": "circle"
         },
         "mode": "markers",
         "name": "Rural",
         "showlegend": true,
         "type": "scattergl",
         "x": {
          "bdata": "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",
          "dtype": "f4"
         },
         "xaxis": "x",
         "y": {
          "bdata": "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",
          "dtype": "f4"
         },
         "yaxis": "y"
        },
        {
         "hovertemplate": "color=Non-metropolitan Stable<br>x=%{x}<br>y=%{y}<extra></extra>",
         "legendgroup": "Non-metropolitan Stable",
         "marker": {
          "color": "#EF553B",
          "symbol": "circle"
         },
         "mode": "markers",
         "name": "Non-metropolitan Stable",
         "showlegend": true,
         "type": "scattergl",
         "x": {
          "bdata": "+yjywfP0MMH8A2bBIZ0GwgpD6EHqgoHBQqnbQGfojUGW1BRCmZUcQuFmMkIqawFCdRD6wDneLcEmx+zBUJk1QquOWMEl7orAV+kbwBHIg8Hwsw/CYjlHwdMlDMKJAJNBYld1wcHJvUFVMUdClC5QQnk5VEJh2BRB8LDMwSNI2MHfzYjBPCqVP7sgPL564gTC1xgGQduh4EGZmlxBRjz0wbDbvUHuoRNCLrRBQYpz4UFxBUdCeWZLwbk2W0KOPmJC+YW4QThxYr+mlFbBMftMwYa04sA8gzNCn341QsF5BUE/R/LBWUpvQMpJ4EGNLxJCOVoBQcvh08EPFJrB2YOLwabDg8FeQVlCa9hpQmMBY0KhIvNBwO2Vvy7hGcF3xf7BuBL4QIXOx78WFadAQfJwwd0+EcJcBavBkEtKQrVRjEEeTBRACkD6QYG+U0GDtAHCLrL5wVGWBMLwzv9BTbO2wYe6k0HsN9LBbUHQPwqVzMGlF+o/LyzpwRL1C8GRhFdBqf2WQQ0oA8EOQN1BWwLdPw2XisGG/VNBQBzxQVChHcHSPf1AqXr0wV5Ft0C/qs7B1oAOQiGMtkGywb5A1Le/wVaH50GV6QHBWzDdwWtHfsHg13pBF+kIQmV5k0HnSE9CmznSQbxK5cEG7evAYK2NwcrsHUJnkRRCjQRRQDCvYkKvFJDBAZkVQkuZ9kCUuzbAQ1+2wRG8NkK8b8lBxcFBQeMX4cExXmvBAMN3wPb4+UHIAhpCU8MBwdR8wsH0FKDAPHKawQyC2sFN14fB02T7wa0MDsH8U/LBIVLyQXDi3kECqO5AOdJEQv8zE0FBUNrB7WtnQcLGAMIBH/tBM/IswSCcTUI=",
          "dtype": "f4"
         },
         "xaxis": "x",
         "y": {
          "bdata": "zCDYQCCBVEEYIgdA0TUEQf1iUUHHYDlBw0/oQEI1MMF+SqrAdQXdwNsUTMBEHp0/lUL/vl0Z0b9jbeTBUV3KwLAGgcHfKC7BzG7DQCL44EGTwoPASCTpQXNDLcHOvzTByNygQFK/08CRWwLBvRrCwDk27MAgyY9BNWFkQc0PxUHwo4JBz4g5wPtGb8ASeePBl2QKvpWo6EA+qxxBubtTvxuM9L9e0crAbHd3PqyM0D938hzB/NhvQC+uzcDgd7HAAIjrP+6Rv0HvRydBHDGoQP/8DEFBbMzA4KYFwYBe6MDfAdvBfGz5wFGgCT5444++a26dvxBotkElTAHB6+vKQa8HjUHjBsDAOi1xwMFJjsAJ/Y7Ay8DHQWn5nEG9ww3BpWgTwF60hEHHRMRAmGuKwTuJjMAi6shB+1v/wKqZxMBKjppBaJI0wKAKaUEPW+NApTOxQI1LukCVGj7A0QXdwMi4sD2PeNvAdKnLwDCTOkGQQNNAusslQYLNTEHfO5BBKyICwNqsUEGu+xRAGe6TQd405UFVBEzABHjVv+R4vj+2iQJB8xemwfHxrUD6kgHBICrTwBMvyMA33Mq/jKYMQJYUy8Av/NRBZCIkwYex6EFYoT1B6u0fwY3vIcHR9enAlCILwTvbH8F8hdNBj4g7QcfxFsGwOhnBN9HFPY91ZcAxPIFB5ngswc6Uzb+DxrtBho7JQcLPYcBeKyXA4u2WQRuewEASezbBBff0QIofxUCD+/+/h1QkwUTjrcFn88BBbRjLQXBpvEFxEolBdEFOP+mnL0GAYFZAT7oAQdTpzUBrcBdBLqMNwdMIR79IPvDABTYJPY8BUsHT5SnBOQNTQM4FC8E=",
          "dtype": "f4"
         },
         "yaxis": "y"
        },
        {
         "hovertemplate": "color=Independent Town<br>x=%{x}<br>y=%{y}<extra></extra>",
         "legendgroup": "Independent Town",
         "marker": {
          "color": "#00cc96",
          "symbol": "circle"
         },
         "mode": "markers",
         "name": "Independent Town",
         "showlegend": true,
         "type": "scattergl",
         "x": {
          "bdata": "qNMuQWWIRUGjBNJBBiA+wbgu5EFTxC5Ct8IswYtpmkBBSThB4WzvQUM1qcFdkw9B5TmTQSly0UFzXOTB7ET9wLuaf8BKS+bAojr5QFou3MFFMhpCBlbBwRZ8O0A5fm5BV1+lQZ3agMESrwvCfy4PweKxtEGMOkRBqwz6wJOROEILLmBBzvZjQJ1pGkJwq8vAnVrBQLWP40H4vZpB04R2QTomZkEdvmdB7QrOwXKR98HqbPtARvFuwTmUg8C40r3B5LiuP037DkKJ+01CWfz8QU4v0cFNHjVCc/giQhSt+cFO9sZBoIvawPTOfEHun0PAhL3RQcz4mkEglpXBUE8XwUw7lsAVnZDBTR2xwQ==",
          "dtype": "f4"
         },
         "xaxis": "x",
         "y": {
          "bdata": "nEeWQWEhoUFXLrnArD4NwVdjP8B+GL+/IuubQYfD2UC9+wJBDx2TP1rnzkFRazRBrXZ0QbGo4kDAUixBYS3KwOGTk0E0IS7Bh2zawHri18A3AJK/bya+Qc00e0GeDIRBSdsVPxupU0EpuhfBF5HQQIEN3cAieGdBcDLMQU0f28ANIsnAmIGIwBkTvMAFF7xBM+oFQSJhF0DiFC7B+09aQXisP0GKC5BBue/Dv91InkBuHIpBLFR7QPLkMEEXEa9BzyKHQUQn6MABkh/Bi8pnP1Parj/1aqDAGBglwVmG9cBT6IvAClNmv6h7FMBMZJlA8ZLIvcP8JcFZrqvBMwscwWwbCUEwgopBxgY/QQ==",
          "dtype": "f4"
         },
         "yaxis": "y"
        },
        {
         "hovertemplate": "color=Other Central City Suburban<br>x=%{x}<br>y=%{y}<extra></extra>",
         "legendgroup": "Other Central City Suburban",
         "marker": {
          "color": "#ab63fa",
          "symbol": "circle"
         },
         "mode": "markers",
         "name": "Other Central City Suburban",
         "showlegend": true,
         "type": "scattergl",
         "x": {
          "bdata": "UU+lQTgZBcJ8PRpB2eEdwT5wysEJN0JBpXZRQTUidMFrwBnBSotJQjqc/z4jPAXBJMYDQuGv3MHx1TJCY+kzQuRGQUJUMlJCsIQbQvNOBsEP88jBQC8Hwtlw+sG314XBf1X+wfHu0MHbUOzAvZGRwT00PsEaEr5BjuP8weavMUIh0q1A9aJ7wW+YfcHIB+PBWBl3wQWcAcJCrNnBy71TwaqEucBOFyhChOibQQAuFEDKPNnATLfPwdw/AcAW6hRBg+ewv+u6qMEUPYHBkjejwYSN78FBRrzBfTYLwhc2+MFYhx3BKSAQwFYX0L/GD5/BfI7YwTqfB8LOVFdBEcbsQRDHEMGr53HA7J8Ewlf0BcLqyIDBRrPDwSvHx8GDE2JCQOllQsAmVUJMuyBCn3hEQtWKGEKqeklCm3RkQmpogMGvTArAEOOFwfAHckFXSIPBnwG6wfwmu0BwOK1A73wrwdYI00FkV3BBjjcCwIa6gcHP9snBHZFvwXcnUEIVIypCQGohwRO+878MO6RBNl5ywdAFC8HZ575BfWA2QmTxlcHyGu9B9tnfwW+F7b8cxHfByUj8vjzD88FYk8K/I7PpwC7NpEAEpK5B68GswMdRiUGaeOdBHyEbwUqn90EKtRRAYoQ6QsTcycG6LrvB5eu0wVO42MEKsfbBw2ADwrHs8cDHrvXB74QAQii22MEv/j7BIF8JwZJvyEHjY39BOW6eQRi8QUIXhArChMDZwWrC4sFPJGVBtHprPkovZUIb5SLBgVHgwQT45MFZxO1AcnXjwIEi/sFZ/6DBKT4OwauxDEK5OoxBUfxnQnGIGkFxLG/BSGPQwbmjA8I8GQPAz3JVQiRwUsAsPAhBaiDWwVp2sUGCmvJBzuRPQg==",
          "dtype": "f4"
         },
         "xaxis": "x",
         "y": {
          "bdata": "nVZJwZXwtsGHCcrAXlcWwZ19r8HHo4JB4xkwQVbOHkBRvrlAVD4NwV7sxb8QYRRAXS2mwKhtN0CuwwfBzHoewZmyjsB7DgPBgB8ZwVLX676/yrzBgRXDwKUuxMEGYI3BqS7hwVVHpcGB8O3AepxZQLYIXUDARVjB1JDNwYPjvMBFFvLAcAV8wVTaWMHFopXBBWofwaXK38Ew+8LBsBlJweS18sASBiLBKkDGPz8Lq8COZwDBSk8cwTcWW8Hi95ZB1e2yQYd9z8CEQGVBAE/AwKaQpsHiTtpAOqjwwHTKUUB11bBBQL8HQeUA+0AvB57AtweAwC9N+sB1tXxBIQM8wCLcisEekzPBo/iowDi/LMGZSYTBzOCnweV2CEFKjpvAxQSFwMG5BcE/JirBaTkhwTO4NMEb7BTBCEi5wE9vMEDu84BBsHgHwcQrf0G0o2XB/kBGQboT5UCBwf9A7b8jwMMnxECQimZBmYymQRhLc0EOjcXAl1bPP5ASlMAl3OC+qWeJwRh5RMGQXf2/+OlfwQ98h8H+Fw7B6+4fwQEhgsEvgzhBBY6QwQycuEEkDmnB/XNYwTxXnsHmTM1AVOQPwWaL7kA+m12/EG35QBM7bEFk98Y/u9WmwZfRIcEjGCHBaHsSwBQRs0G6usdBRNX0P1aZwD9v9JDBx/3WwW9fIEH2+7/B/8olwfEPI8HTkVvBxlYlQBa+KD+/iUHB2KMQQCFmCMD6Xz7BVSSSwHRcfsARJVpBTyutQXN5pMC3px1BHcfAwUW+0MHGjAlB6tTMQbFjAsFjpjtAsPVWQXIztj/ch07BfuCVwBX95cAOkHjBLV1BPeX46sAHwJ5BMbe2wP4aZsE7WwLBwMe9wUK2fsDL0x/BCAUTwQ==",
          "dtype": "f4"
         },
         "yaxis": "y"
        },
        {
         "hovertemplate": "color=Major Suburban<br>x=%{x}<br>y=%{y}<extra></extra>",
         "legendgroup": "Major Suburban",
         "marker": {
          "color": "#FFA15A",
          "symbol": "circle"
         },
         "mode": "markers",
         "name": "Major Suburban",
         "showlegend": true,
         "type": "scattergl",
         "x": {
          "bdata": "BDoKwY4vK8FEclVCusNdQj5gVkKshudBqEA4QswXp0FV1ztCPssSP/CcOMGmOY/B47sYwb4ohkHWePPAwT/ewFdmlkGsZGJBrpnoQZVyB8Iv7wZCYbjgwMgY2UGfvmI/xsb+wXy3dcFu2ghCAKhIQkGDXkLFOhVC7mmMwTI3SUGgIozBuc4PQpQv5EF14R1CoErgP+d7S0CllIJB4hAkQoO6wkFJ7wzBEPA0wQsJScBEW/VAyWwcQh4UbEEHBYZBDcScwXxqB0Lr+O/BvuGWQSIHPMEoyxTBShyNwdesvsHz541BbT33wbm+nkBuMO5BlSnMwRMEzMFtc5HBMBroQejs/b7oao/BhhGbwT6qGsG/iyVCsIXUwPImA8J6ezJA6zT4wdpKokD7u99BrF4AwhxzMkLUV+3BAcaVwSUBzcE=",
          "dtype": "f4"
         },
         "xaxis": "x",
         "y": {
          "bdata": "1/S6wGXjpMEwz8vALuV4wMIZnsAUeOXAN9eowNO8wD9HGKDAVa7jwNHokcFWDYrB8lGSwVkLh7++no9BS1rJQfKKakG1FLU/wYwRQFXn5sEaauM/EsvcQSu55UA0CGS/5m/cwZEVjsFz9xFAXJHKwNa2scAb3TnBA/ISwd/bXEEw7qTBUrNWQKcnG0GEmArAuU2XwHGFl8DuvUzBlw8NvxyDC7+/CU3BMkCMwX/HKcFskPXAEgt/wNkHlkHUQsDAyueuwSksS0CRIeDB0phGwTiJVD+Ic3m/5xeQwcJZycEJIkHB+g/TwYP+Hr6tWkRB3vC0wbrdo8HxfwnBEr4nQedUj0EZ9ePAwXO0wNdoMj9g7Ni/2cAwwRAE6cGAiI+/89jnwadhBsEYNYw/ZkvowTRq/r++edfB7PinweX0x8E=",
          "dtype": "f4"
         },
         "yaxis": "y"
        },
        {
         "hovertemplate": "color=Non-metropolitan Fast Growing<br>x=%{x}<br>y=%{y}<extra></extra>",
         "legendgroup": "Non-metropolitan Fast Growing",
         "marker": {
          "color": "#19d3f3",
          "symbol": "circle"
         },
         "mode": "markers",
         "name": "Non-metropolitan Fast Growing",
         "showlegend": true,
         "type": "scattergl",
         "x": {
          "bdata": "z44LQf+cIkKOp73BjgrHwQNH80FwhxbBqATQwVFp7sGWUOJA57YywVziuMEDT9TBqDTUwVek5MFsBSbB/Yr1wa8TysEgwp3B1Wf7wGvc5cFtm5w/0iBaQr4D48E/jbVBHJiIQXIU4MFL9gXC1SoQwXAFfMGoAf7BivTPP4eR1cF8f5/BTkKVwQ==",
          "dtype": "f4"
         },
         "xaxis": "x",
         "y": {
          "bdata": "wZHOwJ58k79aBA/BYOu2wfWbNcGqJZvAMyDAwbz2zcHFzaC+ErMqv8nwD8EFHBbBkA2hwUQhGEGvWwLB1f4oQP1lHkHSstRBDPpYwesxj8GGHGTAmeCPwHSfLsF0XVnB6mBXQQjgzcENlw0+CQGnQdlD3EF61rzB8YD8wD+VwkE4OYhAjUbAwA==",
          "dtype": "f4"
         },
         "yaxis": "y"
        },
        {
         "hovertemplate": "color=Other Central City<br>x=%{x}<br>y=%{y}<extra></extra>",
         "legendgroup": "Other Central City",
         "marker": {
          "color": "#FF6692",
          "symbol": "circle"
         },
         "mode": "markers",
         "name": "Other Central City",
         "showlegend": true,
         "type": "scattergl",
         "x": {
          "bdata": "nwvMwOj3bEGWJLfBUrvWQWDdV0JV+f3Bh4QewCv6K8GvSdpBO3TSwdm5FcHHHyfAZ3tJQUZZQ0Edls1AUCftQNf2CMFspv1BaMJNQvCgXkLoSF9Ccp6vwJ+ilcFHtnpBOQC0QRsE8kHyHo1BZlYNwWkHBUIBqYbBm9EVQRZGk8EWbNLBng1UQZakA0EKjYhBLngtQpPNPL9bN0nA",
          "dtype": "f4"
         },
         "xaxis": "x",
         "y": {
          "bdata": "Omv6QKjov8B/PS/BZmjUQJ+T1cAGm9TBuWBwwWQ2CcH9sy7Bs+yxwVZK/cBj3C7Bm0k/PpEGjkF2M05BpLqLQb2Pk8FnjfG/yisAwX21n8CRbsjAfJ6fQWr3ccHbDHNBCUvwP86jLkEBKlvBghJawWBz6cDC4h7B2/YUQbAGkcH5Eq3BVpVvQR/wGEH67+vA8/UuwdkeBUHDxU7B",
          "dtype": "f4"
         },
         "yaxis": "y"
        },
        {
         "hovertemplate": "color=Major Urban<br>x=%{x}<br>y=%{y}<extra></extra>",
         "legendgroup": "Major Urban",
         "marker": {
          "color": "#B6E880",
          "symbol": "circle"
         },
         "mode": "markers",
         "name": "Major Urban",
         "showlegend": true,
         "type": "scattergl",
         "x": {
          "bdata": "7GA9Qp+Oh0Fv6J9BL7wHQpfmFUJbEjFCciAiQmJR5kEscUNBpIT3QXf4KEE=",
          "dtype": "f4"
         },
         "xaxis": "x",
         "y": {
          "bdata": "5TE7wJTRPcEthkzB9iyTQPjE08CIfBbB2+Yawe0VxUBbBktBhATpQPlJBsE=",
          "dtype": "f4"
         },
         "yaxis": "y"
        }
       ],
       "layout": {
        "legend": {
         "title": {
          "text": "TEA Description"
         },
         "tracegroupgap": 0
        },
        "margin": {
         "t": 60
        },
        "template": {
         "data": {
          "bar": [
           {
            "error_x": {
             "color": "#2a3f5f"
            },
            "error_y": {
             "color": "#2a3f5f"
            },
            "marker": {
             "line": {
              "color": "#E5ECF6",
              "width": 0.5
             },
             "pattern": {
              "fillmode": "overlay",
              "size": 10,
              "solidity": 0.2
             }
            },
            "type": "bar"
           }
          ],
          "barpolar": [
           {
            "marker": {
             "line": {
              "color": "#E5ECF6",
              "width": 0.5
             },
             "pattern": {
              "fillmode": "overlay",
              "size": 10,
              "solidity": 0.2
             }
            },
            "type": "barpolar"
           }
          ],
          "carpet": [
           {
            "aaxis": {
             "endlinecolor": "#2a3f5f",
             "gridcolor": "white",
             "linecolor": "white",
             "minorgridcolor": "white",
             "startlinecolor": "#2a3f5f"
            },
            "baxis": {
             "endlinecolor": "#2a3f5f",
             "gridcolor": "white",
             "linecolor": "white",
             "minorgridcolor": "white",
             "startlinecolor": "#2a3f5f"
            },
            "type": "carpet"
           }
          ],
          "choropleth": [
           {
            "colorbar": {
             "outlinewidth": 0,
             "ticks": ""
            },
            "type": "choropleth"
           }
          ],
          "contour": [
           {
            "colorbar": {
             "outlinewidth": 0,
             "ticks": ""
            },
            "colorscale": [
             [
              0,
              "#0d0887"
             ],
             [
              0.1111111111111111,
              "#46039f"
             ],
             [
              0.2222222222222222,
              "#7201a8"
             ],
             [
              0.3333333333333333,
              "#9c179e"
             ],
             [
              0.4444444444444444,
              "#bd3786"
             ],
             [
              0.5555555555555556,
              "#d8576b"
             ],
             [
              0.6666666666666666,
              "#ed7953"
             ],
             [
              0.7777777777777778,
              "#fb9f3a"
             ],
             [
              0.8888888888888888,
              "#fdca26"
             ],
             [
              1,
              "#f0f921"
             ]
            ],
            "type": "contour"
           }
          ],
          "contourcarpet": [
           {
            "colorbar": {
             "outlinewidth": 0,
             "ticks": ""
            },
            "type": "contourcarpet"
           }
          ],
          "heatmap": [
           {
            "colorbar": {
             "outlinewidth": 0,
             "ticks": ""
            },
            "colorscale": [
             [
              0,
              "#0d0887"
             ],
             [
              0.1111111111111111,
              "#46039f"
             ],
             [
              0.2222222222222222,
              "#7201a8"
             ],
             [
              0.3333333333333333,
              "#9c179e"
             ],
             [
              0.4444444444444444,
              "#bd3786"
             ],
             [
              0.5555555555555556,
              "#d8576b"
             ],
             [
              0.6666666666666666,
              "#ed7953"
             ],
             [
              0.7777777777777778,
              "#fb9f3a"
             ],
             [
              0.8888888888888888,
              "#fdca26"
             ],
             [
              1,
              "#f0f921"
             ]
            ],
            "type": "heatmap"
           }
          ],
          "histogram": [
           {
            "marker": {
             "pattern": {
              "fillmode": "overlay",
              "size": 10,
              "solidity": 0.2
             }
            },
            "type": "histogram"
           }
          ],
          "histogram2d": [
           {
            "colorbar": {
             "outlinewidth": 0,
             "ticks": ""
            },
            "colorscale": [
             [
              0,
              "#0d0887"
             ],
             [
              0.1111111111111111,
              "#46039f"
             ],
             [
              0.2222222222222222,
              "#7201a8"
             ],
             [
              0.3333333333333333,
              "#9c179e"
             ],
             [
              0.4444444444444444,
              "#bd3786"
             ],
             [
              0.5555555555555556,
              "#d8576b"
             ],
             [
              0.6666666666666666,
              "#ed7953"
             ],
             [
              0.7777777777777778,
              "#fb9f3a"
             ],
             [
              0.8888888888888888,
              "#fdca26"
             ],
             [
              1,
              "#f0f921"
             ]
            ],
            "type": "histogram2d"
           }
          ],
          "histogram2dcontour": [
           {
            "colorbar": {
             "outlinewidth": 0,
             "ticks": ""
            },
            "colorscale": [
             [
              0,
              "#0d0887"
             ],
             [
              0.1111111111111111,
              "#46039f"
             ],
             [
              0.2222222222222222,
              "#7201a8"
             ],
             [
              0.3333333333333333,
              "#9c179e"
             ],
             [
              0.4444444444444444,
              "#bd3786"
             ],
             [
              0.5555555555555556,
              "#d8576b"
             ],
             [
              0.6666666666666666,
              "#ed7953"
             ],
             [
              0.7777777777777778,
              "#fb9f3a"
             ],
             [
              0.8888888888888888,
              "#fdca26"
             ],
             [
              1,
              "#f0f921"
             ]
            ],
            "type": "histogram2dcontour"
           }
          ],
          "mesh3d": [
           {
            "colorbar": {
             "outlinewidth": 0,
             "ticks": ""
            },
            "type": "mesh3d"
           }
          ],
          "parcoords": [
           {
            "line": {
             "colorbar": {
              "outlinewidth": 0,
              "ticks": ""
             }
            },
            "type": "parcoords"
           }
          ],
          "pie": [
           {
            "automargin": true,
            "type": "pie"
           }
          ],
          "scatter": [
           {
            "fillpattern": {
             "fillmode": "overlay",
             "size": 10,
             "solidity": 0.2
            },
            "type": "scatter"
           }
          ],
          "scatter3d": [
           {
            "line": {
             "colorbar": {
              "outlinewidth": 0,
              "ticks": ""
             }
            },
            "marker": {
             "colorbar": {
              "outlinewidth": 0,
              "ticks": ""
             }
            },
            "type": "scatter3d"
           }
          ],
          "scattercarpet": [
           {
            "marker": {
             "colorbar": {
              "outlinewidth": 0,
              "ticks": ""
             }
            },
            "type": "scattercarpet"
           }
          ],
          "scattergeo": [
           {
            "marker": {
             "colorbar": {
              "outlinewidth": 0,
              "ticks": ""
             }
            },
            "type": "scattergeo"
           }
          ],
          "scattergl": [
           {
            "marker": {
             "colorbar": {
              "outlinewidth": 0,
              "ticks": ""
             }
            },
            "type": "scattergl"
           }
          ],
          "scattermap": [
           {
            "marker": {
             "colorbar": {
              "outlinewidth": 0,
              "ticks": ""
             }
            },
            "type": "scattermap"
           }
          ],
          "scattermapbox": [
           {
            "marker": {
             "colorbar": {
              "outlinewidth": 0,
              "ticks": ""
             }
            },
            "type": "scattermapbox"
           }
          ],
          "scatterpolar": [
           {
            "marker": {
             "colorbar": {
              "outlinewidth": 0,
              "ticks": ""
             }
            },
            "type": "scatterpolar"
           }
          ],
          "scatterpolargl": [
           {
            "marker": {
             "colorbar": {
              "outlinewidth": 0,
              "ticks": ""
             }
            },
            "type": "scatterpolargl"
           }
          ],
          "scatterternary": [
           {
            "marker": {
             "colorbar": {
              "outlinewidth": 0,
              "ticks": ""
             }
            },
            "type": "scatterternary"
           }
          ],
          "surface": [
           {
            "colorbar": {
             "outlinewidth": 0,
             "ticks": ""
            },
            "colorscale": [
             [
              0,
              "#0d0887"
             ],
             [
              0.1111111111111111,
              "#46039f"
             ],
             [
              0.2222222222222222,
              "#7201a8"
             ],
             [
              0.3333333333333333,
              "#9c179e"
             ],
             [
              0.4444444444444444,
              "#bd3786"
             ],
             [
              0.5555555555555556,
              "#d8576b"
             ],
             [
              0.6666666666666666,
              "#ed7953"
             ],
             [
              0.7777777777777778,
              "#fb9f3a"
             ],
             [
              0.8888888888888888,
              "#fdca26"
             ],
             [
              1,
              "#f0f921"
             ]
            ],
            "type": "surface"
           }
          ],
          "table": [
           {
            "cells": {
             "fill": {
              "color": "#EBF0F8"
             },
             "line": {
              "color": "white"
             }
            },
            "header": {
             "fill": {
              "color": "#C8D4E3"
             },
             "line": {
              "color": "white"
             }
            },
            "type": "table"
           }
          ]
         },
         "layout": {
          "annotationdefaults": {
           "arrowcolor": "#2a3f5f",
           "arrowhead": 0,
           "arrowwidth": 1
          },
          "autotypenumbers": "strict",
          "coloraxis": {
           "colorbar": {
            "outlinewidth": 0,
            "ticks": ""
           }
          },
          "colorscale": {
           "diverging": [
            [
             0,
             "#8e0152"
            ],
            [
             0.1,
             "#c51b7d"
            ],
            [
             0.2,
             "#de77ae"
            ],
            [
             0.3,
             "#f1b6da"
            ],
            [
             0.4,
             "#fde0ef"
            ],
            [
             0.5,
             "#f7f7f7"
            ],
            [
             0.6,
             "#e6f5d0"
            ],
            [
             0.7,
             "#b8e186"
            ],
            [
             0.8,
             "#7fbc41"
            ],
            [
             0.9,
             "#4d9221"
            ],
            [
             1,
             "#276419"
            ]
           ],
           "sequential": [
            [
             0,
             "#0d0887"
            ],
            [
             0.1111111111111111,
             "#46039f"
            ],
            [
             0.2222222222222222,
             "#7201a8"
            ],
            [
             0.3333333333333333,
             "#9c179e"
            ],
            [
             0.4444444444444444,
             "#bd3786"
            ],
            [
             0.5555555555555556,
             "#d8576b"
            ],
            [
             0.6666666666666666,
             "#ed7953"
            ],
            [
             0.7777777777777778,
             "#fb9f3a"
            ],
            [
             0.8888888888888888,
             "#fdca26"
            ],
            [
             1,
             "#f0f921"
            ]
           ],
           "sequentialminus": [
            [
             0,
             "#0d0887"
            ],
            [
             0.1111111111111111,
             "#46039f"
            ],
            [
             0.2222222222222222,
             "#7201a8"
            ],
            [
             0.3333333333333333,
             "#9c179e"
            ],
            [
             0.4444444444444444,
             "#bd3786"
            ],
            [
             0.5555555555555556,
             "#d8576b"
            ],
            [
             0.6666666666666666,
             "#ed7953"
            ],
            [
             0.7777777777777778,
             "#fb9f3a"
            ],
            [
             0.8888888888888888,
             "#fdca26"
            ],
            [
             1,
             "#f0f921"
            ]
           ]
          },
          "colorway": [
           "#636efa",
           "#EF553B",
           "#00cc96",
           "#ab63fa",
           "#FFA15A",
           "#19d3f3",
           "#FF6692",
           "#B6E880",
           "#FF97FF",
           "#FECB52"
          ],
          "font": {
           "color": "#2a3f5f"
          },
          "geo": {
           "bgcolor": "white",
           "lakecolor": "white",
           "landcolor": "#E5ECF6",
           "showlakes": true,
           "showland": true,
           "subunitcolor": "white"
          },
          "hoverlabel": {
           "align": "left"
          },
          "hovermode": "closest",
          "mapbox": {
           "style": "light"
          },
          "paper_bgcolor": "white",
          "plot_bgcolor": "#E5ECF6",
          "polar": {
           "angularaxis": {
            "gridcolor": "white",
            "linecolor": "white",
            "ticks": ""
           },
           "bgcolor": "#E5ECF6",
           "radialaxis": {
            "gridcolor": "white",
            "linecolor": "white",
            "ticks": ""
           }
          },
          "scene": {
           "xaxis": {
            "backgroundcolor": "#E5ECF6",
            "gridcolor": "white",
            "gridwidth": 2,
            "linecolor": "white",
            "showbackground": true,
            "ticks": "",
            "zerolinecolor": "white"
           },
           "yaxis": {
            "backgroundcolor": "#E5ECF6",
            "gridcolor": "white",
            "gridwidth": 2,
            "linecolor": "white",
            "showbackground": true,
            "ticks": "",
            "zerolinecolor": "white"
           },
           "zaxis": {
            "backgroundcolor": "#E5ECF6",
            "gridcolor": "white",
            "gridwidth": 2,
            "linecolor": "white",
            "showbackground": true,
            "ticks": "",
            "zerolinecolor": "white"
           }
          },
          "shapedefaults": {
           "line": {
            "color": "#2a3f5f"
           }
          },
          "ternary": {
           "aaxis": {
            "gridcolor": "white",
            "linecolor": "white",
            "ticks": ""
           },
           "baxis": {
            "gridcolor": "white",
            "linecolor": "white",
            "ticks": ""
           },
           "bgcolor": "#E5ECF6",
           "caxis": {
            "gridcolor": "white",
            "linecolor": "white",
            "ticks": ""
           }
          },
          "title": {
           "x": 0.05
          },
          "xaxis": {
           "automargin": true,
           "gridcolor": "white",
           "linecolor": "white",
           "ticks": "",
           "title": {
            "standoff": 15
           },
           "zerolinecolor": "white",
           "zerolinewidth": 2
          },
          "yaxis": {
           "automargin": true,
           "gridcolor": "white",
           "linecolor": "white",
           "ticks": "",
           "title": {
            "standoff": 15
           },
           "zerolinecolor": "white",
           "zerolinewidth": 2
          }
         }
        },
        "title": {
         "text": "t-SNE visualization of DISTPROF by TEA Description, 2020"
        },
        "xaxis": {
         "anchor": "y",
         "domain": [
          0,
          1
         ],
         "title": {
          "text": "First t-SNE"
         }
        },
        "yaxis": {
         "anchor": "x",
         "domain": [
          0,
          1
         ],
         "title": {
          "text": "Second t-SNE"
         }
        }
       }
      }
     },
     "metadata": {},
     "output_type": "display_data"
    }
   ],
   "source": [
    "# Example use of t-SNE with all numeric/student population columns\n",
    "run_tsne(2020, 2, no_charter_data, column1 = \"Student Membership: Hispanic Percent\", column2 = \"Student Membership: Econ Disadv Percent\")\n",
    "\n",
    "# Based on using TEA Description alone, there appears to be no clear clustering pattern with district type, \n",
    "# though there are some clusters here and there (but include districts of all kinds)"
   ]
  },
  {
   "cell_type": "code",
   "execution_count": 167,
   "metadata": {},
   "outputs": [
    {
     "data": {
      "application/vnd.plotly.v1+json": {
       "config": {
        "plotlyServerURL": "https://plot.ly"
       },
       "data": [
        {
         "hovertemplate": "x=%{x}<br>y=%{y}<br>color=%{marker.color}<extra></extra>",
         "legendgroup": "",
         "marker": {
          "color": {
           "bdata": "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",
           "dtype": "f8"
          },
          "coloraxis": "coloraxis",
          "symbol": "circle"
         },
         "mode": "markers",
         "name": "",
         "showlegend": false,
         "type": "scattergl",
         "x": {
          "bdata": "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",
          "dtype": "f4"
         },
         "xaxis": "x",
         "y": {
          "bdata": "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",
          "dtype": "f4"
         },
         "yaxis": "y"
        }
       ],
       "layout": {
        "coloraxis": {
         "colorbar": {
          "title": {
           "text": "color"
          }
         },
         "colorscale": [
          [
           0,
           "#0d0887"
          ],
          [
           0.1111111111111111,
           "#46039f"
          ],
          [
           0.2222222222222222,
           "#7201a8"
          ],
          [
           0.3333333333333333,
           "#9c179e"
          ],
          [
           0.4444444444444444,
           "#bd3786"
          ],
          [
           0.5555555555555556,
           "#d8576b"
          ],
          [
           0.6666666666666666,
           "#ed7953"
          ],
          [
           0.7777777777777778,
           "#fb9f3a"
          ],
          [
           0.8888888888888888,
           "#fdca26"
          ],
          [
           1,
           "#f0f921"
          ]
         ]
        },
        "legend": {
         "title": {
          "text": " Student Membership: White Percent"
         },
         "tracegroupgap": 0
        },
        "margin": {
         "t": 60
        },
        "template": {
         "data": {
          "bar": [
           {
            "error_x": {
             "color": "#2a3f5f"
            },
            "error_y": {
             "color": "#2a3f5f"
            },
            "marker": {
             "line": {
              "color": "#E5ECF6",
              "width": 0.5
             },
             "pattern": {
              "fillmode": "overlay",
              "size": 10,
              "solidity": 0.2
             }
            },
            "type": "bar"
           }
          ],
          "barpolar": [
           {
            "marker": {
             "line": {
              "color": "#E5ECF6",
              "width": 0.5
             },
             "pattern": {
              "fillmode": "overlay",
              "size": 10,
              "solidity": 0.2
             }
            },
            "type": "barpolar"
           }
          ],
          "carpet": [
           {
            "aaxis": {
             "endlinecolor": "#2a3f5f",
             "gridcolor": "white",
             "linecolor": "white",
             "minorgridcolor": "white",
             "startlinecolor": "#2a3f5f"
            },
            "baxis": {
             "endlinecolor": "#2a3f5f",
             "gridcolor": "white",
             "linecolor": "white",
             "minorgridcolor": "white",
             "startlinecolor": "#2a3f5f"
            },
            "type": "carpet"
           }
          ],
          "choropleth": [
           {
            "colorbar": {
             "outlinewidth": 0,
             "ticks": ""
            },
            "type": "choropleth"
           }
          ],
          "contour": [
           {
            "colorbar": {
             "outlinewidth": 0,
             "ticks": ""
            },
            "colorscale": [
             [
              0,
              "#0d0887"
             ],
             [
              0.1111111111111111,
              "#46039f"
             ],
             [
              0.2222222222222222,
              "#7201a8"
             ],
             [
              0.3333333333333333,
              "#9c179e"
             ],
             [
              0.4444444444444444,
              "#bd3786"
             ],
             [
              0.5555555555555556,
              "#d8576b"
             ],
             [
              0.6666666666666666,
              "#ed7953"
             ],
             [
              0.7777777777777778,
              "#fb9f3a"
             ],
             [
              0.8888888888888888,
              "#fdca26"
             ],
             [
              1,
              "#f0f921"
             ]
            ],
            "type": "contour"
           }
          ],
          "contourcarpet": [
           {
            "colorbar": {
             "outlinewidth": 0,
             "ticks": ""
            },
            "type": "contourcarpet"
           }
          ],
          "heatmap": [
           {
            "colorbar": {
             "outlinewidth": 0,
             "ticks": ""
            },
            "colorscale": [
             [
              0,
              "#0d0887"
             ],
             [
              0.1111111111111111,
              "#46039f"
             ],
             [
              0.2222222222222222,
              "#7201a8"
             ],
             [
              0.3333333333333333,
              "#9c179e"
             ],
             [
              0.4444444444444444,
              "#bd3786"
             ],
             [
              0.5555555555555556,
              "#d8576b"
             ],
             [
              0.6666666666666666,
              "#ed7953"
             ],
             [
              0.7777777777777778,
              "#fb9f3a"
             ],
             [
              0.8888888888888888,
              "#fdca26"
             ],
             [
              1,
              "#f0f921"
             ]
            ],
            "type": "heatmap"
           }
          ],
          "histogram": [
           {
            "marker": {
             "pattern": {
              "fillmode": "overlay",
              "size": 10,
              "solidity": 0.2
             }
            },
            "type": "histogram"
           }
          ],
          "histogram2d": [
           {
            "colorbar": {
             "outlinewidth": 0,
             "ticks": ""
            },
            "colorscale": [
             [
              0,
              "#0d0887"
             ],
             [
              0.1111111111111111,
              "#46039f"
             ],
             [
              0.2222222222222222,
              "#7201a8"
             ],
             [
              0.3333333333333333,
              "#9c179e"
             ],
             [
              0.4444444444444444,
              "#bd3786"
             ],
             [
              0.5555555555555556,
              "#d8576b"
             ],
             [
              0.6666666666666666,
              "#ed7953"
             ],
             [
              0.7777777777777778,
              "#fb9f3a"
             ],
             [
              0.8888888888888888,
              "#fdca26"
             ],
             [
              1,
              "#f0f921"
             ]
            ],
            "type": "histogram2d"
           }
          ],
          "histogram2dcontour": [
           {
            "colorbar": {
             "outlinewidth": 0,
             "ticks": ""
            },
            "colorscale": [
             [
              0,
              "#0d0887"
             ],
             [
              0.1111111111111111,
              "#46039f"
             ],
             [
              0.2222222222222222,
              "#7201a8"
             ],
             [
              0.3333333333333333,
              "#9c179e"
             ],
             [
              0.4444444444444444,
              "#bd3786"
             ],
             [
              0.5555555555555556,
              "#d8576b"
             ],
             [
              0.6666666666666666,
              "#ed7953"
             ],
             [
              0.7777777777777778,
              "#fb9f3a"
             ],
             [
              0.8888888888888888,
              "#fdca26"
             ],
             [
              1,
              "#f0f921"
             ]
            ],
            "type": "histogram2dcontour"
           }
          ],
          "mesh3d": [
           {
            "colorbar": {
             "outlinewidth": 0,
             "ticks": ""
            },
            "type": "mesh3d"
           }
          ],
          "parcoords": [
           {
            "line": {
             "colorbar": {
              "outlinewidth": 0,
              "ticks": ""
             }
            },
            "type": "parcoords"
           }
          ],
          "pie": [
           {
            "automargin": true,
            "type": "pie"
           }
          ],
          "scatter": [
           {
            "fillpattern": {
             "fillmode": "overlay",
             "size": 10,
             "solidity": 0.2
            },
            "type": "scatter"
           }
          ],
          "scatter3d": [
           {
            "line": {
             "colorbar": {
              "outlinewidth": 0,
              "ticks": ""
             }
            },
            "marker": {
             "colorbar": {
              "outlinewidth": 0,
              "ticks": ""
             }
            },
            "type": "scatter3d"
           }
          ],
          "scattercarpet": [
           {
            "marker": {
             "colorbar": {
              "outlinewidth": 0,
              "ticks": ""
             }
            },
            "type": "scattercarpet"
           }
          ],
          "scattergeo": [
           {
            "marker": {
             "colorbar": {
              "outlinewidth": 0,
              "ticks": ""
             }
            },
            "type": "scattergeo"
           }
          ],
          "scattergl": [
           {
            "marker": {
             "colorbar": {
              "outlinewidth": 0,
              "ticks": ""
             }
            },
            "type": "scattergl"
           }
          ],
          "scattermap": [
           {
            "marker": {
             "colorbar": {
              "outlinewidth": 0,
              "ticks": ""
             }
            },
            "type": "scattermap"
           }
          ],
          "scattermapbox": [
           {
            "marker": {
             "colorbar": {
              "outlinewidth": 0,
              "ticks": ""
             }
            },
            "type": "scattermapbox"
           }
          ],
          "scatterpolar": [
           {
            "marker": {
             "colorbar": {
              "outlinewidth": 0,
              "ticks": ""
             }
            },
            "type": "scatterpolar"
           }
          ],
          "scatterpolargl": [
           {
            "marker": {
             "colorbar": {
              "outlinewidth": 0,
              "ticks": ""
             }
            },
            "type": "scatterpolargl"
           }
          ],
          "scatterternary": [
           {
            "marker": {
             "colorbar": {
              "outlinewidth": 0,
              "ticks": ""
             }
            },
            "type": "scatterternary"
           }
          ],
          "surface": [
           {
            "colorbar": {
             "outlinewidth": 0,
             "ticks": ""
            },
            "colorscale": [
             [
              0,
              "#0d0887"
             ],
             [
              0.1111111111111111,
              "#46039f"
             ],
             [
              0.2222222222222222,
              "#7201a8"
             ],
             [
              0.3333333333333333,
              "#9c179e"
             ],
             [
              0.4444444444444444,
              "#bd3786"
             ],
             [
              0.5555555555555556,
              "#d8576b"
             ],
             [
              0.6666666666666666,
              "#ed7953"
             ],
             [
              0.7777777777777778,
              "#fb9f3a"
             ],
             [
              0.8888888888888888,
              "#fdca26"
             ],
             [
              1,
              "#f0f921"
             ]
            ],
            "type": "surface"
           }
          ],
          "table": [
           {
            "cells": {
             "fill": {
              "color": "#EBF0F8"
             },
             "line": {
              "color": "white"
             }
            },
            "header": {
             "fill": {
              "color": "#C8D4E3"
             },
             "line": {
              "color": "white"
             }
            },
            "type": "table"
           }
          ]
         },
         "layout": {
          "annotationdefaults": {
           "arrowcolor": "#2a3f5f",
           "arrowhead": 0,
           "arrowwidth": 1
          },
          "autotypenumbers": "strict",
          "coloraxis": {
           "colorbar": {
            "outlinewidth": 0,
            "ticks": ""
           }
          },
          "colorscale": {
           "diverging": [
            [
             0,
             "#8e0152"
            ],
            [
             0.1,
             "#c51b7d"
            ],
            [
             0.2,
             "#de77ae"
            ],
            [
             0.3,
             "#f1b6da"
            ],
            [
             0.4,
             "#fde0ef"
            ],
            [
             0.5,
             "#f7f7f7"
            ],
            [
             0.6,
             "#e6f5d0"
            ],
            [
             0.7,
             "#b8e186"
            ],
            [
             0.8,
             "#7fbc41"
            ],
            [
             0.9,
             "#4d9221"
            ],
            [
             1,
             "#276419"
            ]
           ],
           "sequential": [
            [
             0,
             "#0d0887"
            ],
            [
             0.1111111111111111,
             "#46039f"
            ],
            [
             0.2222222222222222,
             "#7201a8"
            ],
            [
             0.3333333333333333,
             "#9c179e"
            ],
            [
             0.4444444444444444,
             "#bd3786"
            ],
            [
             0.5555555555555556,
             "#d8576b"
            ],
            [
             0.6666666666666666,
             "#ed7953"
            ],
            [
             0.7777777777777778,
             "#fb9f3a"
            ],
            [
             0.8888888888888888,
             "#fdca26"
            ],
            [
             1,
             "#f0f921"
            ]
           ],
           "sequentialminus": [
            [
             0,
             "#0d0887"
            ],
            [
             0.1111111111111111,
             "#46039f"
            ],
            [
             0.2222222222222222,
             "#7201a8"
            ],
            [
             0.3333333333333333,
             "#9c179e"
            ],
            [
             0.4444444444444444,
             "#bd3786"
            ],
            [
             0.5555555555555556,
             "#d8576b"
            ],
            [
             0.6666666666666666,
             "#ed7953"
            ],
            [
             0.7777777777777778,
             "#fb9f3a"
            ],
            [
             0.8888888888888888,
             "#fdca26"
            ],
            [
             1,
             "#f0f921"
            ]
           ]
          },
          "colorway": [
           "#636efa",
           "#EF553B",
           "#00cc96",
           "#ab63fa",
           "#FFA15A",
           "#19d3f3",
           "#FF6692",
           "#B6E880",
           "#FF97FF",
           "#FECB52"
          ],
          "font": {
           "color": "#2a3f5f"
          },
          "geo": {
           "bgcolor": "white",
           "lakecolor": "white",
           "landcolor": "#E5ECF6",
           "showlakes": true,
           "showland": true,
           "subunitcolor": "white"
          },
          "hoverlabel": {
           "align": "left"
          },
          "hovermode": "closest",
          "mapbox": {
           "style": "light"
          },
          "paper_bgcolor": "white",
          "plot_bgcolor": "#E5ECF6",
          "polar": {
           "angularaxis": {
            "gridcolor": "white",
            "linecolor": "white",
            "ticks": ""
           },
           "bgcolor": "#E5ECF6",
           "radialaxis": {
            "gridcolor": "white",
            "linecolor": "white",
            "ticks": ""
           }
          },
          "scene": {
           "xaxis": {
            "backgroundcolor": "#E5ECF6",
            "gridcolor": "white",
            "gridwidth": 2,
            "linecolor": "white",
            "showbackground": true,
            "ticks": "",
            "zerolinecolor": "white"
           },
           "yaxis": {
            "backgroundcolor": "#E5ECF6",
            "gridcolor": "white",
            "gridwidth": 2,
            "linecolor": "white",
            "showbackground": true,
            "ticks": "",
            "zerolinecolor": "white"
           },
           "zaxis": {
            "backgroundcolor": "#E5ECF6",
            "gridcolor": "white",
            "gridwidth": 2,
            "linecolor": "white",
            "showbackground": true,
            "ticks": "",
            "zerolinecolor": "white"
           }
          },
          "shapedefaults": {
           "line": {
            "color": "#2a3f5f"
           }
          },
          "ternary": {
           "aaxis": {
            "gridcolor": "white",
            "linecolor": "white",
            "ticks": ""
           },
           "baxis": {
            "gridcolor": "white",
            "linecolor": "white",
            "ticks": ""
           },
           "bgcolor": "#E5ECF6",
           "caxis": {
            "gridcolor": "white",
            "linecolor": "white",
            "ticks": ""
           }
          },
          "title": {
           "x": 0.05
          },
          "xaxis": {
           "automargin": true,
           "gridcolor": "white",
           "linecolor": "white",
           "ticks": "",
           "title": {
            "standoff": 15
           },
           "zerolinecolor": "white",
           "zerolinewidth": 2
          },
          "yaxis": {
           "automargin": true,
           "gridcolor": "white",
           "linecolor": "white",
           "ticks": "",
           "title": {
            "standoff": 15
           },
           "zerolinecolor": "white",
           "zerolinewidth": 2
          }
         }
        },
        "title": {
         "text": "t-SNE visualization of DISTPROF by  Student Membership: White Percent, 2020"
        },
        "xaxis": {
         "anchor": "y",
         "domain": [
          0,
          1
         ],
         "title": {
          "text": "First t-SNE"
         }
        },
        "yaxis": {
         "anchor": "x",
         "domain": [
          0,
          1
         ],
         "title": {
          "text": "Second t-SNE"
         }
        }
       }
      }
     },
     "metadata": {},
     "output_type": "display_data"
    }
   ],
   "source": [
    "# Use custom y-variable - for example, Hispanic percent\n",
    "\n",
    "run_tsne(2020, \n",
    "         2, \n",
    "         no_charter_data, \n",
    "         column1 = \"Student Membership: Hispanic Percent\", column2 = \"Student Membership: Econ Disadv Percent\", \n",
    "       y_var = 'District 2020 Student Membership: White Percent')"
   ]
  },
  {
   "cell_type": "markdown",
   "metadata": {},
   "source": [
    "# Exploratory Data Analysis"
   ]
  },
  {
   "cell_type": "markdown",
   "metadata": {},
   "source": [
    "## Distribution of Variables"
   ]
  },
  {
   "cell_type": "code",
   "execution_count": 168,
   "metadata": {},
   "outputs": [
    {
     "data": {
      "image/png": "[encoded data removed]",
      "text/plain": [
       "<Figure size 640x480 with 1 Axes>"
      ]
     },
     "metadata": {},
     "output_type": "display_data"
    }
   ],
   "source": [
    "import matplotlib.pyplot as plt\n",
    "\n",
    "def generate_demographic_histogram(year, variable, data_dict):\n",
    "    \"\"\"\n",
    "    Function that creates a single histogram for a particular year of DISTPROF data. \n",
    "    \"\"\"\n",
    "    col = data_dict[year][f\"District {year} {variable}\"]\n",
    "    plt.hist(col)\n",
    "    plt.title(f\"Distribution of {variable} for Texas School Districts, {year}\")\n",
    "    plt.xlabel(variable)\n",
    "    plt.ylabel(\"Frequency\")\n",
    "    plt.show()\n",
    "\n",
    "generate_demographic_histogram(2020, \"Student Membership: African American Percent\", no_charter_data)"
   ]
  },
  {
   "cell_type": "markdown",
   "metadata": {},
   "source": [
    "# Barplots to Visualize Top N School Districts for a Particular Demographic"
   ]
  },
  {
   "cell_type": "code",
   "execution_count": 169,
   "metadata": {},
   "outputs": [
    {
     "data": {
      "image/png": "[encoded data removed]"
     },
     "metadata": {
      "image/png": {
       "height": 480,
       "width": 640
      }
     },
     "output_type": "display_data"
    }
   ],
   "source": [
    "from plotnine import geom_col, ggplot, aes, scale_x_discrete, labs, theme, element_text\n",
    "\n",
    "def generate_demographic_barplot(year, variable, data_dict, n_districts = 10):\n",
    "    \"\"\"\n",
    "    Function that generates a barplot showing the top N school districts for a specified demographic in a particular year. \n",
    "\n",
    "    Inputs:\n",
    "    - year: a 4 digit integer representing a year, YYYY, such as 2020\n",
    "    - variable: a string representing the demographic you want plotted\n",
    "    - data_dict: a dictionary with key-value pairs where the key is a year, and the value is a DISTPROF dataset as a dataframe\n",
    "    - n_districts: an integer representing the number of districts you want plotted. Default value is 10. \n",
    "    \"\"\"\n",
    "    data = data_dict[year][[f\"District {year} {variable}\", \"District\"]].sort_values(by = f\"District {year} {variable}\", ascending = False).head(n_districts)\n",
    "    plot = (ggplot(data) + \n",
    "            aes(x = \"District\", y = f\"District {year} {variable}\") + \n",
    "            geom_col(fill = \"green\") + \n",
    "            theme(legend_position = 'none') + \n",
    "            labs(title = f\"{variable} In Texas School Districts, {year}\",\n",
    "                 x = \"District Name\",\n",
    "                 y = variable) + \n",
    "            theme(axis_text_x = element_text(angle = 45, hjust = 1),\n",
    "                  title = element_text(size = 10)))\n",
    "    return(plot)\n",
    "\n",
    "generate_demographic_barplot(2020, \"Student Membership: African American Percent\", no_charter_data)\n"
   ]
  }
 ],
 "metadata": {
  "kernelspec": {
   "display_name": "herc",
   "language": "python",
   "name": "python3"
  },
  "language_info": {
   "codemirror_mode": {
    "name": "ipython",
    "version": 3
   },
   "file_extension": ".py",
   "mimetype": "text/x-python",
   "name": "python",
   "nbconvert_exporter": "python",
   "pygments_lexer": "ipython3",
   "version": "3.10.16"
  }
 },
 "nbformat": 4,
 "nbformat_minor": 2
}
